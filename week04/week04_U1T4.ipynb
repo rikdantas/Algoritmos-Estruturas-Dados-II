{
  "cells": [
    {
      "cell_type": "markdown",
      "metadata": {
        "id": "view-in-github",
        "colab_type": "text"
      },
      "source": [
        "<a href=\"https://colab.research.google.com/github/rikdantas/Algoritmos-Estruturas-Dados-II/blob/main/week04/week04_U1T4.ipynb\" target=\"_parent\"><img src=\"https://colab.research.google.com/assets/colab-badge.svg\" alt=\"Open In Colab\"/></a>"
      ]
    },
    {
      "cell_type": "markdown",
      "source": [
        "# **Desafio: Construindo Consultas Rápidas em um CSV**\n",
        "### Aluno: Paulo Ricardo Dantas\n",
        "### Matrícula: 20230000789\n",
        "\n",
        "### Objetivo:\n",
        "**Este projeto tem como objetivo estender o projeto guiado da Dataquest \"Building Fast Queries on a CSV\".**\n",
        "### Etapas:\n",
        "- Funcionalidades Adicionais:\n",
        "\n",
        "- Análise de Complexidade:\n",
        "\n",
        "- Documentação:\n"
      ],
      "metadata": {
        "id": "iM8Nw8vPnwgI"
      }
    },
    {
      "cell_type": "markdown",
      "source": [
        "Note que o código utilizado, como já mencionado no README, vai ser reaproveitado do projeto guiado que foi feito na plataforma Dataquest, porém vão ser deixadas apenas as partes principais: A leitura do arquivo de dados (DataSet) usando o método open e a biblioteca csv; A última versão da classe Ïnventory\" com os métodos implementados."
      ],
      "metadata": {
        "id": "bvjzWxIyqmEC"
      }
    },
    {
      "cell_type": "code",
      "source": [
        "# Importando bibliotecas\n",
        "import csv\n",
        "import pprint\n",
        "import re"
      ],
      "metadata": {
        "id": "AWWqaaRSqDhU"
      },
      "execution_count": 32,
      "outputs": []
    },
    {
      "cell_type": "code",
      "execution_count": 33,
      "metadata": {
        "id": "49qi74GXLEYT"
      },
      "outputs": [],
      "source": [
        "with open(\"./laptops.csv\", 'r') as file:\n",
        "    reader = csv.reader(file)\n",
        "    rows = list(reader)\n",
        "    header = rows[0]\n",
        "    rows = rows[1:]"
      ]
    },
    {
      "cell_type": "code",
      "source": [
        "def row_price(row):\n",
        "    return row[-1]\n",
        "\n",
        "class Inventory():\n",
        "\n",
        "    def __init__(self, csv_filename):\n",
        "        with open(csv_filename) as file:\n",
        "            reader = csv.reader(file)\n",
        "            rows = list(reader)\n",
        "        self.header = rows[0]\n",
        "        self.rows = rows[1:]\n",
        "\n",
        "        for row in self.rows:\n",
        "            row[-1] = int(row[-1])\n",
        "\n",
        "        self.id_to_row = {}\n",
        "        for row in self.rows:\n",
        "            self.id_to_row[row[0]] = row\n",
        "\n",
        "        self.prices = set()\n",
        "        for row in self.rows:\n",
        "            self.prices.add(row[-1])\n",
        "\n",
        "        self.rows_by_price = sorted(self.rows, key=row_price)\n",
        "\n",
        "    def get_laptop_from_id(self, laptop_id):\n",
        "        for row in self.rows:\n",
        "            if row[0] == laptop_id:\n",
        "                return row\n",
        "        return None\n",
        "\n",
        "    def get_laptop_from_id_fast(self, laptop_id):\n",
        "        if laptop_id in self.id_to_row:\n",
        "            return self.id_to_row[laptop_id]\n",
        "        return None\n",
        "\n",
        "    def check_promotion_dollars(self, dollars):\n",
        "        for row in self.rows:\n",
        "            if row[-1] == dollars:\n",
        "                return True\n",
        "        for row2 in self.rows:\n",
        "            for row3 in self.rows:\n",
        "                if row2[-1] + row3[-1] == dollars:\n",
        "                    return True\n",
        "        return False\n",
        "\n",
        "    def check_promotion_dollars_fast(self, dollars):\n",
        "        if dollars in self.prices:\n",
        "            return True\n",
        "        for price in self.prices:\n",
        "            if dollars - price in self.prices:\n",
        "                return True\n",
        "        return False\n",
        "\n",
        "    def find_laptop_with_price(self, target_price):\n",
        "        range_start = 0\n",
        "        range_end = len(self.rows_by_price) - 1\n",
        "        while range_start < range_end:\n",
        "            range_middle = (range_end + range_start) // 2\n",
        "            value = self.rows_by_price[range_middle][-1]\n",
        "            if value == target_price:\n",
        "                return range_middle\n",
        "            elif value < target_price:\n",
        "                range_start = range_middle + 1\n",
        "            else:\n",
        "                range_end = range_middle - 1\n",
        "        if self.rows_by_price[range_start][-1] != target_price:\n",
        "            return -1\n",
        "        return range_start\n",
        "\n",
        "    def find_first_laptop_more_expensive(self, target_price):\n",
        "        range_start = 0\n",
        "        range_end = len(self.rows_by_price) - 1\n",
        "        while range_start < range_end:\n",
        "            range_middle = (range_end + range_start) // 2\n",
        "            price = self.rows_by_price[range_middle][-1]\n",
        "            if price > target_price:\n",
        "                range_end = range_middle\n",
        "            else:\n",
        "                range_start = range_middle + 1\n",
        "        if self.rows_by_price[range_start][-1] <= target_price:\n",
        "            return -1\n",
        "        return range_start\n",
        "\n",
        "    def find_laptops_in_price_range(self, min_price, max_price):\n",
        "        laptops_in_range = []\n",
        "\n",
        "        for row in self.rows:\n",
        "            price = row[-1]\n",
        "            if min_price <= price <= max_price:\n",
        "                laptop_info = {}\n",
        "                for i in range(len(self.header)):\n",
        "                    laptop_info[self.header[i]] = row[i]\n",
        "                laptops_in_range.append(laptop_info)\n",
        "\n",
        "        return laptops_in_range\n",
        "\n",
        "    def find_cheapest_laptop_with_specifications(self, capacity):\n",
        "        # Use expressões regulares para extrair o tamanho da RAM e a capacidade de armazenamento\n",
        "        match = re.match(r'(\\d+)\\s*GB\\s+(\\d+)\\s*([A-Za-z\\s]+)', capacity)\n",
        "        if match:\n",
        "            ram_size = int(match.group(1))\n",
        "            storage_size = int(match.group(2))\n",
        "            storage_type = match.group(3).strip()\n",
        "        else:\n",
        "            print(\"Capacidade inválida\")\n",
        "            return None\n",
        "\n",
        "        # Agora você pode percorrer os dados da instância da classe e encontrar o laptop mais barato com as especificações dadas\n",
        "        cheapest_laptop = None\n",
        "        cheapest_price = float('inf')  # Inicialize com um valor alto\n",
        "\n",
        "        for laptop in self.rows:\n",
        "            # Verifique se a RAM e a capacidade de armazenamento estão presentes nas especificações do laptop\n",
        "            if str(ram_size) in laptop[7] and str(storage_size) in laptop[8] and storage_type.lower() in laptop[8].lower():\n",
        "                price = laptop[-1]\n",
        "                if price < cheapest_price:\n",
        "                    cheapest_laptop = laptop\n",
        "                    cheapest_price = price\n",
        "\n",
        "        if cheapest_laptop:\n",
        "            return cheapest_laptop\n",
        "        else:\n",
        "            print(f\"Nenhum laptop encontrado com as especificações: {capacity}\")\n",
        "            return None\n",
        "\n",
        "        return cheapest_laptop"
      ],
      "metadata": {
        "id": "GgzkRknani2c"
      },
      "execution_count": 34,
      "outputs": []
    },
    {
      "cell_type": "markdown",
      "source": [
        "## [1/3] Funcionalidades Adicionais\n",
        "- Implemente as seguintes funcionalidades adicionais:\n",
        "  1. Consulta por faixa de preço (`min_price` e `max_price`).\n",
        "  2. Consulta para encontrar o laptop mais barato com características específicas (ex: 8GB de RAM e HD de 256GB)."
      ],
      "metadata": {
        "id": "Wy2qdos6smZa"
      }
    },
    {
      "cell_type": "markdown",
      "source": [
        "OBS: Para fazer com que as novas features funcionem no nosso código, elas precisam ser adicionadas dentro das classes, então aqui vou deixar apenas destacado os códigos implementados.\n",
        "\n",
        "**Código para consultar por faixa de preço:**\n",
        "\n",
        "```\n",
        "def find_laptops_in_price_range(self, min_price, max_price):\n",
        "    laptops_in_range = []\n",
        "\n",
        "    for row in self.rows:\n",
        "        price = row[-1]\n",
        "        if min_price <= price <= max_price:\n",
        "            laptop_info = {}\n",
        "            for i in range(len(self.header)):\n",
        "                laptop_info[self.header[i]] = row[i]\n",
        "            laptops_in_range.append(laptop_info)\n",
        "\n",
        "    return laptops_in_range\n",
        "```\n",
        "\n"
      ],
      "metadata": {
        "id": "2u9yyI7Hu4sF"
      }
    },
    {
      "cell_type": "code",
      "source": [
        "# Testando a função find_laptops_in_price_range\n",
        "inventory = Inventory(\"laptops.csv\")\n",
        "# Para melhor visualização, vai ser utilizado a biblioteca pprint, para imprimir em coluna ao invés de linha\n",
        "pp = pprint.PrettyPrinter()\n",
        "pp.pprint(inventory.find_laptops_in_price_range(1100, 1110))"
      ],
      "metadata": {
        "id": "Z3mYbOgU0W7f",
        "outputId": "400cec13-c163-4481-e9f9-fa1de9b48011",
        "colab": {
          "base_uri": "https://localhost:8080/"
        }
      },
      "execution_count": 35,
      "outputs": [
        {
          "output_type": "stream",
          "name": "stdout",
          "text": [
            "[{'Company': 'HP',\n",
            "  'Cpu': 'Intel Core i7 8550U 1.8GHz',\n",
            "  'Gpu': 'Intel UHD Graphics 620',\n",
            "  'Id': '8036099',\n",
            "  'Inches': '13.3',\n",
            "  'Memory': '512GB SSD',\n",
            "  'OpSys': 'Windows 10',\n",
            "  'Price': 1103,\n",
            "  'Product': 'ProBook 430',\n",
            "  'Ram': '8GB',\n",
            "  'ScreenResolution': 'Full HD 1920x1080',\n",
            "  'TypeName': 'Notebook',\n",
            "  'Weight': '1.49kg'},\n",
            " {'Company': 'Lenovo',\n",
            "  'Cpu': 'Intel Core i7 7700HQ 2.8GHz',\n",
            "  'Gpu': 'Nvidia GeForce GTX 1050M',\n",
            "  'Id': '7157825',\n",
            "  'Inches': '15.6',\n",
            "  'Memory': '128GB SSD +  1TB HDD',\n",
            "  'OpSys': 'Windows 10',\n",
            "  'Price': 1109,\n",
            "  'Product': 'Legion Y520-15IKBN',\n",
            "  'Ram': '8GB',\n",
            "  'ScreenResolution': 'IPS Panel Full HD 1920x1080',\n",
            "  'TypeName': 'Gaming',\n",
            "  'Weight': '2.5kg'},\n",
            " {'Company': 'Toshiba',\n",
            "  'Cpu': 'Intel Core i5 6200U 2.3GHz',\n",
            "  'Gpu': 'Intel HD Graphics 520',\n",
            "  'Id': '5342965',\n",
            "  'Inches': '14',\n",
            "  'Memory': '128GB SSD',\n",
            "  'OpSys': 'Windows 10',\n",
            "  'Price': 1105,\n",
            "  'Product': 'Tecra Z40-C-12X',\n",
            "  'Ram': '4GB',\n",
            "  'ScreenResolution': 'IPS Panel Full HD 1920x1080',\n",
            "  'TypeName': 'Notebook',\n",
            "  'Weight': '1.47kg'}]\n"
          ]
        }
      ]
    },
    {
      "cell_type": "code",
      "source": [
        "# Exemplo quando o a função não acha nenhum notebook na faixa de preço passada como parametro\n",
        "pp.pprint(inventory.find_laptops_in_price_range(100, 170))"
      ],
      "metadata": {
        "id": "MpQpxdniz8xY",
        "outputId": "204b1326-3ee4-4586-d2d9-f8b4aba08730",
        "colab": {
          "base_uri": "https://localhost:8080/"
        }
      },
      "execution_count": 36,
      "outputs": [
        {
          "output_type": "stream",
          "name": "stdout",
          "text": [
            "[]\n"
          ]
        }
      ]
    },
    {
      "cell_type": "markdown",
      "source": [
        "**Código para consultar o notebook mais barato, dada as especificações:**\n",
        "\n",
        "```\n",
        "def find_cheapest_laptop_with_specifications(self, capacity):\n",
        "        match = re.match(r'(\\d+)\\s*GB\\s+(\\d+)\\s*([A-Za-z\\s]+)', capacity)\n",
        "        if match:\n",
        "            ram_size = int(match.group(1))\n",
        "            storage_size = int(match.group(2))\n",
        "            storage_type = match.group(3).strip()\n",
        "        else:\n",
        "            print(\"Capacidade inválida\")\n",
        "            return None\n",
        "\n",
        "        cheapest_laptop = None\n",
        "        cheapest_price = float('inf')  # Inicialize com um valor alto\n",
        "\n",
        "        for laptop in self.rows:\n",
        "            if str(ram_size) in laptop[7] and str(storage_size) in laptop[8] and storage_type.lower() in laptop[8].lower():\n",
        "                price = laptop[-1]\n",
        "                if price < cheapest_price:\n",
        "                    cheapest_laptop = laptop\n",
        "                    cheapest_price = price\n",
        "\n",
        "        if cheapest_laptop:\n",
        "            return cheapest_laptop\n",
        "        else:\n",
        "            print(f\"Nenhum laptop encontrado com as especificações: {capacity}\")\n",
        "            return None\n",
        "\n",
        "        return cheapest_laptop\n",
        "```\n"
      ],
      "metadata": {
        "id": "VoNp2mV3wXh4"
      }
    },
    {
      "cell_type": "code",
      "source": [
        "# Testando a função find_cheapest_laptop_with_specifications\n",
        "# Para melhor visualização, vai ser utilizado a biblioteca pprint, para imprimir em coluna ao invés de linha\n",
        "pp.pprint(inventory.find_cheapest_laptop_with_specifications(\"16 GB 1 TB SSD\"))"
      ],
      "metadata": {
        "id": "vVCmvenojz9O",
        "outputId": "02f67980-7575-4932-d91c-4c4748685cab",
        "colab": {
          "base_uri": "https://localhost:8080/"
        }
      },
      "execution_count": 37,
      "outputs": [
        {
          "output_type": "stream",
          "name": "stdout",
          "text": [
            "['2666332',\n",
            " 'Lenovo',\n",
            " 'Yoga 900-13ISK',\n",
            " '2 in 1 Convertible',\n",
            " '13.3',\n",
            " 'IPS Panel Quad HD+ / Touchscreen 3200x1800',\n",
            " 'Intel Core i7 6560U 2.2GHz',\n",
            " '16GB',\n",
            " '1TB SSD',\n",
            " 'Intel Iris Graphics 540',\n",
            " 'Windows 10',\n",
            " '1.3kg',\n",
            " 1799]\n"
          ]
        }
      ]
    },
    {
      "cell_type": "code",
      "source": [
        "# Exemplo quando o a função não acha nenhum notebook com as especificações passadas como parametro\n",
        "pp.pprint(inventory.find_cheapest_laptop_with_specifications(\"10 GB 1 TB SSD\"))"
      ],
      "metadata": {
        "id": "88aYMbpg0OZB",
        "outputId": "5e7f33d3-0ccc-4393-d921-43a1c7719939",
        "colab": {
          "base_uri": "https://localhost:8080/"
        }
      },
      "execution_count": 38,
      "outputs": [
        {
          "output_type": "stream",
          "name": "stdout",
          "text": [
            "Nenhum laptop encontrado com as especificações: 10 GB 1 TB SSD\n",
            "None\n"
          ]
        }
      ]
    },
    {
      "cell_type": "markdown",
      "source": [
        "## [2/3] Análise de Complexidade\n",
        "- Realize a análise de complexidade para as funcionalidades implementadas, focando em Big O, Big θ, e Big Ω. Documente suas descobertas no arquivo README do repositório."
      ],
      "metadata": {
        "id": "E6JXKDPOs_Pt"
      }
    },
    {
      "cell_type": "markdown",
      "source": [
        "## [3/3] Documentação\n",
        "- Adicione comentários e documentação ao código para explicar o que cada parte faz."
      ],
      "metadata": {
        "id": "IPex1R-WtLzg"
      }
    }
  ],
  "metadata": {
    "kernelspec": {
      "display_name": "Python 3",
      "language": "python",
      "name": "python3"
    },
    "language_info": {
      "codemirror_mode": {
        "name": "ipython",
        "version": 3
      },
      "file_extension": ".py",
      "mimetype": "text/x-python",
      "name": "python",
      "nbconvert_exporter": "python",
      "pygments_lexer": "ipython3",
      "version": "3.8.2"
    },
    "colab": {
      "provenance": [],
      "include_colab_link": true
    }
  },
  "nbformat": 4,
  "nbformat_minor": 0
}