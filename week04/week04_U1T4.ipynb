{
  "cells": [
    {
      "cell_type": "markdown",
      "metadata": {
        "id": "view-in-github",
        "colab_type": "text"
      },
      "source": [
        "<a href=\"https://colab.research.google.com/github/rikdantas/Algoritmos-Estruturas-Dados-II/blob/main/week04/week04_U1T4.ipynb\" target=\"_parent\"><img src=\"https://colab.research.google.com/assets/colab-badge.svg\" alt=\"Open In Colab\"/></a>"
      ]
    },
    {
      "cell_type": "markdown",
      "source": [
        "# **Desafio: Construindo Consultas Rápidas em um CSV**\n",
        "### Aluno: Paulo Ricardo Dantas\n",
        "### Matrícula: 20230000789\n",
        "\n",
        "### Objetivo:\n",
        "**Este projeto tem como objetivo estender o projeto guiado da Dataquest \"Building Fast Queries on a CSV\".**\n",
        "### Etapas:\n",
        "- Funcionalidades Adicionais:\n",
        "\n",
        "- Análise de Complexidade:\n",
        "\n",
        "- Documentação:\n"
      ],
      "metadata": {
        "id": "iM8Nw8vPnwgI"
      }
    },
    {
      "cell_type": "markdown",
      "source": [
        "Note que o código utilizado, como já mencionado no README, vai ser reaproveitado do projeto guiado que foi feito na plataforma Dataquest, porém vão ser deixadas apenas as partes principais: A leitura do arquivo de dados (DataSet) usando o método open e a biblioteca csv; A última versão da classe Ïnventory\" com os métodos implementados."
      ],
      "metadata": {
        "id": "bvjzWxIyqmEC"
      }
    },
    {
      "cell_type": "code",
      "source": [
        "# Importando bibliotecas\n",
        "import csv"
      ],
      "metadata": {
        "id": "AWWqaaRSqDhU"
      },
      "execution_count": 3,
      "outputs": []
    },
    {
      "cell_type": "code",
      "execution_count": 4,
      "metadata": {
        "id": "49qi74GXLEYT"
      },
      "outputs": [],
      "source": [
        "with open(\"./laptops.csv\", 'r') as file:\n",
        "    reader = csv.reader(file)\n",
        "    rows = list(reader)\n",
        "    header = rows[0]\n",
        "    rows = rows[1:]"
      ]
    },
    {
      "cell_type": "code",
      "source": [
        "def row_price(row):\n",
        "    return row[-1]\n",
        "\n",
        "class Inventory():\n",
        "\n",
        "    def __init__(self, csv_filename):\n",
        "        with open(csv_filename) as file:\n",
        "            reader = csv.reader(file)\n",
        "            rows = list(reader)\n",
        "        self.header = rows[0]\n",
        "        self.rows = rows[1:]\n",
        "\n",
        "        for row in self.rows:\n",
        "            row[-1] = int(row[-1])\n",
        "\n",
        "        self.id_to_row = {}\n",
        "        for row in self.rows:\n",
        "            self.id_to_row[row[0]] = row\n",
        "\n",
        "        self.prices = set()\n",
        "        for row in self.rows:\n",
        "            self.prices.add(row[-1])\n",
        "\n",
        "        self.rows_by_price = sorted(self.rows, key=row_price)\n",
        "\n",
        "    def get_laptop_from_id(self, laptop_id):\n",
        "        for row in self.rows:\n",
        "            if row[0] == laptop_id:\n",
        "                return row\n",
        "        return None\n",
        "\n",
        "    def get_laptop_from_id_fast(self, laptop_id):\n",
        "        if laptop_id in self.id_to_row:\n",
        "            return self.id_to_row[laptop_id]\n",
        "        return None\n",
        "\n",
        "    def check_promotion_dollars(self, dollars):\n",
        "        for row in self.rows:\n",
        "            if row[-1] == dollars:\n",
        "                return True\n",
        "        for row2 in self.rows:\n",
        "            for row3 in self.rows:\n",
        "                if row2[-1] + row3[-1] == dollars:\n",
        "                    return True\n",
        "        return False\n",
        "\n",
        "    def check_promotion_dollars_fast(self, dollars):\n",
        "        if dollars in self.prices:\n",
        "            return True\n",
        "        for price in self.prices:\n",
        "            if dollars - price in self.prices:\n",
        "                return True\n",
        "        return False\n",
        "\n",
        "    def find_laptop_with_price(self, target_price):\n",
        "        range_start = 0\n",
        "        range_end = len(self.rows_by_price) - 1\n",
        "        while range_start < range_end:\n",
        "            range_middle = (range_end + range_start) // 2\n",
        "            value = self.rows_by_price[range_middle][-1]\n",
        "            if value == target_price:\n",
        "                return range_middle\n",
        "            elif value < target_price:\n",
        "                range_start = range_middle + 1\n",
        "            else:\n",
        "                range_end = range_middle - 1\n",
        "        if self.rows_by_price[range_start][-1] != target_price:\n",
        "            return -1\n",
        "        return range_start\n",
        "\n",
        "    def find_first_laptop_more_expensive(self, target_price):\n",
        "        range_start = 0\n",
        "        range_end = len(self.rows_by_price) - 1\n",
        "        while range_start < range_end:\n",
        "            range_middle = (range_end + range_start) // 2\n",
        "            price = self.rows_by_price[range_middle][-1]\n",
        "            if price > target_price:\n",
        "                range_end = range_middle\n",
        "            else:\n",
        "                range_start = range_middle + 1\n",
        "        if self.rows_by_price[range_start][-1] <= target_price:\n",
        "            return -1\n",
        "        return range_start"
      ],
      "metadata": {
        "id": "GgzkRknani2c"
      },
      "execution_count": 5,
      "outputs": []
    }
  ],
  "metadata": {
    "kernelspec": {
      "display_name": "Python 3",
      "language": "python",
      "name": "python3"
    },
    "language_info": {
      "codemirror_mode": {
        "name": "ipython",
        "version": 3
      },
      "file_extension": ".py",
      "mimetype": "text/x-python",
      "name": "python",
      "nbconvert_exporter": "python",
      "pygments_lexer": "ipython3",
      "version": "3.8.2"
    },
    "colab": {
      "provenance": [],
      "toc_visible": true,
      "include_colab_link": true
    }
  },
  "nbformat": 4,
  "nbformat_minor": 0
}