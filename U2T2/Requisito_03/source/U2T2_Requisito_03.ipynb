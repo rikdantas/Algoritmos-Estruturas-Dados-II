{
  "nbformat": 4,
  "nbformat_minor": 0,
  "metadata": {
    "colab": {
      "provenance": [],
      "toc_visible": true,
      "authorship_tag": "ABX9TyNeBQ1/FwutNC7F/aflvVeQ",
      "include_colab_link": true
    },
    "kernelspec": {
      "name": "python3",
      "display_name": "Python 3"
    },
    "language_info": {
      "name": "python"
    }
  },
  "cells": [
    {
      "cell_type": "markdown",
      "metadata": {
        "id": "view-in-github",
        "colab_type": "text"
      },
      "source": [
        "<a href=\"https://colab.research.google.com/github/rikdantas/Algoritmos-Estruturas-Dados-II/blob/main/U2T2/Requisito_03/source/U2T2_Requisito_03.ipynb\" target=\"_parent\"><img src=\"https://colab.research.google.com/assets/colab-badge.svg\" alt=\"Open In Colab\"/></a>"
      ]
    },
    {
      "cell_type": "markdown",
      "source": [
        "# Requisito 03\n",
        "### Aluno: Paulo Ricardo Dantas\n",
        "### Matrícula: 20230000789\n",
        "\n",
        "### Objetivo:\n",
        "**Fazer uma tabela em markdown com algumas propriedades de cada uma das redes**"
      ],
      "metadata": {
        "id": "v93fI3P5vqiu"
      }
    },
    {
      "cell_type": "markdown",
      "source": [
        "Antes de começar a colher os atributos de cada rede, vai ser necessário importar as redes assim como foi feito nos outros requisitos.\n",
        "\n",
        "Os atributos requisitados são: Quantidade de vértices, Quantidade de arestas, degree_assortativity_coefficient, Quantidade de componentes conectados, Tamanho do componente gigante (GCC) e Coeficiente de clustering."
      ],
      "metadata": {
        "id": "stOMWFJov8wr"
      }
    },
    {
      "cell_type": "code",
      "execution_count": 2,
      "metadata": {
        "id": "goqwfqLdvYsg"
      },
      "outputs": [],
      "source": [
        "# Importando bibliotecas\n",
        "\n",
        "import networkx as nx"
      ]
    },
    {
      "cell_type": "code",
      "source": [
        "# Baixando os datasets das 5 redes escolhidas\n",
        "!wget https://snap.stanford.edu/data/web-Google.txt.gz\n",
        "!wget https://snap.stanford.edu/data/wiki-Vote.txt.gz\n",
        "!wget https://snap.stanford.edu/data/email-Enron.txt.gz\n",
        "!wget https://snap.stanford.edu/data/web-Stanford.txt.gz\n",
        "!wget https://snap.stanford.edu/data/amazon0302.txt.gz"
      ],
      "metadata": {
        "id": "srIA2J64wYdu",
        "outputId": "761e201e-828d-4cb1-cea3-2f1e162d67f1",
        "colab": {
          "base_uri": "https://localhost:8080/"
        }
      },
      "execution_count": 3,
      "outputs": [
        {
          "output_type": "stream",
          "name": "stdout",
          "text": [
            "--2023-10-31 16:49:07--  https://snap.stanford.edu/data/web-Google.txt.gz\n",
            "Resolving snap.stanford.edu (snap.stanford.edu)... 171.64.75.80\n",
            "Connecting to snap.stanford.edu (snap.stanford.edu)|171.64.75.80|:443... connected.\n",
            "HTTP request sent, awaiting response... 200 OK\n",
            "Length: 21168784 (20M) [application/x-gzip]\n",
            "Saving to: ‘web-Google.txt.gz’\n",
            "\n",
            "web-Google.txt.gz   100%[===================>]  20.19M  19.9MB/s    in 1.0s    \n",
            "\n",
            "2023-10-31 16:49:09 (19.9 MB/s) - ‘web-Google.txt.gz’ saved [21168784/21168784]\n",
            "\n",
            "--2023-10-31 16:49:09--  https://snap.stanford.edu/data/wiki-Vote.txt.gz\n",
            "Resolving snap.stanford.edu (snap.stanford.edu)... 171.64.75.80\n",
            "Connecting to snap.stanford.edu (snap.stanford.edu)|171.64.75.80|:443... connected.\n",
            "HTTP request sent, awaiting response... 200 OK\n",
            "Length: 290339 (284K) [application/x-gzip]\n",
            "Saving to: ‘wiki-Vote.txt.gz’\n",
            "\n",
            "wiki-Vote.txt.gz    100%[===================>] 283.53K  1.64MB/s    in 0.2s    \n",
            "\n",
            "2023-10-31 16:49:09 (1.64 MB/s) - ‘wiki-Vote.txt.gz’ saved [290339/290339]\n",
            "\n",
            "--2023-10-31 16:49:09--  https://snap.stanford.edu/data/email-Enron.txt.gz\n",
            "Resolving snap.stanford.edu (snap.stanford.edu)... 171.64.75.80\n",
            "Connecting to snap.stanford.edu (snap.stanford.edu)|171.64.75.80|:443... connected.\n",
            "HTTP request sent, awaiting response... 200 OK\n",
            "Length: 1055993 (1.0M) [application/x-gzip]\n",
            "Saving to: ‘email-Enron.txt.gz’\n",
            "\n",
            "email-Enron.txt.gz  100%[===================>]   1.01M  3.16MB/s    in 0.3s    \n",
            "\n",
            "2023-10-31 16:49:09 (3.16 MB/s) - ‘email-Enron.txt.gz’ saved [1055993/1055993]\n",
            "\n",
            "--2023-10-31 16:49:09--  https://snap.stanford.edu/data/web-Stanford.txt.gz\n",
            "Resolving snap.stanford.edu (snap.stanford.edu)... 171.64.75.80\n",
            "Connecting to snap.stanford.edu (snap.stanford.edu)|171.64.75.80|:443... connected.\n",
            "HTTP request sent, awaiting response... 200 OK\n",
            "Length: 8908378 (8.5M) [application/x-gzip]\n",
            "Saving to: ‘web-Stanford.txt.gz’\n",
            "\n",
            "web-Stanford.txt.gz 100%[===================>]   8.50M  12.2MB/s    in 0.7s    \n",
            "\n",
            "2023-10-31 16:49:10 (12.2 MB/s) - ‘web-Stanford.txt.gz’ saved [8908378/8908378]\n",
            "\n",
            "--2023-10-31 16:49:10--  https://snap.stanford.edu/data/amazon0302.txt.gz\n",
            "Resolving snap.stanford.edu (snap.stanford.edu)... 171.64.75.80\n",
            "Connecting to snap.stanford.edu (snap.stanford.edu)|171.64.75.80|:443... connected.\n",
            "HTTP request sent, awaiting response... 200 OK\n",
            "Length: 4664334 (4.4M) [application/x-gzip]\n",
            "Saving to: ‘amazon0302.txt.gz’\n",
            "\n",
            "amazon0302.txt.gz   100%[===================>]   4.45M  8.19MB/s    in 0.5s    \n",
            "\n",
            "2023-10-31 16:49:11 (8.19 MB/s) - ‘amazon0302.txt.gz’ saved [4664334/4664334]\n",
            "\n"
          ]
        }
      ]
    },
    {
      "cell_type": "code",
      "source": [
        "web_Google = nx.read_edgelist('web-Google.txt.gz', create_using=nx.DiGraph(), data=False)\n",
        "wiki_Vote = nx.read_edgelist('wiki-Vote.txt.gz', create_using=nx.DiGraph(), data=False)\n",
        "email_Enron = nx.read_edgelist('email-Enron.txt.gz', create_using=nx.Graph(), data=False)\n",
        "web_Stanford = nx.read_edgelist('web-Stanford.txt.gz', create_using=nx.DiGraph(), data=False)\n",
        "amazon0302 = nx.read_edgelist('amazon0302.txt.gz', create_using=nx.DiGraph(), data=False)"
      ],
      "metadata": {
        "id": "cpVmatXQwd_t"
      },
      "execution_count": 4,
      "outputs": []
    },
    {
      "cell_type": "markdown",
      "source": [
        "## Atributos web_Google\n"
      ],
      "metadata": {
        "id": "FvOMuNQnwnhL"
      }
    },
    {
      "cell_type": "code",
      "source": [
        "# Quantidade de vértices\n",
        "nodes_quantity = len(web_Google.nodes())\n",
        "print(f\"A quantidade de vértices da rede web_Google é {nodes_quantity}\")\n",
        "\n",
        "# Quantidade de arestas\n",
        "edges_quantity = len(web_Google.edges())\n",
        "print(f\"A quantidade de arestas da rede web_Google é {edges_quantity}\")\n",
        "\n",
        "# degree_assortativity_coefficient\n",
        "degree_assortativity = nx.degree_assortativity_coefficient(web_Google)\n",
        "print(f\"O degree_assortativity_coefficient da rede web_Google é {degree_assortativity}\")\n",
        "\n",
        "# Número de componentes conectados\n",
        "connected_components = nx.number_strongly_connected_components(web_Google)\n",
        "print(f\"O número de componentes conectados da rede web_Google é {connected_components}\")\n",
        "\n",
        "# Tamanho do GCC\n",
        "gcc = len(max(nx.strongly_connected_components(web_Google), key=len))\n",
        "print(f\"O tamanho do GCC da rede web_Google é {gcc}\")\n",
        "\n",
        "# Coeficiente de clustering\n",
        "clustering_coefficient = nx.average_clustering(web_Google)\n",
        "print(f\"O coeficiente de clustering da rede web_Google é {clustering_coefficient}\")\n"
      ],
      "metadata": {
        "colab": {
          "base_uri": "https://localhost:8080/"
        },
        "id": "UCRQCX1NwkLx",
        "outputId": "c20395f3-34f4-4b34-8322-b449b396e007"
      },
      "execution_count": 7,
      "outputs": [
        {
          "output_type": "stream",
          "name": "stdout",
          "text": [
            "A quantidade de vértices da rede web_Google é 875713\n",
            "A quantidade de arestas da rede web_Google é 5105039\n",
            "O degree_assortativity_coefficient da rede web_Google é -0.06520019402435487\n",
            "O número de componentes conectados da rede web_Google é 371764\n",
            "O tamanho do GCC da rede web_Google é 434818\n",
            "O coeficiente de clustering da rede web_Google é 0.3698306814797672\n"
          ]
        }
      ]
    },
    {
      "cell_type": "markdown",
      "source": [
        "## Atributos wiki_Vote\n"
      ],
      "metadata": {
        "id": "tiOnWZVPp4EO"
      }
    },
    {
      "cell_type": "code",
      "source": [
        "# Quantidade de vértices\n",
        "nodes_quantity = len(wiki_Vote.nodes())\n",
        "print(f\"A quantidade de vértices da rede wiki_Vote é {nodes_quantity}\")\n",
        "\n",
        "# Quantidade de arestas\n",
        "edges_quantity = len(wiki_Vote.edges())\n",
        "print(f\"A quantidade de arestas da rede wiki_Vote é {edges_quantity}\")\n",
        "\n",
        "# degree_assortativity_coefficient\n",
        "degree_assortativity = nx.degree_assortativity_coefficient(wiki_Vote)\n",
        "print(f\"O degree_assortativity_coefficient da rede wiki_Vote é {degree_assortativity}\")\n",
        "\n",
        "# Número de componentes conectados\n",
        "connected_components = nx.number_strongly_connected_components(wiki_Vote)\n",
        "print(f\"O número de componentes conectados da rede wiki_Vote é {connected_components}\")\n",
        "\n",
        "# Tamanho do GCC\n",
        "gcc = len(max(nx.strongly_connected_components(wiki_Vote), key=len))\n",
        "print(f\"O tamanho do GCC da rede wiki_Vote é {gcc}\")\n",
        "\n",
        "# Coeficiente de clustering\n",
        "clustering_coefficient = nx.average_clustering(wiki_Vote)\n",
        "print(f\"O coeficiente de clustering da rede wiki_Vote é {clustering_coefficient}\")\n"
      ],
      "metadata": {
        "id": "MFALi8hbqxc5",
        "outputId": "a49235e9-7ab6-4aa6-aedb-0f8408729062",
        "colab": {
          "base_uri": "https://localhost:8080/"
        }
      },
      "execution_count": 8,
      "outputs": [
        {
          "output_type": "stream",
          "name": "stdout",
          "text": [
            "A quantidade de vértices da rede wiki_Vote é 7115\n",
            "A quantidade de arestas da rede wiki_Vote é 103689\n",
            "O degree_assortativity_coefficient da rede wiki_Vote é -0.08324455771686787\n",
            "O número de componentes conectados da rede wiki_Vote é 5816\n",
            "O tamanho do GCC da rede wiki_Vote é 1300\n",
            "O coeficiente de clustering da rede wiki_Vote é 0.08156344522820935\n"
          ]
        }
      ]
    },
    {
      "cell_type": "markdown",
      "source": [
        "## Atributos email_Enron"
      ],
      "metadata": {
        "id": "zrGeScwMrAeE"
      }
    },
    {
      "cell_type": "code",
      "source": [
        "# Quantidade de vértices\n",
        "nodes_quantity = len(email_Enron.nodes())\n",
        "print(f\"A quantidade de vértices da rede email_Enron é {nodes_quantity}\")\n",
        "\n",
        "# Quantidade de arestas\n",
        "edges_quantity = len(email_Enron.edges())\n",
        "print(f\"A quantidade de arestas da rede email_Enron é {edges_quantity}\")\n",
        "\n",
        "# degree_assortativity_coefficient\n",
        "degree_assortativity = nx.degree_assortativity_coefficient(email_Enron)\n",
        "print(f\"O degree_assortativity_coefficient da rede email_Enron é {degree_assortativity}\")\n",
        "\n",
        "# Número de componentes conectados\n",
        "connected_components = nx.number_connected_components(email_Enron)\n",
        "print(f\"O número de componentes conectados da rede email_Enron é {connected_components}\")\n",
        "\n",
        "# Tamanho do GCC\n",
        "gcc = len(max(nx.connected_components(email_Enron), key=len))\n",
        "print(f\"O tamanho do GCC da rede email_Enron é {gcc}\")\n",
        "\n",
        "# Coeficiente de clustering\n",
        "clustering_coefficient = nx.average_clustering(email_Enron)\n",
        "print(f\"O coeficiente de clustering da rede email_Enron é {clustering_coefficient}\")\n"
      ],
      "metadata": {
        "id": "D_wopNY3rUtG",
        "outputId": "51666e70-f62d-4e83-c0ff-536119ca5db7",
        "colab": {
          "base_uri": "https://localhost:8080/"
        }
      },
      "execution_count": 9,
      "outputs": [
        {
          "output_type": "stream",
          "name": "stdout",
          "text": [
            "A quantidade de vértices da rede email_Enron é 36692\n",
            "A quantidade de arestas da rede email_Enron é 183831\n",
            "O degree_assortativity_coefficient da rede email_Enron é -0.11076403259610496\n",
            "O número de componentes conectados da rede email_Enron é 1065\n",
            "O tamanho do GCC da rede email_Enron é 33696\n",
            "O coeficiente de clustering da rede email_Enron é 0.49698255959950266\n"
          ]
        }
      ]
    },
    {
      "cell_type": "markdown",
      "source": [
        "## Atributos web_Stanford"
      ],
      "metadata": {
        "id": "RRuymKi9rnMg"
      }
    },
    {
      "cell_type": "code",
      "source": [
        "# Quantidade de vértices\n",
        "nodes_quantity = len(web_Stanford.nodes())\n",
        "print(f\"A quantidade de vértices da rede web_Stanford é {nodes_quantity}\")\n",
        "\n",
        "# Quantidade de arestas\n",
        "edges_quantity = len(web_Stanford.edges())\n",
        "print(f\"A quantidade de arestas da rede web_Stanford é {edges_quantity}\")\n",
        "\n",
        "# degree_assortativity_coefficient\n",
        "degree_assortativity = nx.degree_assortativity_coefficient(web_Stanford)\n",
        "print(f\"O degree_assortativity_coefficient da rede web_Stanford é {degree_assortativity}\")\n",
        "\n",
        "# Número de componentes conectados\n",
        "connected_components = nx.number_strongly_connected_components(web_Stanford)\n",
        "print(f\"O número de componentes conectados da rede web_Stanford é {connected_components}\")\n",
        "\n",
        "# Tamanho do GCC\n",
        "gcc = len(max(nx.strongly_connected_components(web_Stanford), key=len))\n",
        "print(f\"O tamanho do GCC da rede web_Stanford é {gcc}\")\n",
        "\n",
        "# Coeficiente de clustering\n",
        "clustering_coefficient = nx.average_clustering(web_Stanford)\n",
        "print(f\"O coeficiente de clustering da rede web_Stanford é {clustering_coefficient}\")\n"
      ],
      "metadata": {
        "id": "l2poYI2Drlfi",
        "outputId": "ea5681a6-7a06-4dd2-f36a-c16b282330f5",
        "colab": {
          "base_uri": "https://localhost:8080/",
          "height": 459
        }
      },
      "execution_count": 12,
      "outputs": [
        {
          "output_type": "stream",
          "name": "stdout",
          "text": [
            "A quantidade de vértices da rede web_Stanford é 281903\n",
            "A quantidade de arestas da rede web_Stanford é 2312497\n",
            "O degree_assortativity_coefficient da rede web_Stanford é -0.12201270653192699\n",
            "O número de componentes conectados da rede web_Stanford é 29914\n",
            "O tamanho do GCC da rede web_Stanford é 150532\n"
          ]
        },
        {
          "output_type": "error",
          "ename": "KeyboardInterrupt",
          "evalue": "ignored",
          "traceback": [
            "\u001b[0;31m---------------------------------------------------------------------------\u001b[0m",
            "\u001b[0;31mKeyboardInterrupt\u001b[0m                         Traceback (most recent call last)",
            "\u001b[0;32m<ipython-input-12-41bd66ac9164>\u001b[0m in \u001b[0;36m<cell line: 22>\u001b[0;34m()\u001b[0m\n\u001b[1;32m     20\u001b[0m \u001b[0;34m\u001b[0m\u001b[0m\n\u001b[1;32m     21\u001b[0m \u001b[0;31m# Coeficiente de clustering\u001b[0m\u001b[0;34m\u001b[0m\u001b[0;34m\u001b[0m\u001b[0m\n\u001b[0;32m---> 22\u001b[0;31m \u001b[0mclustering_coefficient\u001b[0m \u001b[0;34m=\u001b[0m \u001b[0mnx\u001b[0m\u001b[0;34m.\u001b[0m\u001b[0maverage_clustering\u001b[0m\u001b[0;34m(\u001b[0m\u001b[0mweb_Stanford\u001b[0m\u001b[0;34m)\u001b[0m\u001b[0;34m\u001b[0m\u001b[0;34m\u001b[0m\u001b[0m\n\u001b[0m\u001b[1;32m     23\u001b[0m \u001b[0mprint\u001b[0m\u001b[0;34m(\u001b[0m\u001b[0;34mf\"O coeficiente de clustering da rede web_Stanford é {clustering_coefficient}\"\u001b[0m\u001b[0;34m)\u001b[0m\u001b[0;34m\u001b[0m\u001b[0;34m\u001b[0m\u001b[0m\n",
            "\u001b[0;32m/usr/local/lib/python3.10/dist-packages/networkx/utils/backends.py\u001b[0m in \u001b[0;36m__call__\u001b[0;34m(self, backend, *args, **kwargs)\u001b[0m\n\u001b[1;32m    410\u001b[0m         \u001b[0;32mif\u001b[0m \u001b[0;32mnot\u001b[0m \u001b[0mbackends\u001b[0m\u001b[0;34m:\u001b[0m\u001b[0;34m\u001b[0m\u001b[0;34m\u001b[0m\u001b[0m\n\u001b[1;32m    411\u001b[0m             \u001b[0;31m# Fast path if no backends are installed\u001b[0m\u001b[0;34m\u001b[0m\u001b[0;34m\u001b[0m\u001b[0m\n\u001b[0;32m--> 412\u001b[0;31m             \u001b[0;32mreturn\u001b[0m \u001b[0mself\u001b[0m\u001b[0;34m.\u001b[0m\u001b[0morig_func\u001b[0m\u001b[0;34m(\u001b[0m\u001b[0;34m*\u001b[0m\u001b[0margs\u001b[0m\u001b[0;34m,\u001b[0m \u001b[0;34m**\u001b[0m\u001b[0mkwargs\u001b[0m\u001b[0;34m)\u001b[0m\u001b[0;34m\u001b[0m\u001b[0;34m\u001b[0m\u001b[0m\n\u001b[0m\u001b[1;32m    413\u001b[0m \u001b[0;34m\u001b[0m\u001b[0m\n\u001b[1;32m    414\u001b[0m         \u001b[0;31m# Use `backend_name` in this function instead of `backend`\u001b[0m\u001b[0;34m\u001b[0m\u001b[0;34m\u001b[0m\u001b[0m\n",
            "\u001b[0;32m/usr/local/lib/python3.10/dist-packages/networkx/algorithms/cluster.py\u001b[0m in \u001b[0;36maverage_clustering\u001b[0;34m(G, nodes, weight, count_zeros)\u001b[0m\n\u001b[1;32m    304\u001b[0m        \u001b[0mhttps\u001b[0m\u001b[0;34m:\u001b[0m\u001b[0;34m//\u001b[0m\u001b[0marxiv\u001b[0m\u001b[0;34m.\u001b[0m\u001b[0morg\u001b[0m\u001b[0;34m/\u001b[0m\u001b[0mabs\u001b[0m\u001b[0;34m/\u001b[0m\u001b[0;36m0802.2512\u001b[0m\u001b[0;34m\u001b[0m\u001b[0;34m\u001b[0m\u001b[0m\n\u001b[1;32m    305\u001b[0m     \"\"\"\n\u001b[0;32m--> 306\u001b[0;31m     \u001b[0mc\u001b[0m \u001b[0;34m=\u001b[0m \u001b[0mclustering\u001b[0m\u001b[0;34m(\u001b[0m\u001b[0mG\u001b[0m\u001b[0;34m,\u001b[0m \u001b[0mnodes\u001b[0m\u001b[0;34m,\u001b[0m \u001b[0mweight\u001b[0m\u001b[0;34m=\u001b[0m\u001b[0mweight\u001b[0m\u001b[0;34m)\u001b[0m\u001b[0;34m.\u001b[0m\u001b[0mvalues\u001b[0m\u001b[0;34m(\u001b[0m\u001b[0;34m)\u001b[0m\u001b[0;34m\u001b[0m\u001b[0;34m\u001b[0m\u001b[0m\n\u001b[0m\u001b[1;32m    307\u001b[0m     \u001b[0;32mif\u001b[0m \u001b[0;32mnot\u001b[0m \u001b[0mcount_zeros\u001b[0m\u001b[0;34m:\u001b[0m\u001b[0;34m\u001b[0m\u001b[0;34m\u001b[0m\u001b[0m\n\u001b[1;32m    308\u001b[0m         \u001b[0mc\u001b[0m \u001b[0;34m=\u001b[0m \u001b[0;34m[\u001b[0m\u001b[0mv\u001b[0m \u001b[0;32mfor\u001b[0m \u001b[0mv\u001b[0m \u001b[0;32min\u001b[0m \u001b[0mc\u001b[0m \u001b[0;32mif\u001b[0m \u001b[0mabs\u001b[0m\u001b[0;34m(\u001b[0m\u001b[0mv\u001b[0m\u001b[0;34m)\u001b[0m \u001b[0;34m>\u001b[0m \u001b[0;36m0\u001b[0m\u001b[0;34m]\u001b[0m\u001b[0;34m\u001b[0m\u001b[0;34m\u001b[0m\u001b[0m\n",
            "\u001b[0;32m/usr/local/lib/python3.10/dist-packages/networkx/utils/backends.py\u001b[0m in \u001b[0;36m__call__\u001b[0;34m(self, backend, *args, **kwargs)\u001b[0m\n\u001b[1;32m    410\u001b[0m         \u001b[0;32mif\u001b[0m \u001b[0;32mnot\u001b[0m \u001b[0mbackends\u001b[0m\u001b[0;34m:\u001b[0m\u001b[0;34m\u001b[0m\u001b[0;34m\u001b[0m\u001b[0m\n\u001b[1;32m    411\u001b[0m             \u001b[0;31m# Fast path if no backends are installed\u001b[0m\u001b[0;34m\u001b[0m\u001b[0;34m\u001b[0m\u001b[0m\n\u001b[0;32m--> 412\u001b[0;31m             \u001b[0;32mreturn\u001b[0m \u001b[0mself\u001b[0m\u001b[0;34m.\u001b[0m\u001b[0morig_func\u001b[0m\u001b[0;34m(\u001b[0m\u001b[0;34m*\u001b[0m\u001b[0margs\u001b[0m\u001b[0;34m,\u001b[0m \u001b[0;34m**\u001b[0m\u001b[0mkwargs\u001b[0m\u001b[0;34m)\u001b[0m\u001b[0;34m\u001b[0m\u001b[0;34m\u001b[0m\u001b[0m\n\u001b[0m\u001b[1;32m    413\u001b[0m \u001b[0;34m\u001b[0m\u001b[0m\n\u001b[1;32m    414\u001b[0m         \u001b[0;31m# Use `backend_name` in this function instead of `backend`\u001b[0m\u001b[0;34m\u001b[0m\u001b[0;34m\u001b[0m\u001b[0m\n",
            "\u001b[0;32m/usr/local/lib/python3.10/dist-packages/networkx/algorithms/cluster.py\u001b[0m in \u001b[0;36mclustering\u001b[0;34m(G, nodes, weight)\u001b[0m\n\u001b[1;32m    407\u001b[0m         \u001b[0;32melse\u001b[0m\u001b[0;34m:\u001b[0m\u001b[0;34m\u001b[0m\u001b[0;34m\u001b[0m\u001b[0m\n\u001b[1;32m    408\u001b[0m             \u001b[0mtd_iter\u001b[0m \u001b[0;34m=\u001b[0m \u001b[0m_directed_triangles_and_degree_iter\u001b[0m\u001b[0;34m(\u001b[0m\u001b[0mG\u001b[0m\u001b[0;34m,\u001b[0m \u001b[0mnodes\u001b[0m\u001b[0;34m)\u001b[0m\u001b[0;34m\u001b[0m\u001b[0;34m\u001b[0m\u001b[0m\n\u001b[0;32m--> 409\u001b[0;31m             clusterc = {\n\u001b[0m\u001b[1;32m    410\u001b[0m                 \u001b[0mv\u001b[0m\u001b[0;34m:\u001b[0m \u001b[0;36m0\u001b[0m \u001b[0;32mif\u001b[0m \u001b[0mt\u001b[0m \u001b[0;34m==\u001b[0m \u001b[0;36m0\u001b[0m \u001b[0;32melse\u001b[0m \u001b[0mt\u001b[0m \u001b[0;34m/\u001b[0m \u001b[0;34m(\u001b[0m\u001b[0;34m(\u001b[0m\u001b[0mdt\u001b[0m \u001b[0;34m*\u001b[0m \u001b[0;34m(\u001b[0m\u001b[0mdt\u001b[0m \u001b[0;34m-\u001b[0m \u001b[0;36m1\u001b[0m\u001b[0;34m)\u001b[0m \u001b[0;34m-\u001b[0m \u001b[0;36m2\u001b[0m \u001b[0;34m*\u001b[0m \u001b[0mdb\u001b[0m\u001b[0;34m)\u001b[0m \u001b[0;34m*\u001b[0m \u001b[0;36m2\u001b[0m\u001b[0;34m)\u001b[0m\u001b[0;34m\u001b[0m\u001b[0;34m\u001b[0m\u001b[0m\n\u001b[1;32m    411\u001b[0m                 \u001b[0;32mfor\u001b[0m \u001b[0mv\u001b[0m\u001b[0;34m,\u001b[0m \u001b[0mdt\u001b[0m\u001b[0;34m,\u001b[0m \u001b[0mdb\u001b[0m\u001b[0;34m,\u001b[0m \u001b[0mt\u001b[0m \u001b[0;32min\u001b[0m \u001b[0mtd_iter\u001b[0m\u001b[0;34m\u001b[0m\u001b[0;34m\u001b[0m\u001b[0m\n",
            "\u001b[0;32m/usr/local/lib/python3.10/dist-packages/networkx/algorithms/cluster.py\u001b[0m in \u001b[0;36m<dictcomp>\u001b[0;34m(.0)\u001b[0m\n\u001b[1;32m    407\u001b[0m         \u001b[0;32melse\u001b[0m\u001b[0;34m:\u001b[0m\u001b[0;34m\u001b[0m\u001b[0;34m\u001b[0m\u001b[0m\n\u001b[1;32m    408\u001b[0m             \u001b[0mtd_iter\u001b[0m \u001b[0;34m=\u001b[0m \u001b[0m_directed_triangles_and_degree_iter\u001b[0m\u001b[0;34m(\u001b[0m\u001b[0mG\u001b[0m\u001b[0;34m,\u001b[0m \u001b[0mnodes\u001b[0m\u001b[0;34m)\u001b[0m\u001b[0;34m\u001b[0m\u001b[0;34m\u001b[0m\u001b[0m\n\u001b[0;32m--> 409\u001b[0;31m             clusterc = {\n\u001b[0m\u001b[1;32m    410\u001b[0m                 \u001b[0mv\u001b[0m\u001b[0;34m:\u001b[0m \u001b[0;36m0\u001b[0m \u001b[0;32mif\u001b[0m \u001b[0mt\u001b[0m \u001b[0;34m==\u001b[0m \u001b[0;36m0\u001b[0m \u001b[0;32melse\u001b[0m \u001b[0mt\u001b[0m \u001b[0;34m/\u001b[0m \u001b[0;34m(\u001b[0m\u001b[0;34m(\u001b[0m\u001b[0mdt\u001b[0m \u001b[0;34m*\u001b[0m \u001b[0;34m(\u001b[0m\u001b[0mdt\u001b[0m \u001b[0;34m-\u001b[0m \u001b[0;36m1\u001b[0m\u001b[0;34m)\u001b[0m \u001b[0;34m-\u001b[0m \u001b[0;36m2\u001b[0m \u001b[0;34m*\u001b[0m \u001b[0mdb\u001b[0m\u001b[0;34m)\u001b[0m \u001b[0;34m*\u001b[0m \u001b[0;36m2\u001b[0m\u001b[0;34m)\u001b[0m\u001b[0;34m\u001b[0m\u001b[0;34m\u001b[0m\u001b[0m\n\u001b[1;32m    411\u001b[0m                 \u001b[0;32mfor\u001b[0m \u001b[0mv\u001b[0m\u001b[0;34m,\u001b[0m \u001b[0mdt\u001b[0m\u001b[0;34m,\u001b[0m \u001b[0mdb\u001b[0m\u001b[0;34m,\u001b[0m \u001b[0mt\u001b[0m \u001b[0;32min\u001b[0m \u001b[0mtd_iter\u001b[0m\u001b[0;34m\u001b[0m\u001b[0;34m\u001b[0m\u001b[0m\n",
            "\u001b[0;32m/usr/local/lib/python3.10/dist-packages/networkx/algorithms/cluster.py\u001b[0m in \u001b[0;36m_directed_triangles_and_degree_iter\u001b[0;34m(G, nodes)\u001b[0m\n\u001b[1;32m    170\u001b[0m         \u001b[0mdirected_triangles\u001b[0m \u001b[0;34m=\u001b[0m \u001b[0;36m0\u001b[0m\u001b[0;34m\u001b[0m\u001b[0;34m\u001b[0m\u001b[0m\n\u001b[1;32m    171\u001b[0m         \u001b[0;32mfor\u001b[0m \u001b[0mj\u001b[0m \u001b[0;32min\u001b[0m \u001b[0mchain\u001b[0m\u001b[0;34m(\u001b[0m\u001b[0mipreds\u001b[0m\u001b[0;34m,\u001b[0m \u001b[0misuccs\u001b[0m\u001b[0;34m)\u001b[0m\u001b[0;34m:\u001b[0m\u001b[0;34m\u001b[0m\u001b[0;34m\u001b[0m\u001b[0m\n\u001b[0;32m--> 172\u001b[0;31m             \u001b[0mjpreds\u001b[0m \u001b[0;34m=\u001b[0m \u001b[0mset\u001b[0m\u001b[0;34m(\u001b[0m\u001b[0mG\u001b[0m\u001b[0;34m.\u001b[0m\u001b[0m_pred\u001b[0m\u001b[0;34m[\u001b[0m\u001b[0mj\u001b[0m\u001b[0;34m]\u001b[0m\u001b[0;34m)\u001b[0m \u001b[0;34m-\u001b[0m \u001b[0;34m{\u001b[0m\u001b[0mj\u001b[0m\u001b[0;34m}\u001b[0m\u001b[0;34m\u001b[0m\u001b[0;34m\u001b[0m\u001b[0m\n\u001b[0m\u001b[1;32m    173\u001b[0m             \u001b[0mjsuccs\u001b[0m \u001b[0;34m=\u001b[0m \u001b[0mset\u001b[0m\u001b[0;34m(\u001b[0m\u001b[0mG\u001b[0m\u001b[0;34m.\u001b[0m\u001b[0m_succ\u001b[0m\u001b[0;34m[\u001b[0m\u001b[0mj\u001b[0m\u001b[0;34m]\u001b[0m\u001b[0;34m)\u001b[0m \u001b[0;34m-\u001b[0m \u001b[0;34m{\u001b[0m\u001b[0mj\u001b[0m\u001b[0;34m}\u001b[0m\u001b[0;34m\u001b[0m\u001b[0;34m\u001b[0m\u001b[0m\n\u001b[1;32m    174\u001b[0m             directed_triangles += sum(\n",
            "\u001b[0;31mKeyboardInterrupt\u001b[0m: "
          ]
        }
      ]
    },
    {
      "cell_type": "markdown",
      "source": [
        "## Atributos amazon0302"
      ],
      "metadata": {
        "id": "x59gDEPYr3h3"
      }
    },
    {
      "cell_type": "code",
      "source": [
        "# Quantidade de vértices\n",
        "nodes_quantity = len(amazon0302.nodes())\n",
        "print(f\"A quantidade de vértices da rede amazon0302 é {nodes_quantity}\")\n",
        "\n",
        "# Quantidade de arestas\n",
        "edges_quantity = len(amazon0302.edges())\n",
        "print(f\"A quantidade de arestas da rede amazon0302 é {edges_quantity}\")\n",
        "\n",
        "# degree_assortativity_coefficient\n",
        "degree_assortativity = nx.degree_assortativity_coefficient(amazon0302)\n",
        "print(f\"O degree_assortativity_coefficient da rede amazon0302 é {degree_assortativity}\")\n",
        "\n",
        "# Número de componentes conectados\n",
        "connected_components = nx.number_strongly_connected_components(amazon0302)\n",
        "print(f\"O número de componentes conectados da rede amazon0302 é {connected_components}\")\n",
        "\n",
        "# Tamanho do GCC\n",
        "gcc = len(max(nx.strongly_connected_components(amazon0302), key=len))\n",
        "print(f\"O tamanho do GCC da rede amazon0302 é {gcc}\")\n",
        "\n",
        "# Coeficiente de clustering\n",
        "clustering_coefficient = nx.average_clustering(amazon0302)\n",
        "print(f\"O coeficiente de clustering da rede amazon0302 é {clustering_coefficient}\")\n"
      ],
      "metadata": {
        "id": "n3qcLzsgr8fD",
        "outputId": "7f33e61d-fb72-4b0c-cc62-c8262a135251",
        "colab": {
          "base_uri": "https://localhost:8080/"
        }
      },
      "execution_count": 11,
      "outputs": [
        {
          "output_type": "stream",
          "name": "stdout",
          "text": [
            "A quantidade de vértices da rede amazon0302 é 262111\n",
            "A quantidade de arestas da rede amazon0302 é 1234877\n",
            "O degree_assortativity_coefficient da rede amazon0302 é 0.0026772436574012287\n",
            "O número de componentes conectados da rede amazon0302 é 6594\n",
            "O tamanho do GCC da rede amazon0302 é 241761\n",
            "O coeficiente de clustering da rede amazon0302 é 0.34687940756987184\n"
          ]
        }
      ]
    }
  ]
}