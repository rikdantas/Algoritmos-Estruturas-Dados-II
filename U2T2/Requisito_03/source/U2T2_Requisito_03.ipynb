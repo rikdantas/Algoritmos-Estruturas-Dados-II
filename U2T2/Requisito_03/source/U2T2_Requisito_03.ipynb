{
  "nbformat": 4,
  "nbformat_minor": 0,
  "metadata": {
    "colab": {
      "provenance": [],
      "authorship_tag": "ABX9TyNVGXcMzV4WL9enty1xHqPg",
      "include_colab_link": true
    },
    "kernelspec": {
      "name": "python3",
      "display_name": "Python 3"
    },
    "language_info": {
      "name": "python"
    }
  },
  "cells": [
    {
      "cell_type": "markdown",
      "metadata": {
        "id": "view-in-github",
        "colab_type": "text"
      },
      "source": [
        "<a href=\"https://colab.research.google.com/github/rikdantas/Algoritmos-Estruturas-Dados-II/blob/main/U2T2/Requisito_03/source/U2T2_Requisito_03.ipynb\" target=\"_parent\"><img src=\"https://colab.research.google.com/assets/colab-badge.svg\" alt=\"Open In Colab\"/></a>"
      ]
    },
    {
      "cell_type": "markdown",
      "source": [
        "# Requisito 03\n",
        "### Aluno: Paulo Ricardo Dantas\n",
        "### Matrícula: 20230000789\n",
        "\n",
        "### Objetivo:\n",
        "**Fazer uma tabela em markdown com algumas propriedades de cada uma das redes**"
      ],
      "metadata": {
        "id": "v93fI3P5vqiu"
      }
    },
    {
      "cell_type": "markdown",
      "source": [
        "Antes de começar a colher os atributos de cada rede, vai ser necessário importar as redes assim como foi feito nos outros requisitos.\n",
        "\n",
        "Os atributos requisitados são: Quantidade de vértices, Quantidade de arestas, degree_assortativity_coefficient, Quantidade de componentes conectados, Tamanho do componente gigante (GCC) e Coeficiente de clustering."
      ],
      "metadata": {
        "id": "stOMWFJov8wr"
      }
    },
    {
      "cell_type": "code",
      "execution_count": 1,
      "metadata": {
        "id": "goqwfqLdvYsg"
      },
      "outputs": [],
      "source": [
        "# Importando bibliotecas\n",
        "\n",
        "import networkx as nx"
      ]
    },
    {
      "cell_type": "code",
      "source": [
        "# Baixando os datasets das 5 redes escolhidas\n",
        "!wget https://snap.stanford.edu/data/web-Google.txt.gz\n",
        "!wget https://snap.stanford.edu/data/wiki-Vote.txt.gz\n",
        "!wget https://snap.stanford.edu/data/email-Enron.txt.gz\n",
        "!wget https://snap.stanford.edu/data/web-Stanford.txt.gz\n",
        "!wget https://snap.stanford.edu/data/amazon0302.txt.gz"
      ],
      "metadata": {
        "id": "srIA2J64wYdu"
      },
      "execution_count": null,
      "outputs": []
    },
    {
      "cell_type": "code",
      "source": [
        "web_Google = nx.read_edgelist('web-Google.txt.gz', create_using=nx.DiGraph(), data=False)\n",
        "wiki_Vote = nx.read_edgelist('wiki-Vote.txt.gz', create_using=nx.DiGraph(), data=False)\n",
        "email_Enron = nx.read_edgelist('email-Enron.txt.gz', create_using=nx.Graph(), data=False)\n",
        "web_Stanford = nx.read_edgelist('web-Stanford.txt.gz', create_using=nx.DiGraph(), data=False)\n",
        "amazon0302 = nx.read_edgelist('amazon0302.txt.gz', create_using=nx.DiGraph(), data=False)"
      ],
      "metadata": {
        "id": "cpVmatXQwd_t"
      },
      "execution_count": 3,
      "outputs": []
    },
    {
      "cell_type": "markdown",
      "source": [
        "## Atributos web_Google\n"
      ],
      "metadata": {
        "id": "FvOMuNQnwnhL"
      }
    },
    {
      "cell_type": "code",
      "source": [
        "# Quantidade de vértices\n",
        "nodes_quantity = len(web_Google.nodes())\n",
        "print(f\"A quantidade de vértices da rede web_Google é {nodes_quantity}\")\n",
        "\n",
        "# Quantidade de arestas\n",
        "edges_quantity = len(web_Google.edges())\n",
        "print(f\"A quantidade de arestas da rede web_Google é {edges_quantity}\")\n",
        "\n",
        "# degree_assortativity_coefficient\n",
        "degree_assortativity = nx.degree_assortativity_coefficient(web_Google)\n",
        "print(f\"O degree_assortativity_coefficient da rede web_Google é {degree_assortativity}\")"
      ],
      "metadata": {
        "colab": {
          "base_uri": "https://localhost:8080/"
        },
        "id": "UCRQCX1NwkLx",
        "outputId": "b0850b25-6819-41dc-fa83-35d3836baf86"
      },
      "execution_count": 7,
      "outputs": [
        {
          "output_type": "stream",
          "name": "stdout",
          "text": [
            "A quantidade de vértices da rede web_Google é 875713\n",
            "A quantidade de arestas da rede web_Google é 5105039\n",
            "O degree_assortativity_coefficient da rede web_Google é -0.06520019402435487\n"
          ]
        }
      ]
    }
  ]
}