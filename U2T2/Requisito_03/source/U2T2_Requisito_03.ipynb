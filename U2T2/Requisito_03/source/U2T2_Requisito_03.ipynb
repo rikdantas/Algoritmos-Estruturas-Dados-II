{
  "nbformat": 4,
  "nbformat_minor": 0,
  "metadata": {
    "colab": {
      "provenance": [],
      "toc_visible": true,
      "authorship_tag": "ABX9TyNeBQ1/FwutNC7F/aflvVeQ",
      "include_colab_link": true
    },
    "kernelspec": {
      "name": "python3",
      "display_name": "Python 3"
    },
    "language_info": {
      "name": "python"
    }
  },
  "cells": [
    {
      "cell_type": "markdown",
      "metadata": {
        "id": "view-in-github",
        "colab_type": "text"
      },
      "source": [
        "<a href=\"https://colab.research.google.com/github/rikdantas/Algoritmos-Estruturas-Dados-II/blob/main/U2T2/Requisito_03/source/U2T2_Requisito_03.ipynb\" target=\"_parent\"><img src=\"https://colab.research.google.com/assets/colab-badge.svg\" alt=\"Open In Colab\"/></a>"
      ]
    },
    {
      "cell_type": "markdown",
      "source": [
        "# Requisito 03\n",
        "### Aluno: Paulo Ricardo Dantas\n",
        "### Matrícula: 20230000789\n",
        "\n",
        "### Objetivo:\n",
        "**Fazer uma tabela em markdown com algumas propriedades de cada uma das redes**"
      ],
      "metadata": {
        "id": "v93fI3P5vqiu"
      }
    },
    {
      "cell_type": "markdown",
      "source": [
        "Antes de começar a colher os atributos de cada rede, vai ser necessário importar as redes assim como foi feito nos outros requisitos.\n",
        "\n",
        "Os atributos requisitados são: Quantidade de vértices, Quantidade de arestas, degree_assortativity_coefficient, Quantidade de componentes conectados, Tamanho do componente gigante (GCC) e Coeficiente de clustering."
      ],
      "metadata": {
        "id": "stOMWFJov8wr"
      }
    },
    {
      "cell_type": "code",
      "execution_count": 13,
      "metadata": {
        "id": "goqwfqLdvYsg"
      },
      "outputs": [],
      "source": [
        "# Importando bibliotecas\n",
        "\n",
        "import networkx as nx"
      ]
    },
    {
      "cell_type": "code",
      "source": [
        "# Baixando os datasets das 5 redes escolhidas\n",
        "!wget https://snap.stanford.edu/data/web-Google.txt.gz\n",
        "!wget https://snap.stanford.edu/data/wiki-Vote.txt.gz\n",
        "!wget https://snap.stanford.edu/data/email-Enron.txt.gz\n",
        "!wget https://snap.stanford.edu/data/web-Stanford.txt.gz\n",
        "!wget https://snap.stanford.edu/data/amazon0302.txt.gz"
      ],
      "metadata": {
        "id": "srIA2J64wYdu",
        "outputId": "3de7147d-b796-4ad7-a3a2-e1a90e81f6ce",
        "colab": {
          "base_uri": "https://localhost:8080/"
        }
      },
      "execution_count": 14,
      "outputs": [
        {
          "output_type": "stream",
          "name": "stdout",
          "text": [
            "--2023-10-31 17:30:00--  https://snap.stanford.edu/data/web-Google.txt.gz\n",
            "Resolving snap.stanford.edu (snap.stanford.edu)... 171.64.75.80\n",
            "Connecting to snap.stanford.edu (snap.stanford.edu)|171.64.75.80|:443... connected.\n",
            "HTTP request sent, awaiting response... 200 OK\n",
            "Length: 21168784 (20M) [application/x-gzip]\n",
            "Saving to: ‘web-Google.txt.gz.1’\n",
            "\n",
            "web-Google.txt.gz.1 100%[===================>]  20.19M  18.0MB/s    in 1.1s    \n",
            "\n",
            "2023-10-31 17:30:01 (18.0 MB/s) - ‘web-Google.txt.gz.1’ saved [21168784/21168784]\n",
            "\n",
            "--2023-10-31 17:30:01--  https://snap.stanford.edu/data/wiki-Vote.txt.gz\n",
            "Resolving snap.stanford.edu (snap.stanford.edu)... 171.64.75.80\n",
            "Connecting to snap.stanford.edu (snap.stanford.edu)|171.64.75.80|:443... connected.\n",
            "HTTP request sent, awaiting response... 200 OK\n",
            "Length: 290339 (284K) [application/x-gzip]\n",
            "Saving to: ‘wiki-Vote.txt.gz.1’\n",
            "\n",
            "wiki-Vote.txt.gz.1  100%[===================>] 283.53K  1.83MB/s    in 0.2s    \n",
            "\n",
            "2023-10-31 17:30:02 (1.83 MB/s) - ‘wiki-Vote.txt.gz.1’ saved [290339/290339]\n",
            "\n",
            "--2023-10-31 17:30:02--  https://snap.stanford.edu/data/email-Enron.txt.gz\n",
            "Resolving snap.stanford.edu (snap.stanford.edu)... 171.64.75.80\n",
            "Connecting to snap.stanford.edu (snap.stanford.edu)|171.64.75.80|:443... connected.\n",
            "HTTP request sent, awaiting response... 200 OK\n",
            "Length: 1055993 (1.0M) [application/x-gzip]\n",
            "Saving to: ‘email-Enron.txt.gz.1’\n",
            "\n",
            "email-Enron.txt.gz. 100%[===================>]   1.01M  3.37MB/s    in 0.3s    \n",
            "\n",
            "2023-10-31 17:30:02 (3.37 MB/s) - ‘email-Enron.txt.gz.1’ saved [1055993/1055993]\n",
            "\n",
            "--2023-10-31 17:30:02--  https://snap.stanford.edu/data/web-Stanford.txt.gz\n",
            "Resolving snap.stanford.edu (snap.stanford.edu)... 171.64.75.80\n",
            "Connecting to snap.stanford.edu (snap.stanford.edu)|171.64.75.80|:443... connected.\n",
            "HTTP request sent, awaiting response... 200 OK\n",
            "Length: 8908378 (8.5M) [application/x-gzip]\n",
            "Saving to: ‘web-Stanford.txt.gz.1’\n",
            "\n",
            "web-Stanford.txt.gz 100%[===================>]   8.50M  10.7MB/s    in 0.8s    \n",
            "\n",
            "2023-10-31 17:30:03 (10.7 MB/s) - ‘web-Stanford.txt.gz.1’ saved [8908378/8908378]\n",
            "\n",
            "--2023-10-31 17:30:03--  https://snap.stanford.edu/data/amazon0302.txt.gz\n",
            "Resolving snap.stanford.edu (snap.stanford.edu)... 171.64.75.80\n",
            "Connecting to snap.stanford.edu (snap.stanford.edu)|171.64.75.80|:443... connected.\n",
            "HTTP request sent, awaiting response... 200 OK\n",
            "Length: 4664334 (4.4M) [application/x-gzip]\n",
            "Saving to: ‘amazon0302.txt.gz.1’\n",
            "\n",
            "amazon0302.txt.gz.1 100%[===================>]   4.45M  7.91MB/s    in 0.6s    \n",
            "\n",
            "2023-10-31 17:30:04 (7.91 MB/s) - ‘amazon0302.txt.gz.1’ saved [4664334/4664334]\n",
            "\n"
          ]
        }
      ]
    },
    {
      "cell_type": "code",
      "source": [
        "web_Google = nx.read_edgelist('web-Google.txt.gz', create_using=nx.DiGraph(), data=False)\n",
        "wiki_Vote = nx.read_edgelist('wiki-Vote.txt.gz', create_using=nx.DiGraph(), data=False)\n",
        "email_Enron = nx.read_edgelist('email-Enron.txt.gz', create_using=nx.Graph(), data=False)\n",
        "web_Stanford = nx.read_edgelist('web-Stanford.txt.gz', create_using=nx.DiGraph(), data=False)\n",
        "amazon0302 = nx.read_edgelist('amazon0302.txt.gz', create_using=nx.DiGraph(), data=False)"
      ],
      "metadata": {
        "id": "cpVmatXQwd_t"
      },
      "execution_count": 15,
      "outputs": []
    },
    {
      "cell_type": "markdown",
      "source": [
        "## Atributos web_Google\n"
      ],
      "metadata": {
        "id": "FvOMuNQnwnhL"
      }
    },
    {
      "cell_type": "code",
      "source": [
        "# Quantidade de vértices\n",
        "nodes_quantity = len(web_Google.nodes())\n",
        "print(f\"A quantidade de vértices da rede web_Google é {nodes_quantity}\")\n",
        "\n",
        "# Quantidade de arestas\n",
        "edges_quantity = len(web_Google.edges())\n",
        "print(f\"A quantidade de arestas da rede web_Google é {edges_quantity}\")\n",
        "\n",
        "# degree_assortativity_coefficient\n",
        "degree_assortativity = nx.degree_assortativity_coefficient(web_Google)\n",
        "print(f\"O degree_assortativity_coefficient da rede web_Google é {degree_assortativity}\")\n",
        "\n",
        "# Número de componentes conectados\n",
        "connected_components = nx.number_strongly_connected_components(web_Google)\n",
        "print(f\"O número de componentes conectados da rede web_Google é {connected_components}\")\n",
        "\n",
        "# Tamanho do GCC\n",
        "gcc = len(max(nx.strongly_connected_components(web_Google), key=len))\n",
        "print(f\"O tamanho do GCC da rede web_Google é {gcc}\")\n",
        "\n",
        "# Coeficiente de clustering\n",
        "clustering_coefficient = nx.average_clustering(web_Google)\n",
        "print(f\"O coeficiente de clustering da rede web_Google é {clustering_coefficient}\")\n"
      ],
      "metadata": {
        "colab": {
          "base_uri": "https://localhost:8080/"
        },
        "id": "UCRQCX1NwkLx",
        "outputId": "7daede41-0ba9-4fee-e388-7cd1152c223b"
      },
      "execution_count": 16,
      "outputs": [
        {
          "output_type": "stream",
          "name": "stdout",
          "text": [
            "A quantidade de vértices da rede web_Google é 875713\n",
            "A quantidade de arestas da rede web_Google é 5105039\n",
            "O degree_assortativity_coefficient da rede web_Google é -0.06520019402435487\n",
            "O número de componentes conectados da rede web_Google é 371764\n",
            "O tamanho do GCC da rede web_Google é 434818\n",
            "O coeficiente de clustering da rede web_Google é 0.3698306814797672\n"
          ]
        }
      ]
    },
    {
      "cell_type": "markdown",
      "source": [
        "## Atributos wiki_Vote\n"
      ],
      "metadata": {
        "id": "tiOnWZVPp4EO"
      }
    },
    {
      "cell_type": "code",
      "source": [
        "# Quantidade de vértices\n",
        "nodes_quantity = len(wiki_Vote.nodes())\n",
        "print(f\"A quantidade de vértices da rede wiki_Vote é {nodes_quantity}\")\n",
        "\n",
        "# Quantidade de arestas\n",
        "edges_quantity = len(wiki_Vote.edges())\n",
        "print(f\"A quantidade de arestas da rede wiki_Vote é {edges_quantity}\")\n",
        "\n",
        "# degree_assortativity_coefficient\n",
        "degree_assortativity = nx.degree_assortativity_coefficient(wiki_Vote)\n",
        "print(f\"O degree_assortativity_coefficient da rede wiki_Vote é {degree_assortativity}\")\n",
        "\n",
        "# Número de componentes conectados\n",
        "connected_components = nx.number_strongly_connected_components(wiki_Vote)\n",
        "print(f\"O número de componentes conectados da rede wiki_Vote é {connected_components}\")\n",
        "\n",
        "# Tamanho do GCC\n",
        "gcc = len(max(nx.strongly_connected_components(wiki_Vote), key=len))\n",
        "print(f\"O tamanho do GCC da rede wiki_Vote é {gcc}\")\n",
        "\n",
        "# Coeficiente de clustering\n",
        "clustering_coefficient = nx.average_clustering(wiki_Vote)\n",
        "print(f\"O coeficiente de clustering da rede wiki_Vote é {clustering_coefficient}\")\n"
      ],
      "metadata": {
        "id": "MFALi8hbqxc5",
        "outputId": "b0905a3b-6749-4027-a72c-7f197485f4b1",
        "colab": {
          "base_uri": "https://localhost:8080/"
        }
      },
      "execution_count": 17,
      "outputs": [
        {
          "output_type": "stream",
          "name": "stdout",
          "text": [
            "A quantidade de vértices da rede wiki_Vote é 7115\n",
            "A quantidade de arestas da rede wiki_Vote é 103689\n",
            "O degree_assortativity_coefficient da rede wiki_Vote é -0.08324455771686787\n",
            "O número de componentes conectados da rede wiki_Vote é 5816\n",
            "O tamanho do GCC da rede wiki_Vote é 1300\n",
            "O coeficiente de clustering da rede wiki_Vote é 0.08156344522820935\n"
          ]
        }
      ]
    },
    {
      "cell_type": "markdown",
      "source": [
        "## Atributos email_Enron"
      ],
      "metadata": {
        "id": "zrGeScwMrAeE"
      }
    },
    {
      "cell_type": "code",
      "source": [
        "# Quantidade de vértices\n",
        "nodes_quantity = len(email_Enron.nodes())\n",
        "print(f\"A quantidade de vértices da rede email_Enron é {nodes_quantity}\")\n",
        "\n",
        "# Quantidade de arestas\n",
        "edges_quantity = len(email_Enron.edges())\n",
        "print(f\"A quantidade de arestas da rede email_Enron é {edges_quantity}\")\n",
        "\n",
        "# degree_assortativity_coefficient\n",
        "degree_assortativity = nx.degree_assortativity_coefficient(email_Enron)\n",
        "print(f\"O degree_assortativity_coefficient da rede email_Enron é {degree_assortativity}\")\n",
        "\n",
        "# Número de componentes conectados\n",
        "connected_components = nx.number_connected_components(email_Enron)\n",
        "print(f\"O número de componentes conectados da rede email_Enron é {connected_components}\")\n",
        "\n",
        "# Tamanho do GCC\n",
        "gcc = len(max(nx.connected_components(email_Enron), key=len))\n",
        "print(f\"O tamanho do GCC da rede email_Enron é {gcc}\")\n",
        "\n",
        "# Coeficiente de clustering\n",
        "clustering_coefficient = nx.average_clustering(email_Enron)\n",
        "print(f\"O coeficiente de clustering da rede email_Enron é {clustering_coefficient}\")\n"
      ],
      "metadata": {
        "id": "D_wopNY3rUtG",
        "outputId": "1dfbfa30-d401-4f23-92ab-779d90b45074",
        "colab": {
          "base_uri": "https://localhost:8080/"
        }
      },
      "execution_count": 18,
      "outputs": [
        {
          "output_type": "stream",
          "name": "stdout",
          "text": [
            "A quantidade de vértices da rede email_Enron é 36692\n",
            "A quantidade de arestas da rede email_Enron é 183831\n",
            "O degree_assortativity_coefficient da rede email_Enron é -0.11076403259610496\n",
            "O número de componentes conectados da rede email_Enron é 1065\n",
            "O tamanho do GCC da rede email_Enron é 33696\n",
            "O coeficiente de clustering da rede email_Enron é 0.49698255959950266\n"
          ]
        }
      ]
    },
    {
      "cell_type": "markdown",
      "source": [
        "## Atributos web_Stanford"
      ],
      "metadata": {
        "id": "RRuymKi9rnMg"
      }
    },
    {
      "cell_type": "code",
      "source": [
        "# Quantidade de vértices\n",
        "nodes_quantity = len(web_Stanford.nodes())\n",
        "print(f\"A quantidade de vértices da rede web_Stanford é {nodes_quantity}\")\n",
        "\n",
        "# Quantidade de arestas\n",
        "edges_quantity = len(web_Stanford.edges())\n",
        "print(f\"A quantidade de arestas da rede web_Stanford é {edges_quantity}\")\n",
        "\n",
        "# degree_assortativity_coefficient\n",
        "degree_assortativity = nx.degree_assortativity_coefficient(web_Stanford)\n",
        "print(f\"O degree_assortativity_coefficient da rede web_Stanford é {degree_assortativity}\")\n",
        "\n",
        "# Número de componentes conectados\n",
        "connected_components = nx.number_strongly_connected_components(web_Stanford)\n",
        "print(f\"O número de componentes conectados da rede web_Stanford é {connected_components}\")\n",
        "\n",
        "# Tamanho do GCC\n",
        "gcc = len(max(nx.strongly_connected_components(web_Stanford), key=len))\n",
        "print(f\"O tamanho do GCC da rede web_Stanford é {gcc}\")\n",
        "\n",
        "# Coeficiente de clustering\n",
        "clustering_coefficient = nx.average_clustering(web_Stanford)\n",
        "print(f\"O coeficiente de clustering da rede web_Stanford é {clustering_coefficient}\")\n"
      ],
      "metadata": {
        "id": "l2poYI2Drlfi",
        "outputId": "b0a98ffa-49ad-4e62-aa62-51e20932412e",
        "colab": {
          "base_uri": "https://localhost:8080/"
        }
      },
      "execution_count": 19,
      "outputs": [
        {
          "output_type": "stream",
          "name": "stdout",
          "text": [
            "A quantidade de vértices da rede web_Stanford é 281903\n",
            "A quantidade de arestas da rede web_Stanford é 2312497\n",
            "O degree_assortativity_coefficient da rede web_Stanford é -0.12201270653192699\n",
            "O número de componentes conectados da rede web_Stanford é 29914\n",
            "O tamanho do GCC da rede web_Stanford é 150532\n",
            "O coeficiente de clustering da rede web_Stanford é 0.3777400704132366\n"
          ]
        }
      ]
    },
    {
      "cell_type": "markdown",
      "source": [
        "## Atributos amazon0302"
      ],
      "metadata": {
        "id": "x59gDEPYr3h3"
      }
    },
    {
      "cell_type": "code",
      "source": [
        "# Quantidade de vértices\n",
        "nodes_quantity = len(amazon0302.nodes())\n",
        "print(f\"A quantidade de vértices da rede amazon0302 é {nodes_quantity}\")\n",
        "\n",
        "# Quantidade de arestas\n",
        "edges_quantity = len(amazon0302.edges())\n",
        "print(f\"A quantidade de arestas da rede amazon0302 é {edges_quantity}\")\n",
        "\n",
        "# degree_assortativity_coefficient\n",
        "degree_assortativity = nx.degree_assortativity_coefficient(amazon0302)\n",
        "print(f\"O degree_assortativity_coefficient da rede amazon0302 é {degree_assortativity}\")\n",
        "\n",
        "# Número de componentes conectados\n",
        "connected_components = nx.number_strongly_connected_components(amazon0302)\n",
        "print(f\"O número de componentes conectados da rede amazon0302 é {connected_components}\")\n",
        "\n",
        "# Tamanho do GCC\n",
        "gcc = len(max(nx.strongly_connected_components(amazon0302), key=len))\n",
        "print(f\"O tamanho do GCC da rede amazon0302 é {gcc}\")\n",
        "\n",
        "# Coeficiente de clustering\n",
        "clustering_coefficient = nx.average_clustering(amazon0302)\n",
        "print(f\"O coeficiente de clustering da rede amazon0302 é {clustering_coefficient}\")\n"
      ],
      "metadata": {
        "id": "n3qcLzsgr8fD",
        "outputId": "b8fed1b9-56ee-4839-dae0-125caa3b1a75",
        "colab": {
          "base_uri": "https://localhost:8080/"
        }
      },
      "execution_count": 20,
      "outputs": [
        {
          "output_type": "stream",
          "name": "stdout",
          "text": [
            "A quantidade de vértices da rede amazon0302 é 262111\n",
            "A quantidade de arestas da rede amazon0302 é 1234877\n",
            "O degree_assortativity_coefficient da rede amazon0302 é 0.0026772436574012287\n",
            "O número de componentes conectados da rede amazon0302 é 6594\n",
            "O tamanho do GCC da rede amazon0302 é 241761\n",
            "O coeficiente de clustering da rede amazon0302 é 0.34687940756987184\n"
          ]
        }
      ]
    }
  ]
}