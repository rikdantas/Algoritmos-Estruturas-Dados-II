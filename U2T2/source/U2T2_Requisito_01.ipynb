{
  "nbformat": 4,
  "nbformat_minor": 0,
  "metadata": {
    "colab": {
      "provenance": [],
      "authorship_tag": "ABX9TyO4WezcuufRsM8iuuS5KjpQ",
      "include_colab_link": true
    },
    "kernelspec": {
      "name": "python3",
      "display_name": "Python 3"
    },
    "language_info": {
      "name": "python"
    }
  },
  "cells": [
    {
      "cell_type": "markdown",
      "metadata": {
        "id": "view-in-github",
        "colab_type": "text"
      },
      "source": [
        "<a href=\"https://colab.research.google.com/github/rikdantas/Algoritmos-Estruturas-Dados-II/blob/main/U2T2/source/U2T2_Requisito_01.ipynb\" target=\"_parent\"><img src=\"https://colab.research.google.com/assets/colab-badge.svg\" alt=\"Open In Colab\"/></a>"
      ]
    },
    {
      "cell_type": "markdown",
      "source": [
        "# Requisito 01\n",
        "### Aluno: Paulo Ricardo Dantas\n",
        "### Matrícula: 20230000789\n",
        "\n",
        "### Objetivo:\n",
        "**Importar os grafos solicitados dos datasets da Universidade Stanford**"
      ],
      "metadata": {
        "id": "92OoH1ir1Swg"
      }
    },
    {
      "cell_type": "code",
      "execution_count": 2,
      "metadata": {
        "id": "pZ95c7FWvNAx"
      },
      "outputs": [],
      "source": [
        "# Importando bibliotecas\n",
        "\n",
        "import networkx as nx"
      ]
    },
    {
      "cell_type": "code",
      "source": [
        "# Baixando os datasets das 5 redes escolhidas\n",
        "!wget https://snap.stanford.edu/data/web-Google.txt.gz\n",
        "!wget https://snap.stanford.edu/data/wiki-Vote.txt.gz\n",
        "!wget https://snap.stanford.edu/data/email-Enron.txt.gz\n",
        "!wget https://snap.stanford.edu/data/web-Stanford.txt.gz\n",
        "!wget https://snap.stanford.edu/data/amazon0302.txt.gz"
      ],
      "metadata": {
        "id": "Qa7hP0Vr3Mzr"
      },
      "execution_count": null,
      "outputs": []
    },
    {
      "cell_type": "markdown",
      "source": [
        "### Criando as redes"
      ],
      "metadata": {
        "id": "9kmzDABx8DXv"
      }
    },
    {
      "cell_type": "code",
      "source": [
        "web_Google = nx.read_edgelist('web-Google.txt.gz', create_using=nx.DiGraph(), data=False)\n",
        "wiki_Vote = nx.read_edgelist('wiki-Vote.txt.gz', create_using=nx.DiGraph(), data=False)\n",
        "email_Enron = nx.read_edgelist('email-Enron.txt.gz', create_using=nx.Graph(), data=False)\n",
        "web_Stanford = nx.read_edgelist('web-Stanford.txt.gz', create_using=nx.DiGraph(), data=False)\n",
        "amazon0302 = nx.read_edgelist('amazon0302.txt.gz', create_using=nx.DiGraph(), data=False)"
      ],
      "metadata": {
        "id": "7k-QvaCA3eOD"
      },
      "execution_count": 14,
      "outputs": []
    },
    {
      "cell_type": "code",
      "source": [
        "# Printando a quantidade de nodes e de edges para comparar com o site dos datasets\n",
        "\n",
        "print(f\"A quantidade de nodes do web_Google é {len(web_Google)} e a quantidade de edges é {len(web_Google.edges())}\")\n",
        "print(f\"A quantidade de nodes do wiki_Vote é {len(wiki_Vote)} e a quantidade de edges é {len(wiki_Vote.edges())}\")\n",
        "print(f\"A quantidade de nodes do email_Enron é {len(email_Enron)} e a quantidade de edges é {len(email_Enron.edges())}\")\n",
        "print(f\"A quantidade de nodes do web_Stanford é {len(web_Stanford)} e a quantidade de edges é {len(web_Stanford.edges())}\")\n",
        "print(f\"A quantidade de nodes do amazon0302 é {len(amazon0302)} e a quantidade de edges é {len(amazon0302.edges())}\")"
      ],
      "metadata": {
        "colab": {
          "base_uri": "https://localhost:8080/"
        },
        "id": "3xjBEcEq39QB",
        "outputId": "f958075c-efcd-4d5d-97b5-fe9a6cc7fa3d"
      },
      "execution_count": 15,
      "outputs": [
        {
          "output_type": "stream",
          "name": "stdout",
          "text": [
            "A quantidade de nodes do web_Google é 875713 e a quantidade de edges é 5105039\n",
            "A quantidade de nodes do wiki_Vote é 7115 e a quantidade de edges é 103689\n",
            "A quantidade de nodes do email_Enron é 36692 e a quantidade de edges é 183831\n",
            "A quantidade de nodes do web_Stanford é 281903 e a quantidade de edges é 2312497\n",
            "A quantidade de nodes do amazon0302 é 262111 e a quantidade de edges é 1234877\n"
          ]
        }
      ]
    }
  ]
}