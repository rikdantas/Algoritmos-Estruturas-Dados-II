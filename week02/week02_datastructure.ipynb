{
  "nbformat": 4,
  "nbformat_minor": 0,
  "metadata": {
    "colab": {
      "provenance": [],
      "authorship_tag": "ABX9TyP/bYKhQMEo8FCvCxqvhp9x",
      "include_colab_link": true
    },
    "kernelspec": {
      "name": "python3",
      "display_name": "Python 3"
    },
    "language_info": {
      "name": "python"
    }
  },
  "cells": [
    {
      "cell_type": "markdown",
      "metadata": {
        "id": "view-in-github",
        "colab_type": "text"
      },
      "source": [
        "<a href=\"https://colab.research.google.com/github/rikdantas/Algoritmos-Estruturas-Dados-II/blob/main/week02/week02_datastructure.ipynb\" target=\"_parent\"><img src=\"https://colab.research.google.com/assets/colab-badge.svg\" alt=\"Open In Colab\"/></a>"
      ]
    },
    {
      "cell_type": "markdown",
      "source": [
        "# **Desafio: Autocompletar Palavras**\n",
        "### Aluno: Paulo Ricardo Dantas\n",
        "### Matrícula: 20230000789\n",
        "\n",
        "### Objetivo:\n",
        "**Criar um sistema de autocompletar palavras usando uma árvore AVL.**\n",
        "### Etapas:\n",
        "- Pré-processamento do Corpus:\n",
        "\n",
        "- Construção da Árvore AVL:\n",
        "\n",
        "- Autocompletar:\n",
        "\n",
        "- Análise de Desempenho:\n"
      ],
      "metadata": {
        "id": "OPLoSMxYR2Lr"
      }
    },
    {
      "cell_type": "code",
      "execution_count": 53,
      "metadata": {
        "id": "iG9CTMcwRtIQ"
      },
      "outputs": [],
      "source": [
        "#Importando bibliotecas\n",
        "import plotly.graph_objects as go\n",
        "import string\n",
        "import time\n",
        "import plotly.express as px"
      ]
    },
    {
      "cell_type": "markdown",
      "source": [
        "## [1/4] Pré-processamento do Corpus\n",
        "* Converta todo o texto para minúsculas.\n",
        "* Remova pontuação e caracteres especiais.\n",
        "* Divida o texto em palavras.\n",
        "* Remova palavras de parada (ex: \"e\", \"ou\", \"mas\", \"a\", \"o\" etc.) se desejar."
      ],
      "metadata": {
        "id": "yD5SaNJxTG-K"
      }
    },
    {
      "cell_type": "code",
      "source": [
        "# Eu pedi para que o ChatGPT me gerasse um texto de 30 linhas. Esse é o que vou usar como corpus do programa.\n",
        "# Salvei o arquivo em txt e vou deixar disponibilizado na pasta do git.\n",
        "\n",
        "# Lembrar de fazer o upload do corpus para o colab para o código funcionar\n",
        "\n",
        "with open('corpus.txt', \"r\", encoding=\"utf-8\") as corpus: # Guardando o corpus numa variável\n",
        "    texto = corpus.read()\n",
        "\n",
        "# Primeiro vou separar as palavras em uma lista\n",
        "palavras = texto.split()\n"
      ],
      "metadata": {
        "id": "VK4JJMWOT_0n"
      },
      "execution_count": 54,
      "outputs": []
    },
    {
      "cell_type": "code",
      "source": [
        "# Removendo as pontuações\n",
        "\n",
        "def remove_pontuacoes(texto):\n",
        "    translator = str.maketrans('', '', string.punctuation)\n",
        "    return texto.translate(translator)\n",
        "\n",
        "# Percorre a lista e remove todas as pontuações de cada string\n",
        "palavras = [remove_pontuacoes(palavra) for palavra in palavras]"
      ],
      "metadata": {
        "id": "XKBONnxOdIfC"
      },
      "execution_count": 55,
      "outputs": []
    },
    {
      "cell_type": "code",
      "source": [
        "# Deixando todas as palavras em minúsculo\n",
        "palavras = [palavra.lower() for palavra in palavras]"
      ],
      "metadata": {
        "id": "kmDhFWLWnHa_"
      },
      "execution_count": 56,
      "outputs": []
    },
    {
      "cell_type": "code",
      "source": [
        "# Para finalizar a parte de pré processamento, vou usar uma lista auxiliar para remover itens repetidos.\n",
        "aux = [] # Vazio\n",
        "\n",
        "# O laço vai verificar se cada palavra já está na lista. Se não estiver, é adicionada à lista. Se já estiver na lista, pula para a próxima palavra.\n",
        "\n",
        "for palavra in palavras:\n",
        "    if palavra not in aux:\n",
        "        aux.append(palavra)\n",
        "\n",
        "# Por fim eu vou guardar os valores dessa nova lista na minha antiga, para fins de organização.\n",
        "palavras = aux\n"
      ],
      "metadata": {
        "id": "00Vo7xtbonnG"
      },
      "execution_count": 57,
      "outputs": []
    },
    {
      "cell_type": "markdown",
      "source": [
        "##[2/4] Construção da Árvore AVL\n",
        "* Insira todas as palavras únicas do corpus na árvore AVL."
      ],
      "metadata": {
        "id": "npkknS6RTfpv"
      }
    },
    {
      "cell_type": "markdown",
      "source": [
        "**OBS: Para construção da ALV vai ser reutilizado o código disponibilizado pelo professor Ivanovitch**\n",
        "\n",
        "**OBS2: A fim de tentar enxugar o código, foi retirado a documentação do código do professor**"
      ],
      "metadata": {
        "id": "5xPYItzkRdNy"
      }
    },
    {
      "cell_type": "code",
      "source": [
        "class Node:\n",
        "\n",
        "    def __init__(self, value):\n",
        "\n",
        "        self.value = value\n",
        "        self.left_child = None\n",
        "        self.right_child = None\n",
        "\n",
        "\n",
        "class BST:\n",
        "    def __init__(self):\n",
        "\n",
        "        self.root = None\n",
        "\n",
        "    def add(self, value):\n",
        "        if self.root is None:\n",
        "            self.root = Node(value)\n",
        "        else:\n",
        "            self._add_recursive(self.root, value)\n",
        "\n",
        "    def _add_recursive(self, current_node, value):\n",
        "\n",
        "        if value <= current_node.value:\n",
        "            if current_node.left_child is None:\n",
        "                current_node.left_child = Node(value)\n",
        "            else:\n",
        "                self._add_recursive(current_node.left_child, value)\n",
        "        else:\n",
        "            if current_node.right_child is None:\n",
        "                current_node.right_child = Node(value)\n",
        "            else:\n",
        "                self._add_recursive(current_node.right_child, value)\n",
        "\n",
        "    def _contains(self, current_node, value):\n",
        "\n",
        "        if current_node is None:\n",
        "            return False\n",
        "        if current_node.value == value:\n",
        "            return True\n",
        "        if value < current_node.value:\n",
        "            return self._contains(current_node.left_child, value)\n",
        "        return self._contains(current_node.right_child, value)\n",
        "\n",
        "    def contains(self, value):\n",
        "        return self._contains(self.root, value)\n",
        "\n",
        "    def get_height(self):\n",
        "        return self._get_height(self.root)\n",
        "\n",
        "    def _get_height(self, node):\n",
        "        if node is None:\n",
        "            return 0\n",
        "        left_height = self._get_height(node.left_child)\n",
        "        right_height = self._get_height(node.right_child)\n",
        "\n",
        "        return max(left_height, right_height) + 1"
      ],
      "metadata": {
        "id": "lB_FrmqzRmht"
      },
      "execution_count": 58,
      "outputs": []
    },
    {
      "cell_type": "code",
      "source": [
        "class AVLNode(Node):\n",
        "    def __init__(self, value):\n",
        "        super().__init__(value)\n",
        "        self.height = 1\n",
        "        self.imbalance = 0\n",
        "\n",
        "    def calculate_height_and_imbalance(self):\n",
        "        # Calculate the height of the left child subtree\n",
        "        left_height = 0\n",
        "        if self.left_child is not None:\n",
        "            left_height = self.left_child.height\n",
        "\n",
        "        # Calculate the height of the right child subtree\n",
        "        right_height = 0\n",
        "        if self.right_child is not None:\n",
        "            right_height = self.right_child.height\n",
        "\n",
        "        # Update the height of this node\n",
        "        self.height = 1 + max(left_height, right_height)\n",
        "\n",
        "        # Calculate and update the imbalance factor for this node\n",
        "        self.imbalance = left_height - right_height\n"
      ],
      "metadata": {
        "id": "VHwGY-foRmxY"
      },
      "execution_count": 59,
      "outputs": []
    },
    {
      "cell_type": "code",
      "source": [
        "class AVLTree(BST):\n",
        "    def __init__(self):\n",
        "        super().__init__()\n",
        "\n",
        "    def add(self, value):\n",
        "        self.root = self._add_recursive(self.root, value)  # Note that self.root is updated here\n",
        "\n",
        "\n",
        "    def _add_recursive(self, current_node, value):\n",
        "        # If the current node is None, return a new AVLNode containing the value\n",
        "        if current_node is None:\n",
        "            return AVLNode(value)\n",
        "\n",
        "        # Check if current_node is of the base class Node and cast it to AVLNode if necessary\n",
        "        # This is necessary to not change the add() in the BST class.\n",
        "        # When the first node is added, the type of the root is Node, so we need to cast it\n",
        "        if isinstance(current_node, Node) and not isinstance(current_node, AVLNode):\n",
        "            current_node = AVLNode(current_node.value)\n",
        "            current_node.left_child = self.root.left_child\n",
        "            current_node.right_child = self.root.right_child\n",
        "            self.root = current_node\n",
        "\n",
        "        # Determine whether the value should be inserted to the left or right subtree\n",
        "        if value <= current_node.value:\n",
        "            current_node.left_child = self._add_recursive(current_node.left_child, value)\n",
        "        else:\n",
        "            current_node.right_child = self._add_recursive(current_node.right_child, value)\n",
        "\n",
        "        # Update the height and imbalance factor for the current node\n",
        "        current_node.calculate_height_and_imbalance()\n",
        "\n",
        "        # Check if tree balancing is needed and balance if necessary\n",
        "        if abs(current_node.imbalance) == 2:\n",
        "            return self._balance(current_node)\n",
        "\n",
        "        return current_node\n",
        "\n",
        "    def get_height(self):\n",
        "        if self.root is None:\n",
        "            return 0\n",
        "        return self.root.height\n",
        "\n",
        "    def _rotate_left(self, node):\n",
        "        # Store the pivot (the root of the right subtree of 'node')\n",
        "        pivot = node.right_child\n",
        "\n",
        "        # Update the right child of 'node' to be the left child of the pivot\n",
        "        node.right_child = pivot.left_child\n",
        "\n",
        "        # Set the left child of the pivot to be the node\n",
        "        pivot.left_child = node\n",
        "\n",
        "        # Recalculate the height and imbalance factor for the rotated node\n",
        "        node.calculate_height_and_imbalance()\n",
        "\n",
        "        # Recalculate the height and imbalance factor for the pivot\n",
        "        pivot.calculate_height_and_imbalance()\n",
        "\n",
        "        # Return the pivot as the new root of this subtree\n",
        "        return pivot\n",
        "\n",
        "\n",
        "    def _rotate_right(self, node):\n",
        "        # Store the pivot (the root of the left subtree of 'node')\n",
        "        pivot = node.left_child\n",
        "\n",
        "        # Update the left child of 'node' to be the right child of the pivot\n",
        "        node.left_child = pivot.right_child\n",
        "\n",
        "        # Set the right child of the pivot to be the node\n",
        "        pivot.right_child = node\n",
        "\n",
        "        # Recalculate the height and imbalance factor for the rotated node\n",
        "        node.calculate_height_and_imbalance()\n",
        "\n",
        "        # Recalculate the height and imbalance factor for the pivot\n",
        "        pivot.calculate_height_and_imbalance()\n",
        "\n",
        "        # Return the pivot as the new root of this subtree\n",
        "        return pivot\n",
        "\n",
        "    def _balance(self, node):\n",
        "      # Case 1: Left subtree is higher than right subtree\n",
        "      if node.imbalance == 2:\n",
        "          pivot = node.left_child\n",
        "          # Single right rotation\n",
        "          if pivot.imbalance == 1:\n",
        "              return self._rotate_right(node)\n",
        "          # Double rotation: Left-Right\n",
        "          else:\n",
        "              node.left_child = self._rotate_left(pivot)\n",
        "              return self._rotate_right(node)\n",
        "      # Case 2: Right subtree is higher than left subtree\n",
        "      else:\n",
        "          pivot = node.right_child\n",
        "          # Single left rotation\n",
        "          if pivot.imbalance == -1:\n",
        "              return self._rotate_left(node)\n",
        "          # Double rotation: Right-Left\n",
        "          else:\n",
        "              node.right_child = self._rotate_right(pivot)\n",
        "              return self._rotate_left(node)\n",
        "\n",
        "    def procuraPalavras(self, prefixo):\n",
        "        result = []\n",
        "        self._procuraPalavras(self.root, prefixo, result)\n",
        "        return result\n",
        "\n",
        "    def _procuraPalavras(self, current_node, prefixo, result):\n",
        "        if current_node is None:\n",
        "            return\n",
        "\n",
        "        if current_node.value.startswith(prefixo):\n",
        "            result.append(current_node.value)\n",
        "\n",
        "        if current_node.value >= prefixo:\n",
        "            self._procuraPalavras(current_node.left_child, prefixo, result)\n",
        "\n",
        "        self._procuraPalavras(current_node.right_child, prefixo, result)"
      ],
      "metadata": {
        "id": "qOHhmhWfQWzq"
      },
      "execution_count": 60,
      "outputs": []
    },
    {
      "cell_type": "code",
      "source": [
        "# Depois de usar todas as classes e implementação feita pelo professor, o próximo passo é passar nosso corpus para a árvore AVL\n",
        "\n",
        "avl = AVLTree() # Iniciando a árvore\n",
        "for palavra in palavras: # Usando um laço para percorrer a lista e adicionar os valores a árvore\n",
        "    avl.add(palavra)"
      ],
      "metadata": {
        "id": "Hc8hfK1hR40c"
      },
      "execution_count": 61,
      "outputs": []
    },
    {
      "cell_type": "code",
      "source": [
        "# Para visualizar a árvore e ver se o trecho acima funcionou, vou utilizar uma função também disponibilizada pelo professor Ivanovitch para visualização da AVL.\n",
        "\n",
        "def visualize_avl_tree(avl_tree):\n",
        "\n",
        "    # Lists to store node values, hover texts, x and y coordinates, and edge coordinates\n",
        "    node_values = []\n",
        "    hover_texts = []\n",
        "    Xn, Yn = [], []\n",
        "    Xe, Ye = [], []\n",
        "\n",
        "    # Traversing the tree to collect node and edge data\n",
        "    def traverse(node, x=0, y=0, layer=1):\n",
        "        if node is not None:\n",
        "            node_values.append(node.value)\n",
        "            hover_texts.append(f\"Value: {node.value}Height: {node.height}Imbalance: {node.imbalance}\")\n",
        "            Xn.append(x)\n",
        "            Yn.append(y)\n",
        "            if node.left_child:\n",
        "                Xe.extend([x, x - layer])\n",
        "                Ye.extend([y, y - layer * 2])\n",
        "                traverse(node.left_child, x=x-layer, y=y-layer*2, layer=layer/2)\n",
        "            if node.right_child:\n",
        "                Xe.extend([x, x + layer])\n",
        "                Ye.extend([y, y - layer * 2])\n",
        "                traverse(node.right_child, x=x+layer, y=y-layer*2, layer=layer/2)\n",
        "\n",
        "    # Initialize traversal with the root node of the AVL tree\n",
        "    traverse(avl_tree.root)\n",
        "\n",
        "    # Create Plotly figure\n",
        "    fig = go.Figure()\n",
        "\n",
        "    # Add nodes (as scatter plot)\n",
        "    fig.add_trace(go.Scatter(x=Xn,\n",
        "                             y=Yn,\n",
        "                             mode='markers+text',\n",
        "                             name='Nodes',\n",
        "                             marker=dict(symbol='circle-dot',\n",
        "                                         size=30,\n",
        "                                         color='blue'),\n",
        "                             text=node_values,  # This will appear inside the node\n",
        "                             hoverinfo='text',\n",
        "                             hovertext=hover_texts,  # This will appear upon hover\n",
        "                             textposition='top center'))\n",
        "\n",
        "    # Add edges (as line plot)\n",
        "    fig.add_trace(go.Scatter(x=Xe,\n",
        "                             y=Ye,\n",
        "                             mode='lines',\n",
        "                             name='Edges',\n",
        "                             line=dict(width=1.5, color='gray')))\n",
        "\n",
        "    # Set layout properties\n",
        "    fig.update_layout(showlegend=False,\n",
        "                      hovermode='closest',\n",
        "                      xaxis=dict(showgrid=False, zeroline=False, showticklabels=False),\n",
        "                      yaxis=dict(showgrid=False, zeroline=False, showticklabels=False))\n",
        "\n",
        "    fig.show()"
      ],
      "metadata": {
        "id": "1XQHf_3_SQXA"
      },
      "execution_count": 62,
      "outputs": []
    },
    {
      "cell_type": "code",
      "source": [
        "visualize_avl_tree(avl)"
      ],
      "metadata": {
        "id": "-YK3Z64-SZIg",
        "outputId": "2659e930-73ed-4100-8e59-f36722b54622",
        "colab": {
          "base_uri": "https://localhost:8080/",
          "height": 542
        }
      },
      "execution_count": 63,
      "outputs": [
        {
          "output_type": "display_data",
          "data": {
            "text/html": [
              "<html>\n",
              "<head><meta charset=\"utf-8\" /></head>\n",
              "<body>\n",
              "    <div>            <script src=\"https://cdnjs.cloudflare.com/ajax/libs/mathjax/2.7.5/MathJax.js?config=TeX-AMS-MML_SVG\"></script><script type=\"text/javascript\">if (window.MathJax && window.MathJax.Hub && window.MathJax.Hub.Config) {window.MathJax.Hub.Config({SVG: {font: \"STIX-Web\"}});}</script>                <script type=\"text/javascript\">window.PlotlyConfig = {MathJaxConfig: 'local'};</script>\n",
              "        <script charset=\"utf-8\" src=\"https://cdn.plot.ly/plotly-2.24.1.min.js\"></script>                <div id=\"cc217956-5792-4293-bb1b-808a86587d20\" class=\"plotly-graph-div\" style=\"height:525px; width:100%;\"></div>            <script type=\"text/javascript\">                                    window.PLOTLYENV=window.PLOTLYENV || {};                                    if (document.getElementById(\"cc217956-5792-4293-bb1b-808a86587d20\")) {                    Plotly.newPlot(                        \"cc217956-5792-4293-bb1b-808a86587d20\",                        [{\"hoverinfo\":\"text\",\"hovertext\":[\"Value: lugarHeight: 9Imbalance: 0\",\"Value: educa\\u00e7\\u00e3oHeight: 8Imbalance: 0\",\"Value: conhecimentoHeight: 7Imbalance: 0\",\"Value: atrav\\u00e9sHeight: 6Imbalance: 0\",\"Value: altaHeight: 5Imbalance: 0\",\"Value: acess\\u00edvelHeight: 4Imbalance: 0\",\"Value: acessibilidadeHeight: 3Imbalance: 1\",\"Value: aHeight: 2Imbalance: -1\",\"Value: acad\\u00eamicoHeight: 1Imbalance: 0\",\"Value: acessoHeight: 1Imbalance: 0\",\"Value: adquiremHeight: 3Imbalance: 0\",\"Value: adaptarseHeight: 2Imbalance: 0\",\"Value: acompanharHeight: 1Imbalance: 0\",\"Value: adequadaHeight: 1Imbalance: 0\",\"Value: alcanceHeight: 2Imbalance: 0\",\"Value: adquirirHeight: 1Imbalance: 0\",\"Value: algunsHeight: 1Imbalance: 0\",\"Value: aprendemosHeight: 4Imbalance: 0\",\"Value: al\\u00e9mHeight: 3Imbalance: -1\",\"Value: alunosHeight: 1Imbalance: 0\",\"Value: apenasHeight: 2Imbalance: 0\",\"Value: aoHeight: 1Imbalance: 0\",\"Value: apoiarHeight: 1Imbalance: 0\",\"Value: aprimoradaHeight: 3Imbalance: 1\",\"Value: aprendizagemHeight: 2Imbalance: 0\",\"Value: aprenderHeight: 1Imbalance: 0\",\"Value: apresentaHeight: 1Imbalance: 0\",\"Value: asHeight: 1Imbalance: 0\",\"Value: chaveHeight: 5Imbalance: -1\",\"Value: cadaHeight: 3Imbalance: 1\",\"Value: barreirasHeight: 2Imbalance: 0\",\"Value: aulaHeight: 1Imbalance: 0\",\"Value: bemHeight: 1Imbalance: 0\",\"Value: capacitamHeight: 1Imbalance: 0\",\"Value: comoHeight: 4Imbalance: 1\",\"Value: cidad\\u00e3osHeight: 3Imbalance: -1\",\"Value: cibern\\u00e9ticaHeight: 1Imbalance: 0\",\"Value: civilHeight: 2Imbalance: 0\",\"Value: circunst\\u00e2nciasHeight: 1Imbalance: 0\",\"Value: comHeight: 1Imbalance: 0\",\"Value: computa\\u00e7\\u00e3oHeight: 2Imbalance: 0\",\"Value: compromissoHeight: 1Imbalance: 0\",\"Value: comunidadesHeight: 1Imbalance: 0\",\"Value: desempenhaHeight: 6Imbalance: 0\",\"Value: crescimentoHeight: 5Imbalance: 0\",\"Value: constantementeHeight: 4Imbalance: -1\",\"Value: conscientesHeight: 2Imbalance: 0\",\"Value: conhecimentosHeight: 1Imbalance: 0\",\"Value: constanteHeight: 1Imbalance: 0\",\"Value: contribuirHeight: 3Imbalance: 1\",\"Value: conte\\u00fadoHeight: 2Imbalance: 1\",\"Value: construirHeight: 1Imbalance: 0\",\"Value: crescerHeight: 1Imbalance: 0\",\"Value: daHeight: 4Imbalance: 0\",\"Value: crian\\u00e7asHeight: 3Imbalance: -1\",\"Value: criaHeight: 1Imbalance: 0\",\"Value: crucialHeight: 2Imbalance: 1\",\"Value: criticamenteHeight: 1Imbalance: 0\",\"Value: deHeight: 3Imbalance: -1\",\"Value: dasHeight: 1Imbalance: 0\",\"Value: desafiosHeight: 2Imbalance: 1\",\"Value: demandasHeight: 1Imbalance: 0\",\"Value: doHeight: 5Imbalance: 1\",\"Value: disparidadesHeight: 4Imbalance: 1\",\"Value: deveHeight: 3Imbalance: 0\",\"Value: desenvolvimentoHeight: 2Imbalance: 0\",\"Value: desenvolverHeight: 1Imbalance: 0\",\"Value: destacouHeight: 1Imbalance: 0\",\"Value: devemHeight: 2Imbalance: -1\",\"Value: devemosHeight: 1Imbalance: 0\",\"Value: dissoHeight: 2Imbalance: 1\",\"Value: dispostasHeight: 1Imbalance: 0\",\"Value: eHeight: 3Imbalance: -1\",\"Value: dosHeight: 1Imbalance: 0\",\"Value: educacionaisHeight: 2Imbalance: -1\",\"Value: educacionalHeight: 1Imbalance: 0\",\"Value: fundamentalHeight: 7Imbalance: 0\",\"Value: entantoHeight: 6Imbalance: -1\",\"Value: enfrentarHeight: 4Imbalance: 1\",\"Value: emHeight: 3Imbalance: -1\",\"Value: elaHeight: 1Imbalance: 0\",\"Value: enfrentaHeight: 2Imbalance: 0\",\"Value: empatiaHeight: 1Imbalance: 0\",\"Value: enfrentamHeight: 1Imbalance: 0\",\"Value: ensinaHeight: 2Imbalance: 0\",\"Value: enquantoHeight: 1Imbalance: 0\",\"Value: ensinamosHeight: 1Imbalance: 0\",\"Value: etniaHeight: 5Imbalance: -1\",\"Value: esforcemHeight: 3Imbalance: -1\",\"Value: equitativaHeight: 1Imbalance: 0\",\"Value: essesHeight: 2Imbalance: 0\",\"Value: essencialHeight: 1Imbalance: 0\",\"Value: estarHeight: 1Imbalance: 0\",\"Value: flexibilidadeHeight: 4Imbalance: 1\",\"Value: exemploHeight: 3Imbalance: -1\",\"Value: evolu\\u00e7\\u00e3oHeight: 1Imbalance: 0\",\"Value: faltaHeight: 2Imbalance: 0\",\"Value: exp\\u00f4sHeight: 1Imbalance: 0\",\"Value: financiamentoHeight: 1Imbalance: 0\",\"Value: formaHeight: 2Imbalance: -1\",\"Value: forma\\u00e7\\u00e3oHeight: 1Imbalance: 0\",\"Value: impactosHeight: 6Imbalance: -1\",\"Value: governosHeight: 4Imbalance: 1\",\"Value: geralHeight: 3Imbalance: 0\",\"Value: garantirHeight: 2Imbalance: 1\",\"Value: futuroHeight: 1Imbalance: 0\",\"Value: globalHeight: 2Imbalance: -1\",\"Value: governamentaisHeight: 1Imbalance: 0\",\"Value: habilidadesHeight: 2Imbalance: 0\",\"Value: g\\u00eaneroHeight: 1Imbalance: 0\",\"Value: igualit\\u00e1rioHeight: 1Imbalance: 0\",\"Value: issoHeight: 5Imbalance: 1\",\"Value: independentementeHeight: 4Imbalance: -1\",\"Value: inclusivaHeight: 2Imbalance: 1\",\"Value: importanteHeight: 1Imbalance: 0\",\"Value: internetHeight: 3Imbalance: 1\",\"Value: institui\\u00e7\\u00f5esHeight: 2Imbalance: 1\",\"Value: infraestruturaHeight: 1Imbalance: 0\",\"Value: investimentosHeight: 1Imbalance: 0\",\"Value: localHeight: 3Imbalance: 1\",\"Value: justoHeight: 2Imbalance: 0\",\"Value: juntosHeight: 1Imbalance: 0\",\"Value: limitaHeight: 1Imbalance: 0\",\"Value: longoHeight: 1Imbalance: 0\",\"Value: qualquerHeight: 8Imbalance: 0\",\"Value: obterHeight: 7Imbalance: -1\",\"Value: naHeight: 5Imbalance: 0\",\"Value: mudan\\u00e7aHeight: 4Imbalance: 1\",\"Value: masHeight: 3Imbalance: 0\",\"Value: manteremHeight: 2Imbalance: 1\",\"Value: maisHeight: 1Imbalance: 0\",\"Value: mercadoHeight: 2Imbalance: 0\",\"Value: melhorHeight: 1Imbalance: 0\",\"Value: moldaHeight: 1Imbalance: 0\",\"Value: muitosHeight: 2Imbalance: 0\",\"Value: muitasHeight: 1Imbalance: 0\",\"Value: mundoHeight: 1Imbalance: 0\",\"Value: noHeight: 4Imbalance: 0\",\"Value: na\\u00e7\\u00e3oHeight: 3Imbalance: -1\",\"Value: nascimentoHeight: 1Imbalance: 0\",\"Value: necessidadeHeight: 2Imbalance: 0\",\"Value: na\\u00e7\\u00f5esHeight: 1Imbalance: 0\",\"Value: necess\\u00e1rioHeight: 1Imbalance: 0\",\"Value: n\\u00e3oHeight: 3Imbalance: 0\",\"Value: novasHeight: 2Imbalance: 0\",\"Value: nossaHeight: 1Imbalance: 0\",\"Value: novosHeight: 1Imbalance: 0\",\"Value: oHeight: 2Imbalance: 0\",\"Value: n\\u00edveisHeight: 1Imbalance: 0\",\"Value: obst\\u00e1culosHeight: 1Imbalance: 0\",\"Value: papelHeight: 6Imbalance: -1\",\"Value: osHeight: 4Imbalance: 0\",\"Value: onlineHeight: 3Imbalance: -1\",\"Value: ofereceHeight: 1Imbalance: 0\",\"Value: organiza\\u00e7\\u00f5esHeight: 2Imbalance: 0\",\"Value: oportunidadeHeight: 1Imbalance: 0\",\"Value: origemHeight: 1Imbalance: 0\",\"Value: outroHeight: 3Imbalance: -1\",\"Value: ouHeight: 1Imbalance: 0\",\"Value: outrosHeight: 2Imbalance: -1\",\"Value: pandemiaHeight: 1Imbalance: 0\",\"Value: porHeight: 5Imbalance: -1\",\"Value: pessoasHeight: 3Imbalance: 1\",\"Value: pa\\u00edsesHeight: 2Imbalance: 0\",\"Value: paraHeight: 1Imbalance: 0\",\"Value: pensaremHeight: 1Imbalance: 0\",\"Value: podeHeight: 1Imbalance: 0\",\"Value: progressoHeight: 4Imbalance: 1\",\"Value: prepararHeight: 3Imbalance: 0\",\"Value: precisamHeight: 2Imbalance: 1\",\"Value: portantoHeight: 1Imbalance: 0\",\"Value: professoresHeight: 2Imbalance: 1\",\"Value: prioridadeHeight: 1Imbalance: 0\",\"Value: qualidadeHeight: 2Imbalance: 1\",\"Value: p\\u00fablicoHeight: 1Imbalance: 0\",\"Value: sociedadeHeight: 7Imbalance: -1\",\"Value: revolucionadoHeight: 5Imbalance: 0\",\"Value: relevantesHeight: 4Imbalance: 0\",\"Value: questionaremHeight: 3Imbalance: -1\",\"Value: queHeight: 1Imbalance: 0\",\"Value: rapidamenteHeight: 2Imbalance: 0\",\"Value: quoHeight: 1Imbalance: 0\",\"Value: recursosHeight: 1Imbalance: 0\",\"Value: responsabilidadeHeight: 3Imbalance: 0\",\"Value: respeitoHeight: 2Imbalance: 1\",\"Value: requerHeight: 1Imbalance: 0\",\"Value: respons\\u00e1veisHeight: 2Imbalance: -1\",\"Value: resumoHeight: 1Imbalance: 0\",\"Value: seHeight: 4Imbalance: -1\",\"Value: salasHeight: 2Imbalance: 1\",\"Value: r\\u00e1pidaHeight: 1Imbalance: 0\",\"Value: significaHeight: 3Imbalance: 0\",\"Value: sejaHeight: 2Imbalance: 0\",\"Value: seguran\\u00e7aHeight: 1Imbalance: 0\",\"Value: serHeight: 1Imbalance: 0\",\"Value: significativosHeight: 2Imbalance: 0\",\"Value: significativamenteHeight: 1Imbalance: 0\",\"Value: sistemaHeight: 1Imbalance: 0\",\"Value: umHeight: 6Imbalance: 1\",\"Value: todasHeight: 5Imbalance: 0\",\"Value: sucessoHeight: 4Imbalance: 0\",\"Value: suaHeight: 3Imbalance: 1\",\"Value: socioecon\\u00f4micaHeight: 2Imbalance: -1\",\"Value: statusHeight: 1Imbalance: 0\",\"Value: suasHeight: 1Imbalance: 0\",\"Value: s\\u00e3oHeight: 3Imbalance: 0\",\"Value: sustent\\u00e1velHeight: 2Imbalance: 1\",\"Value: superarHeight: 1Imbalance: 0\",\"Value: tecnologiaHeight: 2Imbalance: 0\",\"Value: tamb\\u00e9mHeight: 1Imbalance: 0\",\"Value: tenhamHeight: 1Imbalance: 0\",\"Value: trabalhoHeight: 4Imbalance: 0\",\"Value: todosHeight: 3Imbalance: -1\",\"Value: todoHeight: 1Imbalance: 0\",\"Value: trabalharemHeight: 2Imbalance: 1\",\"Value: trabalharHeight: 1Imbalance: 0\",\"Value: treinadosHeight: 3Imbalance: -1\",\"Value: trataHeight: 1Imbalance: 0\",\"Value: t\\u00eamHeight: 2Imbalance: 1\",\"Value: treinamentoHeight: 1Imbalance: 0\",\"Value: vidaHeight: 4Imbalance: 0\",\"Value: valoresHeight: 3Imbalance: -1\",\"Value: umaHeight: 1Imbalance: 0\",\"Value: variarHeight: 2Imbalance: 0\",\"Value: valorizarHeight: 1Imbalance: 0\",\"Value: vezHeight: 1Imbalance: 0\",\"Value: vulnerabilidadesHeight: 3Imbalance: 0\",\"Value: vidasHeight: 2Imbalance: -1\",\"Value: vitalHeight: 1Imbalance: 0\",\"Value: \\u00e0sHeight: 2Imbalance: 0\",\"Value: \\u00e0Height: 1Imbalance: 0\",\"Value: \\u00e9Height: 1Imbalance: 0\"],\"marker\":{\"color\":\"blue\",\"size\":30,\"symbol\":\"circle-dot\"},\"mode\":\"markers+text\",\"name\":\"Nodes\",\"text\":[\"lugar\",\"educa\\u00e7\\u00e3o\",\"conhecimento\",\"atrav\\u00e9s\",\"alta\",\"acess\\u00edvel\",\"acessibilidade\",\"a\",\"acad\\u00eamico\",\"acesso\",\"adquirem\",\"adaptarse\",\"acompanhar\",\"adequada\",\"alcance\",\"adquirir\",\"alguns\",\"aprendemos\",\"al\\u00e9m\",\"alunos\",\"apenas\",\"ao\",\"apoiar\",\"aprimorada\",\"aprendizagem\",\"aprender\",\"apresenta\",\"as\",\"chave\",\"cada\",\"barreiras\",\"aula\",\"bem\",\"capacitam\",\"como\",\"cidad\\u00e3os\",\"cibern\\u00e9tica\",\"civil\",\"circunst\\u00e2ncias\",\"com\",\"computa\\u00e7\\u00e3o\",\"compromisso\",\"comunidades\",\"desempenha\",\"crescimento\",\"constantemente\",\"conscientes\",\"conhecimentos\",\"constante\",\"contribuir\",\"conte\\u00fado\",\"construir\",\"crescer\",\"da\",\"crian\\u00e7as\",\"cria\",\"crucial\",\"criticamente\",\"de\",\"das\",\"desafios\",\"demandas\",\"do\",\"disparidades\",\"deve\",\"desenvolvimento\",\"desenvolver\",\"destacou\",\"devem\",\"devemos\",\"disso\",\"dispostas\",\"e\",\"dos\",\"educacionais\",\"educacional\",\"fundamental\",\"entanto\",\"enfrentar\",\"em\",\"ela\",\"enfrenta\",\"empatia\",\"enfrentam\",\"ensina\",\"enquanto\",\"ensinamos\",\"etnia\",\"esforcem\",\"equitativa\",\"esses\",\"essencial\",\"estar\",\"flexibilidade\",\"exemplo\",\"evolu\\u00e7\\u00e3o\",\"falta\",\"exp\\u00f4s\",\"financiamento\",\"forma\",\"forma\\u00e7\\u00e3o\",\"impactos\",\"governos\",\"geral\",\"garantir\",\"futuro\",\"global\",\"governamentais\",\"habilidades\",\"g\\u00eanero\",\"igualit\\u00e1rio\",\"isso\",\"independentemente\",\"inclusiva\",\"importante\",\"internet\",\"institui\\u00e7\\u00f5es\",\"infraestrutura\",\"investimentos\",\"local\",\"justo\",\"juntos\",\"limita\",\"longo\",\"qualquer\",\"obter\",\"na\",\"mudan\\u00e7a\",\"mas\",\"manterem\",\"mais\",\"mercado\",\"melhor\",\"molda\",\"muitos\",\"muitas\",\"mundo\",\"no\",\"na\\u00e7\\u00e3o\",\"nascimento\",\"necessidade\",\"na\\u00e7\\u00f5es\",\"necess\\u00e1rio\",\"n\\u00e3o\",\"novas\",\"nossa\",\"novos\",\"o\",\"n\\u00edveis\",\"obst\\u00e1culos\",\"papel\",\"os\",\"online\",\"oferece\",\"organiza\\u00e7\\u00f5es\",\"oportunidade\",\"origem\",\"outro\",\"ou\",\"outros\",\"pandemia\",\"por\",\"pessoas\",\"pa\\u00edses\",\"para\",\"pensarem\",\"pode\",\"progresso\",\"preparar\",\"precisam\",\"portanto\",\"professores\",\"prioridade\",\"qualidade\",\"p\\u00fablico\",\"sociedade\",\"revolucionado\",\"relevantes\",\"questionarem\",\"que\",\"rapidamente\",\"quo\",\"recursos\",\"responsabilidade\",\"respeito\",\"requer\",\"respons\\u00e1veis\",\"resumo\",\"se\",\"salas\",\"r\\u00e1pida\",\"significa\",\"seja\",\"seguran\\u00e7a\",\"ser\",\"significativos\",\"significativamente\",\"sistema\",\"um\",\"todas\",\"sucesso\",\"sua\",\"socioecon\\u00f4mica\",\"status\",\"suas\",\"s\\u00e3o\",\"sustent\\u00e1vel\",\"superar\",\"tecnologia\",\"tamb\\u00e9m\",\"tenham\",\"trabalho\",\"todos\",\"todo\",\"trabalharem\",\"trabalhar\",\"treinados\",\"trata\",\"t\\u00eam\",\"treinamento\",\"vida\",\"valores\",\"uma\",\"variar\",\"valorizar\",\"vez\",\"vulnerabilidades\",\"vidas\",\"vital\",\"\\u00e0s\",\"\\u00e0\",\"\\u00e9\"],\"textposition\":\"top center\",\"x\":[0,-1,-1.5,-1.75,-1.875,-1.9375,-1.96875,-1.984375,-1.9765625,-1.953125,-1.90625,-1.921875,-1.9296875,-1.9140625,-1.890625,-1.8984375,-1.8828125,-1.8125,-1.84375,-1.859375,-1.828125,-1.8359375,-1.8203125,-1.78125,-1.796875,-1.8046875,-1.7890625,-1.765625,-1.625,-1.6875,-1.71875,-1.734375,-1.703125,-1.65625,-1.5625,-1.59375,-1.609375,-1.578125,-1.5859375,-1.5703125,-1.53125,-1.546875,-1.515625,-1.25,-1.375,-1.4375,-1.46875,-1.484375,-1.453125,-1.40625,-1.421875,-1.4296875,-1.390625,-1.3125,-1.34375,-1.359375,-1.328125,-1.3359375,-1.28125,-1.296875,-1.265625,-1.2734375,-1.125,-1.1875,-1.21875,-1.234375,-1.2421875,-1.2265625,-1.203125,-1.1953125,-1.15625,-1.171875,-1.0625,-1.09375,-1.03125,-1.015625,-0.5,-0.75,-0.875,-0.9375,-0.96875,-0.90625,-0.921875,-0.890625,-0.8125,-0.84375,-0.78125,-0.625,-0.6875,-0.71875,-0.65625,-0.671875,-0.640625,-0.5625,-0.59375,-0.609375,-0.578125,-0.5859375,-0.5703125,-0.53125,-0.515625,-0.25,-0.375,-0.4375,-0.46875,-0.484375,-0.40625,-0.390625,-0.3125,-0.34375,-0.28125,-0.125,-0.1875,-0.21875,-0.234375,-0.15625,-0.171875,-0.1796875,-0.140625,-0.0625,-0.09375,-0.109375,-0.078125,-0.03125,1,0.5,0.25,0.125,0.0625,0.03125,0.015625,0.09375,0.078125,0.109375,0.1875,0.15625,0.21875,0.375,0.3125,0.28125,0.34375,0.328125,0.359375,0.4375,0.40625,0.390625,0.421875,0.46875,0.453125,0.484375,0.75,0.625,0.5625,0.53125,0.59375,0.578125,0.609375,0.6875,0.65625,0.71875,0.734375,0.875,0.8125,0.78125,0.765625,0.796875,0.84375,0.9375,0.90625,0.890625,0.8828125,0.921875,0.9140625,0.96875,0.953125,1.5,1.25,1.125,1.0625,1.03125,1.09375,1.078125,1.109375,1.1875,1.15625,1.140625,1.21875,1.234375,1.375,1.3125,1.28125,1.4375,1.40625,1.390625,1.421875,1.46875,1.453125,1.484375,1.75,1.625,1.5625,1.53125,1.515625,1.5234375,1.546875,1.59375,1.578125,1.5703125,1.609375,1.6015625,1.6171875,1.6875,1.65625,1.640625,1.671875,1.6640625,1.71875,1.703125,1.734375,1.7265625,1.875,1.8125,1.78125,1.84375,1.828125,1.859375,1.9375,1.90625,1.921875,1.96875,1.953125,1.984375],\"y\":[0,-2,-3.0,-3.5,-3.75,-3.875,-3.9375,-3.96875,-3.984375,-3.96875,-3.9375,-3.96875,-3.984375,-3.984375,-3.96875,-3.984375,-3.984375,-3.875,-3.9375,-3.96875,-3.96875,-3.984375,-3.984375,-3.9375,-3.96875,-3.984375,-3.984375,-3.96875,-3.75,-3.875,-3.9375,-3.96875,-3.96875,-3.9375,-3.875,-3.9375,-3.96875,-3.96875,-3.984375,-3.984375,-3.9375,-3.96875,-3.96875,-3.5,-3.75,-3.875,-3.9375,-3.96875,-3.96875,-3.9375,-3.96875,-3.984375,-3.96875,-3.875,-3.9375,-3.96875,-3.96875,-3.984375,-3.9375,-3.96875,-3.96875,-3.984375,-3.75,-3.875,-3.9375,-3.96875,-3.984375,-3.984375,-3.96875,-3.984375,-3.9375,-3.96875,-3.875,-3.9375,-3.9375,-3.96875,-3.0,-3.5,-3.75,-3.875,-3.9375,-3.9375,-3.96875,-3.96875,-3.875,-3.9375,-3.9375,-3.75,-3.875,-3.9375,-3.9375,-3.96875,-3.96875,-3.875,-3.9375,-3.96875,-3.96875,-3.984375,-3.984375,-3.9375,-3.96875,-3.5,-3.75,-3.875,-3.9375,-3.96875,-3.9375,-3.96875,-3.875,-3.9375,-3.9375,-3.75,-3.875,-3.9375,-3.96875,-3.9375,-3.96875,-3.984375,-3.96875,-3.875,-3.9375,-3.96875,-3.96875,-3.9375,-2,-3.0,-3.5,-3.75,-3.875,-3.9375,-3.96875,-3.9375,-3.96875,-3.96875,-3.875,-3.9375,-3.9375,-3.75,-3.875,-3.9375,-3.9375,-3.96875,-3.96875,-3.875,-3.9375,-3.96875,-3.96875,-3.9375,-3.96875,-3.96875,-3.5,-3.75,-3.875,-3.9375,-3.9375,-3.96875,-3.96875,-3.875,-3.9375,-3.9375,-3.96875,-3.75,-3.875,-3.9375,-3.96875,-3.96875,-3.9375,-3.875,-3.9375,-3.96875,-3.984375,-3.96875,-3.984375,-3.9375,-3.96875,-3.0,-3.5,-3.75,-3.875,-3.9375,-3.9375,-3.96875,-3.96875,-3.875,-3.9375,-3.96875,-3.9375,-3.96875,-3.75,-3.875,-3.9375,-3.875,-3.9375,-3.96875,-3.96875,-3.9375,-3.96875,-3.96875,-3.5,-3.75,-3.875,-3.9375,-3.96875,-3.984375,-3.96875,-3.9375,-3.96875,-3.984375,-3.96875,-3.984375,-3.984375,-3.875,-3.9375,-3.96875,-3.96875,-3.984375,-3.9375,-3.96875,-3.96875,-3.984375,-3.75,-3.875,-3.9375,-3.9375,-3.96875,-3.96875,-3.875,-3.9375,-3.96875,-3.9375,-3.96875,-3.96875],\"type\":\"scatter\"},{\"line\":{\"color\":\"gray\",\"width\":1.5},\"mode\":\"lines\",\"name\":\"Edges\",\"x\":[0,-1,-1,-1.5,-1.5,-1.75,-1.75,-1.875,-1.875,-1.9375,-1.9375,-1.96875,-1.96875,-1.984375,-1.984375,-1.9765625,-1.96875,-1.953125,-1.9375,-1.90625,-1.90625,-1.921875,-1.921875,-1.9296875,-1.921875,-1.9140625,-1.90625,-1.890625,-1.890625,-1.8984375,-1.890625,-1.8828125,-1.875,-1.8125,-1.8125,-1.84375,-1.84375,-1.859375,-1.84375,-1.828125,-1.828125,-1.8359375,-1.828125,-1.8203125,-1.8125,-1.78125,-1.78125,-1.796875,-1.796875,-1.8046875,-1.796875,-1.7890625,-1.78125,-1.765625,-1.75,-1.625,-1.625,-1.6875,-1.6875,-1.71875,-1.71875,-1.734375,-1.71875,-1.703125,-1.6875,-1.65625,-1.625,-1.5625,-1.5625,-1.59375,-1.59375,-1.609375,-1.59375,-1.578125,-1.578125,-1.5859375,-1.578125,-1.5703125,-1.5625,-1.53125,-1.53125,-1.546875,-1.53125,-1.515625,-1.5,-1.25,-1.25,-1.375,-1.375,-1.4375,-1.4375,-1.46875,-1.46875,-1.484375,-1.46875,-1.453125,-1.4375,-1.40625,-1.40625,-1.421875,-1.421875,-1.4296875,-1.40625,-1.390625,-1.375,-1.3125,-1.3125,-1.34375,-1.34375,-1.359375,-1.34375,-1.328125,-1.328125,-1.3359375,-1.3125,-1.28125,-1.28125,-1.296875,-1.28125,-1.265625,-1.265625,-1.2734375,-1.25,-1.125,-1.125,-1.1875,-1.1875,-1.21875,-1.21875,-1.234375,-1.234375,-1.2421875,-1.234375,-1.2265625,-1.21875,-1.203125,-1.203125,-1.1953125,-1.1875,-1.15625,-1.15625,-1.171875,-1.125,-1.0625,-1.0625,-1.09375,-1.0625,-1.03125,-1.03125,-1.015625,-1,-0.5,-0.5,-0.75,-0.75,-0.875,-0.875,-0.9375,-0.9375,-0.96875,-0.9375,-0.90625,-0.90625,-0.921875,-0.90625,-0.890625,-0.875,-0.8125,-0.8125,-0.84375,-0.8125,-0.78125,-0.75,-0.625,-0.625,-0.6875,-0.6875,-0.71875,-0.6875,-0.65625,-0.65625,-0.671875,-0.65625,-0.640625,-0.625,-0.5625,-0.5625,-0.59375,-0.59375,-0.609375,-0.59375,-0.578125,-0.578125,-0.5859375,-0.578125,-0.5703125,-0.5625,-0.53125,-0.53125,-0.515625,-0.5,-0.25,-0.25,-0.375,-0.375,-0.4375,-0.4375,-0.46875,-0.46875,-0.484375,-0.4375,-0.40625,-0.40625,-0.390625,-0.375,-0.3125,-0.3125,-0.34375,-0.3125,-0.28125,-0.25,-0.125,-0.125,-0.1875,-0.1875,-0.21875,-0.21875,-0.234375,-0.1875,-0.15625,-0.15625,-0.171875,-0.171875,-0.1796875,-0.15625,-0.140625,-0.125,-0.0625,-0.0625,-0.09375,-0.09375,-0.109375,-0.09375,-0.078125,-0.0625,-0.03125,0,1,1,0.5,0.5,0.25,0.25,0.125,0.125,0.0625,0.0625,0.03125,0.03125,0.015625,0.0625,0.09375,0.09375,0.078125,0.09375,0.109375,0.125,0.1875,0.1875,0.15625,0.1875,0.21875,0.25,0.375,0.375,0.3125,0.3125,0.28125,0.3125,0.34375,0.34375,0.328125,0.34375,0.359375,0.375,0.4375,0.4375,0.40625,0.40625,0.390625,0.40625,0.421875,0.4375,0.46875,0.46875,0.453125,0.46875,0.484375,0.5,0.75,0.75,0.625,0.625,0.5625,0.5625,0.53125,0.5625,0.59375,0.59375,0.578125,0.59375,0.609375,0.625,0.6875,0.6875,0.65625,0.6875,0.71875,0.71875,0.734375,0.75,0.875,0.875,0.8125,0.8125,0.78125,0.78125,0.765625,0.78125,0.796875,0.8125,0.84375,0.875,0.9375,0.9375,0.90625,0.90625,0.890625,0.890625,0.8828125,0.90625,0.921875,0.921875,0.9140625,0.9375,0.96875,0.96875,0.953125,1,1.5,1.5,1.25,1.25,1.125,1.125,1.0625,1.0625,1.03125,1.0625,1.09375,1.09375,1.078125,1.09375,1.109375,1.125,1.1875,1.1875,1.15625,1.15625,1.140625,1.1875,1.21875,1.21875,1.234375,1.25,1.375,1.375,1.3125,1.3125,1.28125,1.375,1.4375,1.4375,1.40625,1.40625,1.390625,1.40625,1.421875,1.4375,1.46875,1.46875,1.453125,1.46875,1.484375,1.5,1.75,1.75,1.625,1.625,1.5625,1.5625,1.53125,1.53125,1.515625,1.515625,1.5234375,1.53125,1.546875,1.5625,1.59375,1.59375,1.578125,1.578125,1.5703125,1.59375,1.609375,1.609375,1.6015625,1.609375,1.6171875,1.625,1.6875,1.6875,1.65625,1.65625,1.640625,1.65625,1.671875,1.671875,1.6640625,1.6875,1.71875,1.71875,1.703125,1.71875,1.734375,1.734375,1.7265625,1.75,1.875,1.875,1.8125,1.8125,1.78125,1.8125,1.84375,1.84375,1.828125,1.84375,1.859375,1.875,1.9375,1.9375,1.90625,1.90625,1.921875,1.9375,1.96875,1.96875,1.953125,1.96875,1.984375],\"y\":[0,-2,-2,-3.0,-3.0,-3.5,-3.5,-3.75,-3.75,-3.875,-3.875,-3.9375,-3.9375,-3.96875,-3.96875,-3.984375,-3.9375,-3.96875,-3.875,-3.9375,-3.9375,-3.96875,-3.96875,-3.984375,-3.96875,-3.984375,-3.9375,-3.96875,-3.96875,-3.984375,-3.96875,-3.984375,-3.75,-3.875,-3.875,-3.9375,-3.9375,-3.96875,-3.9375,-3.96875,-3.96875,-3.984375,-3.96875,-3.984375,-3.875,-3.9375,-3.9375,-3.96875,-3.96875,-3.984375,-3.96875,-3.984375,-3.9375,-3.96875,-3.5,-3.75,-3.75,-3.875,-3.875,-3.9375,-3.9375,-3.96875,-3.9375,-3.96875,-3.875,-3.9375,-3.75,-3.875,-3.875,-3.9375,-3.9375,-3.96875,-3.9375,-3.96875,-3.96875,-3.984375,-3.96875,-3.984375,-3.875,-3.9375,-3.9375,-3.96875,-3.9375,-3.96875,-3.0,-3.5,-3.5,-3.75,-3.75,-3.875,-3.875,-3.9375,-3.9375,-3.96875,-3.9375,-3.96875,-3.875,-3.9375,-3.9375,-3.96875,-3.96875,-3.984375,-3.9375,-3.96875,-3.75,-3.875,-3.875,-3.9375,-3.9375,-3.96875,-3.9375,-3.96875,-3.96875,-3.984375,-3.875,-3.9375,-3.9375,-3.96875,-3.9375,-3.96875,-3.96875,-3.984375,-3.5,-3.75,-3.75,-3.875,-3.875,-3.9375,-3.9375,-3.96875,-3.96875,-3.984375,-3.96875,-3.984375,-3.9375,-3.96875,-3.96875,-3.984375,-3.875,-3.9375,-3.9375,-3.96875,-3.75,-3.875,-3.875,-3.9375,-3.875,-3.9375,-3.9375,-3.96875,-2,-3.0,-3.0,-3.5,-3.5,-3.75,-3.75,-3.875,-3.875,-3.9375,-3.875,-3.9375,-3.9375,-3.96875,-3.9375,-3.96875,-3.75,-3.875,-3.875,-3.9375,-3.875,-3.9375,-3.5,-3.75,-3.75,-3.875,-3.875,-3.9375,-3.875,-3.9375,-3.9375,-3.96875,-3.9375,-3.96875,-3.75,-3.875,-3.875,-3.9375,-3.9375,-3.96875,-3.9375,-3.96875,-3.96875,-3.984375,-3.96875,-3.984375,-3.875,-3.9375,-3.9375,-3.96875,-3.0,-3.5,-3.5,-3.75,-3.75,-3.875,-3.875,-3.9375,-3.9375,-3.96875,-3.875,-3.9375,-3.9375,-3.96875,-3.75,-3.875,-3.875,-3.9375,-3.875,-3.9375,-3.5,-3.75,-3.75,-3.875,-3.875,-3.9375,-3.9375,-3.96875,-3.875,-3.9375,-3.9375,-3.96875,-3.96875,-3.984375,-3.9375,-3.96875,-3.75,-3.875,-3.875,-3.9375,-3.9375,-3.96875,-3.9375,-3.96875,-3.875,-3.9375,0,-2,-2,-3.0,-3.0,-3.5,-3.5,-3.75,-3.75,-3.875,-3.875,-3.9375,-3.9375,-3.96875,-3.875,-3.9375,-3.9375,-3.96875,-3.9375,-3.96875,-3.75,-3.875,-3.875,-3.9375,-3.875,-3.9375,-3.5,-3.75,-3.75,-3.875,-3.875,-3.9375,-3.875,-3.9375,-3.9375,-3.96875,-3.9375,-3.96875,-3.75,-3.875,-3.875,-3.9375,-3.9375,-3.96875,-3.9375,-3.96875,-3.875,-3.9375,-3.9375,-3.96875,-3.9375,-3.96875,-3.0,-3.5,-3.5,-3.75,-3.75,-3.875,-3.875,-3.9375,-3.875,-3.9375,-3.9375,-3.96875,-3.9375,-3.96875,-3.75,-3.875,-3.875,-3.9375,-3.875,-3.9375,-3.9375,-3.96875,-3.5,-3.75,-3.75,-3.875,-3.875,-3.9375,-3.9375,-3.96875,-3.9375,-3.96875,-3.875,-3.9375,-3.75,-3.875,-3.875,-3.9375,-3.9375,-3.96875,-3.96875,-3.984375,-3.9375,-3.96875,-3.96875,-3.984375,-3.875,-3.9375,-3.9375,-3.96875,-2,-3.0,-3.0,-3.5,-3.5,-3.75,-3.75,-3.875,-3.875,-3.9375,-3.875,-3.9375,-3.9375,-3.96875,-3.9375,-3.96875,-3.75,-3.875,-3.875,-3.9375,-3.9375,-3.96875,-3.875,-3.9375,-3.9375,-3.96875,-3.5,-3.75,-3.75,-3.875,-3.875,-3.9375,-3.75,-3.875,-3.875,-3.9375,-3.9375,-3.96875,-3.9375,-3.96875,-3.875,-3.9375,-3.9375,-3.96875,-3.9375,-3.96875,-3.0,-3.5,-3.5,-3.75,-3.75,-3.875,-3.875,-3.9375,-3.9375,-3.96875,-3.96875,-3.984375,-3.9375,-3.96875,-3.875,-3.9375,-3.9375,-3.96875,-3.96875,-3.984375,-3.9375,-3.96875,-3.96875,-3.984375,-3.96875,-3.984375,-3.75,-3.875,-3.875,-3.9375,-3.9375,-3.96875,-3.9375,-3.96875,-3.96875,-3.984375,-3.875,-3.9375,-3.9375,-3.96875,-3.9375,-3.96875,-3.96875,-3.984375,-3.5,-3.75,-3.75,-3.875,-3.875,-3.9375,-3.875,-3.9375,-3.9375,-3.96875,-3.9375,-3.96875,-3.75,-3.875,-3.875,-3.9375,-3.9375,-3.96875,-3.875,-3.9375,-3.9375,-3.96875,-3.9375,-3.96875],\"type\":\"scatter\"}],                        {\"template\":{\"data\":{\"histogram2dcontour\":[{\"type\":\"histogram2dcontour\",\"colorbar\":{\"outlinewidth\":0,\"ticks\":\"\"},\"colorscale\":[[0.0,\"#0d0887\"],[0.1111111111111111,\"#46039f\"],[0.2222222222222222,\"#7201a8\"],[0.3333333333333333,\"#9c179e\"],[0.4444444444444444,\"#bd3786\"],[0.5555555555555556,\"#d8576b\"],[0.6666666666666666,\"#ed7953\"],[0.7777777777777778,\"#fb9f3a\"],[0.8888888888888888,\"#fdca26\"],[1.0,\"#f0f921\"]]}],\"choropleth\":[{\"type\":\"choropleth\",\"colorbar\":{\"outlinewidth\":0,\"ticks\":\"\"}}],\"histogram2d\":[{\"type\":\"histogram2d\",\"colorbar\":{\"outlinewidth\":0,\"ticks\":\"\"},\"colorscale\":[[0.0,\"#0d0887\"],[0.1111111111111111,\"#46039f\"],[0.2222222222222222,\"#7201a8\"],[0.3333333333333333,\"#9c179e\"],[0.4444444444444444,\"#bd3786\"],[0.5555555555555556,\"#d8576b\"],[0.6666666666666666,\"#ed7953\"],[0.7777777777777778,\"#fb9f3a\"],[0.8888888888888888,\"#fdca26\"],[1.0,\"#f0f921\"]]}],\"heatmap\":[{\"type\":\"heatmap\",\"colorbar\":{\"outlinewidth\":0,\"ticks\":\"\"},\"colorscale\":[[0.0,\"#0d0887\"],[0.1111111111111111,\"#46039f\"],[0.2222222222222222,\"#7201a8\"],[0.3333333333333333,\"#9c179e\"],[0.4444444444444444,\"#bd3786\"],[0.5555555555555556,\"#d8576b\"],[0.6666666666666666,\"#ed7953\"],[0.7777777777777778,\"#fb9f3a\"],[0.8888888888888888,\"#fdca26\"],[1.0,\"#f0f921\"]]}],\"heatmapgl\":[{\"type\":\"heatmapgl\",\"colorbar\":{\"outlinewidth\":0,\"ticks\":\"\"},\"colorscale\":[[0.0,\"#0d0887\"],[0.1111111111111111,\"#46039f\"],[0.2222222222222222,\"#7201a8\"],[0.3333333333333333,\"#9c179e\"],[0.4444444444444444,\"#bd3786\"],[0.5555555555555556,\"#d8576b\"],[0.6666666666666666,\"#ed7953\"],[0.7777777777777778,\"#fb9f3a\"],[0.8888888888888888,\"#fdca26\"],[1.0,\"#f0f921\"]]}],\"contourcarpet\":[{\"type\":\"contourcarpet\",\"colorbar\":{\"outlinewidth\":0,\"ticks\":\"\"}}],\"contour\":[{\"type\":\"contour\",\"colorbar\":{\"outlinewidth\":0,\"ticks\":\"\"},\"colorscale\":[[0.0,\"#0d0887\"],[0.1111111111111111,\"#46039f\"],[0.2222222222222222,\"#7201a8\"],[0.3333333333333333,\"#9c179e\"],[0.4444444444444444,\"#bd3786\"],[0.5555555555555556,\"#d8576b\"],[0.6666666666666666,\"#ed7953\"],[0.7777777777777778,\"#fb9f3a\"],[0.8888888888888888,\"#fdca26\"],[1.0,\"#f0f921\"]]}],\"surface\":[{\"type\":\"surface\",\"colorbar\":{\"outlinewidth\":0,\"ticks\":\"\"},\"colorscale\":[[0.0,\"#0d0887\"],[0.1111111111111111,\"#46039f\"],[0.2222222222222222,\"#7201a8\"],[0.3333333333333333,\"#9c179e\"],[0.4444444444444444,\"#bd3786\"],[0.5555555555555556,\"#d8576b\"],[0.6666666666666666,\"#ed7953\"],[0.7777777777777778,\"#fb9f3a\"],[0.8888888888888888,\"#fdca26\"],[1.0,\"#f0f921\"]]}],\"mesh3d\":[{\"type\":\"mesh3d\",\"colorbar\":{\"outlinewidth\":0,\"ticks\":\"\"}}],\"scatter\":[{\"fillpattern\":{\"fillmode\":\"overlay\",\"size\":10,\"solidity\":0.2},\"type\":\"scatter\"}],\"parcoords\":[{\"type\":\"parcoords\",\"line\":{\"colorbar\":{\"outlinewidth\":0,\"ticks\":\"\"}}}],\"scatterpolargl\":[{\"type\":\"scatterpolargl\",\"marker\":{\"colorbar\":{\"outlinewidth\":0,\"ticks\":\"\"}}}],\"bar\":[{\"error_x\":{\"color\":\"#2a3f5f\"},\"error_y\":{\"color\":\"#2a3f5f\"},\"marker\":{\"line\":{\"color\":\"#E5ECF6\",\"width\":0.5},\"pattern\":{\"fillmode\":\"overlay\",\"size\":10,\"solidity\":0.2}},\"type\":\"bar\"}],\"scattergeo\":[{\"type\":\"scattergeo\",\"marker\":{\"colorbar\":{\"outlinewidth\":0,\"ticks\":\"\"}}}],\"scatterpolar\":[{\"type\":\"scatterpolar\",\"marker\":{\"colorbar\":{\"outlinewidth\":0,\"ticks\":\"\"}}}],\"histogram\":[{\"marker\":{\"pattern\":{\"fillmode\":\"overlay\",\"size\":10,\"solidity\":0.2}},\"type\":\"histogram\"}],\"scattergl\":[{\"type\":\"scattergl\",\"marker\":{\"colorbar\":{\"outlinewidth\":0,\"ticks\":\"\"}}}],\"scatter3d\":[{\"type\":\"scatter3d\",\"line\":{\"colorbar\":{\"outlinewidth\":0,\"ticks\":\"\"}},\"marker\":{\"colorbar\":{\"outlinewidth\":0,\"ticks\":\"\"}}}],\"scattermapbox\":[{\"type\":\"scattermapbox\",\"marker\":{\"colorbar\":{\"outlinewidth\":0,\"ticks\":\"\"}}}],\"scatterternary\":[{\"type\":\"scatterternary\",\"marker\":{\"colorbar\":{\"outlinewidth\":0,\"ticks\":\"\"}}}],\"scattercarpet\":[{\"type\":\"scattercarpet\",\"marker\":{\"colorbar\":{\"outlinewidth\":0,\"ticks\":\"\"}}}],\"carpet\":[{\"aaxis\":{\"endlinecolor\":\"#2a3f5f\",\"gridcolor\":\"white\",\"linecolor\":\"white\",\"minorgridcolor\":\"white\",\"startlinecolor\":\"#2a3f5f\"},\"baxis\":{\"endlinecolor\":\"#2a3f5f\",\"gridcolor\":\"white\",\"linecolor\":\"white\",\"minorgridcolor\":\"white\",\"startlinecolor\":\"#2a3f5f\"},\"type\":\"carpet\"}],\"table\":[{\"cells\":{\"fill\":{\"color\":\"#EBF0F8\"},\"line\":{\"color\":\"white\"}},\"header\":{\"fill\":{\"color\":\"#C8D4E3\"},\"line\":{\"color\":\"white\"}},\"type\":\"table\"}],\"barpolar\":[{\"marker\":{\"line\":{\"color\":\"#E5ECF6\",\"width\":0.5},\"pattern\":{\"fillmode\":\"overlay\",\"size\":10,\"solidity\":0.2}},\"type\":\"barpolar\"}],\"pie\":[{\"automargin\":true,\"type\":\"pie\"}]},\"layout\":{\"autotypenumbers\":\"strict\",\"colorway\":[\"#636efa\",\"#EF553B\",\"#00cc96\",\"#ab63fa\",\"#FFA15A\",\"#19d3f3\",\"#FF6692\",\"#B6E880\",\"#FF97FF\",\"#FECB52\"],\"font\":{\"color\":\"#2a3f5f\"},\"hovermode\":\"closest\",\"hoverlabel\":{\"align\":\"left\"},\"paper_bgcolor\":\"white\",\"plot_bgcolor\":\"#E5ECF6\",\"polar\":{\"bgcolor\":\"#E5ECF6\",\"angularaxis\":{\"gridcolor\":\"white\",\"linecolor\":\"white\",\"ticks\":\"\"},\"radialaxis\":{\"gridcolor\":\"white\",\"linecolor\":\"white\",\"ticks\":\"\"}},\"ternary\":{\"bgcolor\":\"#E5ECF6\",\"aaxis\":{\"gridcolor\":\"white\",\"linecolor\":\"white\",\"ticks\":\"\"},\"baxis\":{\"gridcolor\":\"white\",\"linecolor\":\"white\",\"ticks\":\"\"},\"caxis\":{\"gridcolor\":\"white\",\"linecolor\":\"white\",\"ticks\":\"\"}},\"coloraxis\":{\"colorbar\":{\"outlinewidth\":0,\"ticks\":\"\"}},\"colorscale\":{\"sequential\":[[0.0,\"#0d0887\"],[0.1111111111111111,\"#46039f\"],[0.2222222222222222,\"#7201a8\"],[0.3333333333333333,\"#9c179e\"],[0.4444444444444444,\"#bd3786\"],[0.5555555555555556,\"#d8576b\"],[0.6666666666666666,\"#ed7953\"],[0.7777777777777778,\"#fb9f3a\"],[0.8888888888888888,\"#fdca26\"],[1.0,\"#f0f921\"]],\"sequentialminus\":[[0.0,\"#0d0887\"],[0.1111111111111111,\"#46039f\"],[0.2222222222222222,\"#7201a8\"],[0.3333333333333333,\"#9c179e\"],[0.4444444444444444,\"#bd3786\"],[0.5555555555555556,\"#d8576b\"],[0.6666666666666666,\"#ed7953\"],[0.7777777777777778,\"#fb9f3a\"],[0.8888888888888888,\"#fdca26\"],[1.0,\"#f0f921\"]],\"diverging\":[[0,\"#8e0152\"],[0.1,\"#c51b7d\"],[0.2,\"#de77ae\"],[0.3,\"#f1b6da\"],[0.4,\"#fde0ef\"],[0.5,\"#f7f7f7\"],[0.6,\"#e6f5d0\"],[0.7,\"#b8e186\"],[0.8,\"#7fbc41\"],[0.9,\"#4d9221\"],[1,\"#276419\"]]},\"xaxis\":{\"gridcolor\":\"white\",\"linecolor\":\"white\",\"ticks\":\"\",\"title\":{\"standoff\":15},\"zerolinecolor\":\"white\",\"automargin\":true,\"zerolinewidth\":2},\"yaxis\":{\"gridcolor\":\"white\",\"linecolor\":\"white\",\"ticks\":\"\",\"title\":{\"standoff\":15},\"zerolinecolor\":\"white\",\"automargin\":true,\"zerolinewidth\":2},\"scene\":{\"xaxis\":{\"backgroundcolor\":\"#E5ECF6\",\"gridcolor\":\"white\",\"linecolor\":\"white\",\"showbackground\":true,\"ticks\":\"\",\"zerolinecolor\":\"white\",\"gridwidth\":2},\"yaxis\":{\"backgroundcolor\":\"#E5ECF6\",\"gridcolor\":\"white\",\"linecolor\":\"white\",\"showbackground\":true,\"ticks\":\"\",\"zerolinecolor\":\"white\",\"gridwidth\":2},\"zaxis\":{\"backgroundcolor\":\"#E5ECF6\",\"gridcolor\":\"white\",\"linecolor\":\"white\",\"showbackground\":true,\"ticks\":\"\",\"zerolinecolor\":\"white\",\"gridwidth\":2}},\"shapedefaults\":{\"line\":{\"color\":\"#2a3f5f\"}},\"annotationdefaults\":{\"arrowcolor\":\"#2a3f5f\",\"arrowhead\":0,\"arrowwidth\":1},\"geo\":{\"bgcolor\":\"white\",\"landcolor\":\"#E5ECF6\",\"subunitcolor\":\"white\",\"showland\":true,\"showlakes\":true,\"lakecolor\":\"white\"},\"title\":{\"x\":0.05},\"mapbox\":{\"style\":\"light\"}}},\"xaxis\":{\"showgrid\":false,\"zeroline\":false,\"showticklabels\":false},\"yaxis\":{\"showgrid\":false,\"zeroline\":false,\"showticklabels\":false},\"showlegend\":false,\"hovermode\":\"closest\"},                        {\"responsive\": true}                    ).then(function(){\n",
              "                            \n",
              "var gd = document.getElementById('cc217956-5792-4293-bb1b-808a86587d20');\n",
              "var x = new MutationObserver(function (mutations, observer) {{\n",
              "        var display = window.getComputedStyle(gd).display;\n",
              "        if (!display || display === 'none') {{\n",
              "            console.log([gd, 'removed!']);\n",
              "            Plotly.purge(gd);\n",
              "            observer.disconnect();\n",
              "        }}\n",
              "}});\n",
              "\n",
              "// Listen for the removal of the full notebook cells\n",
              "var notebookContainer = gd.closest('#notebook-container');\n",
              "if (notebookContainer) {{\n",
              "    x.observe(notebookContainer, {childList: true});\n",
              "}}\n",
              "\n",
              "// Listen for the clearing of the current output cell\n",
              "var outputEl = gd.closest('.output');\n",
              "if (outputEl) {{\n",
              "    x.observe(outputEl, {childList: true});\n",
              "}}\n",
              "\n",
              "                        })                };                            </script>        </div>\n",
              "</body>\n",
              "</html>"
            ]
          },
          "metadata": {}
        }
      ]
    },
    {
      "cell_type": "markdown",
      "source": [
        "##[3/4] Autocompletar\n",
        "* Implemente uma função que percorre a árvore AVL e retorna palavras que\n",
        "começam com um determinado prefixo. A função deve parar de buscar na árvore\n",
        "assim que encontrar um nó que não corresponda ao prefixo."
      ],
      "metadata": {
        "id": "b5kzfSkrTnfP"
      }
    },
    {
      "cell_type": "markdown",
      "source": [
        "**PARA O FUNCIONAMENTO DO PROGRAMA, ESSAS FUNÇÃO PRECISA SER INSERIDA DENTRO DA CLASSE AVL, ENTÃO VOU COPIAR A FUNÇÃO QUE FOI ADICIONADA NA CLASSE AVL E ADICIONAR COMENTÁRIOS**"
      ],
      "metadata": {
        "id": "93eQOgFtaxW1"
      }
    },
    {
      "cell_type": "markdown",
      "source": [
        "\n",
        "\n",
        "```\n",
        "def procuraPalavras(self, prefixo):\n",
        "    # Cria uma lista vazia para armazenar as palavras que começam com a prefixo\n",
        "    result = []\n",
        "\n",
        "    # Chama a função recursiva para iniciar a busca a partir da raiz da árvore\n",
        "    self._procuraPalavras(self.root, prefixo, result)\n",
        "\n",
        "    # Retorna a lista de palavras encontradas\n",
        "    return result\n",
        "def _procuraPalavras(self, current_node, prefixo, result):\n",
        "    # Verifica se o nó atual é nulo (caso base para a recursão)\n",
        "    if current_node is None:\n",
        "        return\n",
        "\n",
        "    # Verifica se o valor do nó começa com a prefixo desejada\n",
        "    if current_node.value.startswith(prefixo):\n",
        "        # Se sim, adiciona o valor do nó à lista de palavras encontradas\n",
        "        result.append(current_node.value)\n",
        "\n",
        "    # Verifica se o valor do nó atual é maior ou igual à prefixo\n",
        "    if current_node.value >= prefixo:\n",
        "        # Se for, continua a busca na subárvore esquerda\n",
        "        self._procuraPalavras(current_node.left_child, prefixo, result)\n",
        "        \n",
        "    # Sempre continua a busca na subárvore direita\n",
        "    self._procuraPalavras(current_node.right_child, prefixo, result)\n",
        "```\n",
        "\n"
      ],
      "metadata": {
        "id": "bvraGxfibfXo"
      }
    },
    {
      "cell_type": "code",
      "source": [
        "# Por fim vamos ter o programa funcionando como foi descrito na atividade.\n",
        "prefixo = input(\"Digite um prefixo para saber se tem palavras que assim se iniciam: \")\n",
        "saida = avl.procuraPalavras(prefixo)\n",
        "print(saida)"
      ],
      "metadata": {
        "id": "2GKh0ZttcPVF",
        "outputId": "09324766-254d-4a71-fe60-68cb9635af85",
        "colab": {
          "base_uri": "https://localhost:8080/"
        }
      },
      "execution_count": 64,
      "outputs": [
        {
          "output_type": "stream",
          "name": "stdout",
          "text": [
            "Digite um prefixo para saber se tem palavras que assim se iniciam: i\n",
            "['impactos', 'igualitário', 'isso', 'independentemente', 'inclusiva', 'importante', 'internet', 'instituições', 'infraestrutura', 'investimentos']\n"
          ]
        }
      ]
    },
    {
      "cell_type": "markdown",
      "source": [
        "##[4/4] Análise de Desempenho\n",
        "* Compare o desempenho (tempo de inserção, altura da árvore, tempo de busca)\n",
        "da árvore AVL com uma estrutura de dados mais simples, como uma lista ou\n",
        "uma árvore binária de busca sem balanceamento.\n",
        "* Analise o impacto do tamanho do corpus no desempenho da árvore AVL."
      ],
      "metadata": {
        "id": "fmYkSjpETqtt"
      }
    },
    {
      "cell_type": "markdown",
      "source": [
        "### Altura da AVL vs Altura da BST\n",
        "A primeira etapa da análise, vai ser comparar a altura da árvore AVL com a altura da árvore BST, inserindo os objetos na mesma ordem"
      ],
      "metadata": {
        "id": "hrEyvUBt4NW1"
      }
    },
    {
      "cell_type": "code",
      "source": [
        "# Iniciando a árvore BST\n",
        "bst = BST() # Iniciando a árvore\n",
        "for palavra in palavras: # Usando um laço para percorrer a lista e adicionar os valores a árvore\n",
        "    bst.add(palavra)"
      ],
      "metadata": {
        "id": "xDWXem7xxqAK"
      },
      "execution_count": 65,
      "outputs": []
    },
    {
      "cell_type": "markdown",
      "source": [
        "O seguinte trecho de código foi adicionado lá na classe BST, para retornar a altura da árvore BST.\n",
        "\n",
        "```\n",
        "def get_height(self):\n",
        "        # Chama a função auxiliar _get_height para calcular a altura a partir da raiz\n",
        "        return self._get_height(self.root)\n",
        "\n",
        "    def _get_height(self, node):\n",
        "        # Caso base: se o nó for nulo, a altura é 0\n",
        "        if node is None:\n",
        "            return 0\n",
        "        \n",
        "        # Calcula a altura da subárvore esquerda e direita\n",
        "        left_height = self._get_height(node.left_child)\n",
        "        right_height = self._get_height(node.right_child)\n",
        "\n",
        "        # Retorna a altura máxima entre as subárvores esquerda e direita + 1 para contar o próprio nó\n",
        "        return max(left_height, right_height) + 1\n",
        "```\n",
        "\n"
      ],
      "metadata": {
        "id": "PBnNLt113gi6"
      }
    },
    {
      "cell_type": "code",
      "source": [
        "bstHeight = bst.get_height()\n",
        "avlHeight = avl.get_height()\n",
        "print(\"A altura da árvore AVL é \"+ str(avlHeight) + \" e a altura da BST é \" + str(bstHeight))"
      ],
      "metadata": {
        "id": "Z-TSN36Azyc7",
        "outputId": "c6acff72-ae16-4b9d-98e7-a8c51b1a15c1",
        "colab": {
          "base_uri": "https://localhost:8080/"
        }
      },
      "execution_count": 66,
      "outputs": [
        {
          "output_type": "stream",
          "name": "stdout",
          "text": [
            "A altura da árvore AVL é 9 e a altura da BST é 17\n"
          ]
        }
      ]
    },
    {
      "cell_type": "markdown",
      "source": [
        "### Tempo de busca na AVL vs Tempo de busca na lista\n",
        "Por fim, nessa etapa vai ser comparado o tempo de busca por um item na AVL com o tempo de busca na lista.\n",
        "\n",
        "OBS: Nesse trecho, vai ser usado um código disponibilizado pelo professor Ivanovitch."
      ],
      "metadata": {
        "id": "Eo5t0ZafVmgE"
      }
    },
    {
      "cell_type": "code",
      "source": [
        "# Generate experiment numbers (replace this with your actual experiment numbers)\n",
        "experiment_numbers = palavras\n",
        "\n",
        "times_list = []\n",
        "times_avl = []\n",
        "\n",
        "for v in palavras:\n",
        "    # Measure runtime for list\n",
        "    start = time.time()\n",
        "    v in palavras\n",
        "    end = time.time()\n",
        "    times_list.append(end - start)\n",
        "\n",
        "    # Measure runtime for AVL\n",
        "    start = time.time()\n",
        "    avl.contains(v)\n",
        "    end = time.time()\n",
        "    times_avl.append(end - start)\n",
        "\n",
        "# Convert to milliseconds for better visualization\n",
        "times_list_ms = [t * 1000 for t in times_list]\n",
        "times_avl_ms = [t * 1000 for t in times_avl]\n",
        "\n",
        "# Create a Plotly figure as a scatter plot\n",
        "\n",
        "fig = px.scatter(x=[experiment_numbers], y=times_list_ms, labels={\"x\": \"Experiment Number\", \"y\": \"Runtime (ms)\"},\n",
        "                 title=\"Runtime Comparison: List vs. AVL\", template=\"plotly_dark\")\n",
        "fig.add_scatter(x=experiment_numbers, y=times_avl_ms, mode='markers', name='AVL Tree', marker=dict(size=8))\n",
        "\n",
        "# Update axes properties\n",
        "fig.update_xaxes(showline=True, linewidth=1, linecolor=\"gray\")\n",
        "fig.update_yaxes(showline=True, linewidth=1, linecolor=\"gray\")\n",
        "# Change the name in the legend\n",
        "fig.update_traces(name=\"List\", selector=dict(name=\"wide_variable_0\"))\n",
        "\n",
        "# Show the figure\n",
        "fig.show()\n"
      ],
      "metadata": {
        "id": "M_OVpW7ubW0o",
        "outputId": "90406c98-0496-4bcd-d177-7affeaf80b92",
        "colab": {
          "base_uri": "https://localhost:8080/",
          "height": 542
        }
      },
      "execution_count": 83,
      "outputs": [
        {
          "output_type": "display_data",
          "data": {
            "text/html": [
              "<html>\n",
              "<head><meta charset=\"utf-8\" /></head>\n",
              "<body>\n",
              "    <div>            <script src=\"https://cdnjs.cloudflare.com/ajax/libs/mathjax/2.7.5/MathJax.js?config=TeX-AMS-MML_SVG\"></script><script type=\"text/javascript\">if (window.MathJax && window.MathJax.Hub && window.MathJax.Hub.Config) {window.MathJax.Hub.Config({SVG: {font: \"STIX-Web\"}});}</script>                <script type=\"text/javascript\">window.PlotlyConfig = {MathJaxConfig: 'local'};</script>\n",
              "        <script charset=\"utf-8\" src=\"https://cdn.plot.ly/plotly-2.24.1.min.js\"></script>                <div id=\"d6852658-9300-4736-9b16-da3192302122\" class=\"plotly-graph-div\" style=\"height:525px; width:100%;\"></div>            <script type=\"text/javascript\">                                    window.PLOTLYENV=window.PLOTLYENV || {};                                    if (document.getElementById(\"d6852658-9300-4736-9b16-da3192302122\")) {                    Plotly.newPlot(                        \"d6852658-9300-4736-9b16-da3192302122\",                        [{\"hovertemplate\":\"variable=wide_variable_0\\u003cbr\\u003evalue=%{x}\\u003cbr\\u003eRuntime (ms)=%{y}\\u003cextra\\u003e\\u003c\\u002fextra\\u003e\",\"legendgroup\":\"wide_variable_0\",\"marker\":{\"color\":\"#636efa\",\"symbol\":\"circle\"},\"mode\":\"markers\",\"name\":\"List\",\"orientation\":\"v\",\"showlegend\":true,\"x\":[\"a\",\"educa\\u00e7\\u00e3o\",\"desempenha\",\"um\",\"papel\",\"fundamental\",\"na\",\"forma\\u00e7\\u00e3o\",\"da\",\"sociedade\",\"e\",\"no\",\"desenvolvimento\",\"das\",\"pessoas\",\"ela\",\"\\u00e9\",\"chave\",\"para\",\"o\",\"progresso\",\"sucesso\",\"de\",\"qualquer\",\"na\\u00e7\\u00e3o\",\"atrav\\u00e9s\",\"as\",\"adquirem\",\"conhecimento\",\"habilidades\",\"valores\",\"que\",\"capacitam\",\"enfrentar\",\"os\",\"desafios\",\"vida\",\"contribuir\",\"crescimento\",\"suas\",\"comunidades\",\"entanto\",\"qualidade\",\"pode\",\"variar\",\"significativamente\",\"lugar\",\"outro\",\"em\",\"alguns\",\"pa\\u00edses\",\"acess\\u00edvel\",\"todos\",\"alta\",\"enquanto\",\"outros\",\"muitos\",\"enfrentam\",\"barreiras\",\"obter\",\"uma\",\"adequada\",\"isso\",\"cria\",\"disparidades\",\"educacionais\",\"t\\u00eam\",\"impactos\",\"longo\",\"alcance\",\"governos\",\"institui\\u00e7\\u00f5es\",\"se\",\"esforcem\",\"garantir\",\"seja\",\"inclusiva\",\"equitativa\",\"significa\",\"todas\",\"crian\\u00e7as\",\"tenham\",\"acesso\",\"\\u00e0\",\"independentemente\",\"sua\",\"origem\",\"socioecon\\u00f4mica\",\"g\\u00eanero\",\"etnia\",\"ou\",\"local\",\"nascimento\",\"al\\u00e9m\",\"disso\",\"deve\",\"ser\",\"constantemente\",\"aprimorada\",\"preparar\",\"alunos\",\"mundo\",\"constante\",\"mudan\\u00e7a\",\"tecnologia\",\"cada\",\"vez\",\"mais\",\"importante\",\"internet\",\"computa\\u00e7\\u00e3o\",\"revolucionado\",\"forma\",\"como\",\"aprendemos\",\"ensinamos\",\"online\",\"por\",\"exemplo\",\"oferece\",\"flexibilidade\",\"acessibilidade\",\"p\\u00fablico\",\"global\",\"tamb\\u00e9m\",\"apresenta\",\"necessidade\",\"seguran\\u00e7a\",\"cibern\\u00e9tica\",\"do\",\"conte\\u00fado\",\"n\\u00e3o\",\"limita\",\"apenas\",\"\\u00e0s\",\"salas\",\"aula\",\"aprendizagem\",\"ao\",\"essencial\",\"acompanhar\",\"demandas\",\"r\\u00e1pida\",\"evolu\\u00e7\\u00e3o\",\"precisam\",\"estar\",\"dispostas\",\"adquirir\",\"novos\",\"conhecimentos\",\"vidas\",\"manterem\",\"relevantes\",\"mercado\",\"trabalho\",\"geral\",\"crucial\",\"cidad\\u00e3os\",\"respons\\u00e1veis\",\"conscientes\",\"trata\",\"acad\\u00eamico\",\"mas\",\"desenvolver\",\"empatia\",\"respeito\",\"responsabilidade\",\"ensina\",\"pensarem\",\"criticamente\",\"questionarem\",\"status\",\"quo\",\"trabalharem\",\"justo\",\"sustent\\u00e1vel\",\"enfrenta\",\"significativos\",\"todo\",\"falta\",\"financiamento\",\"recursos\",\"professores\",\"bem\",\"treinados\",\"s\\u00e3o\",\"dos\",\"obst\\u00e1culos\",\"muitas\",\"pandemia\",\"exp\\u00f4s\",\"vulnerabilidades\",\"sistema\",\"educacional\",\"destacou\",\"adaptarse\",\"rapidamente\",\"novas\",\"circunst\\u00e2ncias\",\"superar\",\"esses\",\"necess\\u00e1rio\",\"compromisso\",\"com\",\"organiza\\u00e7\\u00f5es\",\"governamentais\",\"civil\",\"devem\",\"trabalhar\",\"juntos\",\"prioridade\",\"oportunidade\",\"aprender\",\"crescer\",\"requer\",\"investimentos\",\"infraestrutura\",\"treinamento\",\"igualit\\u00e1rio\",\"resumo\",\"vital\",\"nossa\",\"molda\",\"futuro\",\"na\\u00e7\\u00f5es\",\"construir\",\"melhor\",\"portanto\",\"devemos\",\"valorizar\",\"apoiar\",\"n\\u00edveis\"],\"xaxis\":\"x\",\"y\":[0.0019073486328125,0.0007152557373046875,0.000476837158203125,0.000476837158203125,0.00095367431640625,0.0007152557373046875,0.000476837158203125,0.000476837158203125,0.0007152557373046875,0.0007152557373046875,0.0007152557373046875,0.0007152557373046875,0.0007152557373046875,0.0007152557373046875,0.0007152557373046875,0.00095367431640625,0.00095367431640625,0.0007152557373046875,0.0007152557373046875,0.00095367431640625,0.00095367431640625,0.001430511474609375,0.0011920928955078125,0.0011920928955078125,0.0011920928955078125,0.001430511474609375,0.00095367431640625,0.0011920928955078125,0.00095367431640625,0.00095367431640625,0.0011920928955078125,0.0011920928955078125,0.0011920928955078125,0.0011920928955078125,0.001430511474609375,0.0011920928955078125,0.0011920928955078125,0.0011920928955078125,0.0011920928955078125,0.0011920928955078125,0.0011920928955078125,0.0011920928955078125,0.001430511474609375,0.001430511474609375,0.001430511474609375,0.001430511474609375,0.00095367431640625,0.0011920928955078125,0.001430511474609375,0.0011920928955078125,0.0011920928955078125,0.001430511474609375,0.0016689300537109375,0.0016689300537109375,0.001430511474609375,0.001430511474609375,0.00095367431640625,0.0016689300537109375,0.0016689300537109375,0.0011920928955078125,0.001430511474609375,0.0016689300537109375,0.0016689300537109375,0.0016689300537109375,0.001430511474609375,0.0016689300537109375,0.0016689300537109375,0.0016689300537109375,0.0019073486328125,0.0016689300537109375,0.0019073486328125,0.0016689300537109375,0.0019073486328125,0.0019073486328125,0.0019073486328125,0.0019073486328125,0.0019073486328125,0.0016689300537109375,0.0021457672119140625,0.0016689300537109375,0.0021457672119140625,0.0019073486328125,0.0019073486328125,0.0019073486328125,0.001430511474609375,0.0021457672119140625,0.0021457672119140625,0.002384185791015625,0.002384185791015625,0.002384185791015625,0.0021457672119140625,0.002384185791015625,0.0019073486328125,0.002384185791015625,0.0019073486328125,0.0021457672119140625,0.0019073486328125,0.0019073486328125,0.002384185791015625,0.0026226043701171875,0.0026226043701171875,0.00286102294921875,0.002384185791015625,0.0026226043701171875,0.0171661376953125,0.002384185791015625,0.0030994415283203125,0.002384185791015625,0.0019073486328125,0.002384185791015625,0.00286102294921875,0.0026226043701171875,0.0026226043701171875,0.002384185791015625,0.002384185791015625,0.003337860107421875,0.003337860107421875,0.00286102294921875,0.003337860107421875,0.0030994415283203125,0.0030994415283203125,0.003337860107421875,0.0030994415283203125,0.0030994415283203125,0.0030994415283203125,0.0035762786865234375,0.003337860107421875,0.003814697265625,0.00286102294921875,0.0030994415283203125,0.003337860107421875,0.0035762786865234375,0.0035762786865234375,0.0040531158447265625,0.0040531158447265625,0.004291534423828125,0.0040531158447265625,0.003337860107421875,0.003337860107421875,0.003814697265625,0.0035762786865234375,0.003814697265625,0.003814697265625,0.004291534423828125,0.0040531158447265625,0.003814697265625,0.0040531158447265625,0.0035762786865234375,0.003814697265625,0.003814697265625,0.004291534423828125,0.0045299530029296875,0.0040531158447265625,0.0045299530029296875,0.0045299530029296875,0.0045299530029296875,0.0045299530029296875,0.0050067901611328125,0.004291534423828125,0.003814697265625,0.0045299530029296875,0.0045299530029296875,0.004291534423828125,0.004291534423828125,0.0045299530029296875,0.0045299530029296875,0.0045299530029296875,0.0045299530029296875,0.00476837158203125,0.0030994415283203125,0.0035762786865234375,0.0035762786865234375,0.003814697265625,0.00286102294921875,0.003814697265625,0.003337860107421875,0.5588531494140625,0.005245208740234375,0.0035762786865234375,0.0035762786865234375,0.005245208740234375,0.0050067901611328125,0.003337860107421875,0.003814697265625,0.003814697265625,0.004291534423828125,0.01430511474609375,0.0040531158447265625,0.0040531158447265625,0.003814697265625,0.0045299530029296875,0.0040531158447265625,0.004291534423828125,0.003814697265625,0.00476837158203125,0.003814697265625,0.003814697265625,0.0040531158447265625,0.0040531158447265625,0.0045299530029296875,0.0050067901611328125,0.0040531158447265625,0.004291534423828125,0.004291534423828125,0.0045299530029296875,0.0050067901611328125,0.0054836273193359375,0.0057220458984375,0.0054836273193359375,0.004291534423828125,0.0040531158447265625,0.0045299530029296875,0.005245208740234375,0.005245208740234375,0.0054836273193359375,0.00476837158203125,0.003814697265625,0.0050067901611328125,0.0045299530029296875,0.00476837158203125,0.0050067901611328125,0.00476837158203125,0.004291534423828125,0.00476837158203125,0.0054836273193359375,0.0057220458984375,0.0059604644775390625,0.0057220458984375,0.0054836273193359375,0.00476837158203125,0.0045299530029296875,0.0050067901611328125],\"yaxis\":\"y\",\"type\":\"scatter\"},{\"marker\":{\"size\":8},\"mode\":\"markers\",\"name\":\"AVL Tree\",\"x\":[\"a\",\"educa\\u00e7\\u00e3o\",\"desempenha\",\"um\",\"papel\",\"fundamental\",\"na\",\"forma\\u00e7\\u00e3o\",\"da\",\"sociedade\",\"e\",\"no\",\"desenvolvimento\",\"das\",\"pessoas\",\"ela\",\"\\u00e9\",\"chave\",\"para\",\"o\",\"progresso\",\"sucesso\",\"de\",\"qualquer\",\"na\\u00e7\\u00e3o\",\"atrav\\u00e9s\",\"as\",\"adquirem\",\"conhecimento\",\"habilidades\",\"valores\",\"que\",\"capacitam\",\"enfrentar\",\"os\",\"desafios\",\"vida\",\"contribuir\",\"crescimento\",\"suas\",\"comunidades\",\"entanto\",\"qualidade\",\"pode\",\"variar\",\"significativamente\",\"lugar\",\"outro\",\"em\",\"alguns\",\"pa\\u00edses\",\"acess\\u00edvel\",\"todos\",\"alta\",\"enquanto\",\"outros\",\"muitos\",\"enfrentam\",\"barreiras\",\"obter\",\"uma\",\"adequada\",\"isso\",\"cria\",\"disparidades\",\"educacionais\",\"t\\u00eam\",\"impactos\",\"longo\",\"alcance\",\"governos\",\"institui\\u00e7\\u00f5es\",\"se\",\"esforcem\",\"garantir\",\"seja\",\"inclusiva\",\"equitativa\",\"significa\",\"todas\",\"crian\\u00e7as\",\"tenham\",\"acesso\",\"\\u00e0\",\"independentemente\",\"sua\",\"origem\",\"socioecon\\u00f4mica\",\"g\\u00eanero\",\"etnia\",\"ou\",\"local\",\"nascimento\",\"al\\u00e9m\",\"disso\",\"deve\",\"ser\",\"constantemente\",\"aprimorada\",\"preparar\",\"alunos\",\"mundo\",\"constante\",\"mudan\\u00e7a\",\"tecnologia\",\"cada\",\"vez\",\"mais\",\"importante\",\"internet\",\"computa\\u00e7\\u00e3o\",\"revolucionado\",\"forma\",\"como\",\"aprendemos\",\"ensinamos\",\"online\",\"por\",\"exemplo\",\"oferece\",\"flexibilidade\",\"acessibilidade\",\"p\\u00fablico\",\"global\",\"tamb\\u00e9m\",\"apresenta\",\"necessidade\",\"seguran\\u00e7a\",\"cibern\\u00e9tica\",\"do\",\"conte\\u00fado\",\"n\\u00e3o\",\"limita\",\"apenas\",\"\\u00e0s\",\"salas\",\"aula\",\"aprendizagem\",\"ao\",\"essencial\",\"acompanhar\",\"demandas\",\"r\\u00e1pida\",\"evolu\\u00e7\\u00e3o\",\"precisam\",\"estar\",\"dispostas\",\"adquirir\",\"novos\",\"conhecimentos\",\"vidas\",\"manterem\",\"relevantes\",\"mercado\",\"trabalho\",\"geral\",\"crucial\",\"cidad\\u00e3os\",\"respons\\u00e1veis\",\"conscientes\",\"trata\",\"acad\\u00eamico\",\"mas\",\"desenvolver\",\"empatia\",\"respeito\",\"responsabilidade\",\"ensina\",\"pensarem\",\"criticamente\",\"questionarem\",\"status\",\"quo\",\"trabalharem\",\"justo\",\"sustent\\u00e1vel\",\"enfrenta\",\"significativos\",\"todo\",\"falta\",\"financiamento\",\"recursos\",\"professores\",\"bem\",\"treinados\",\"s\\u00e3o\",\"dos\",\"obst\\u00e1culos\",\"muitas\",\"pandemia\",\"exp\\u00f4s\",\"vulnerabilidades\",\"sistema\",\"educacional\",\"destacou\",\"adaptarse\",\"rapidamente\",\"novas\",\"circunst\\u00e2ncias\",\"superar\",\"esses\",\"necess\\u00e1rio\",\"compromisso\",\"com\",\"organiza\\u00e7\\u00f5es\",\"governamentais\",\"civil\",\"devem\",\"trabalhar\",\"juntos\",\"prioridade\",\"oportunidade\",\"aprender\",\"crescer\",\"requer\",\"investimentos\",\"infraestrutura\",\"treinamento\",\"igualit\\u00e1rio\",\"resumo\",\"vital\",\"nossa\",\"molda\",\"futuro\",\"na\\u00e7\\u00f5es\",\"construir\",\"melhor\",\"portanto\",\"devemos\",\"valorizar\",\"apoiar\",\"n\\u00edveis\"],\"y\":[0.016689300537109375,0.0019073486328125,0.0026226043701171875,0.00286102294921875,0.00286102294921875,0.002384185791015625,0.0021457672119140625,0.0059604644775390625,0.0035762786865234375,0.0016689300537109375,0.0035762786865234375,0.00286102294921875,0.0050067901611328125,0.0040531158447265625,0.003337860107421875,0.0040531158447265625,0.00476837158203125,0.00286102294921875,0.0035762786865234375,0.0035762786865234375,0.0030994415283203125,0.0035762786865234375,0.0030994415283203125,0.0011920928955078125,0.003337860107421875,0.0021457672119140625,0.0040531158447265625,0.0035762786865234375,0.0019073486328125,0.003814697265625,0.0030994415283203125,0.0045299530029296875,0.0040531158447265625,0.0026226043701171875,0.00286102294921875,0.0040531158447265625,0.002384185791015625,0.003814697265625,0.0026226043701171875,0.0050067901611328125,0.004291534423828125,0.0016689300537109375,0.0030994415283203125,0.003814697265625,0.003337860107421875,0.004291534423828125,0.0007152557373046875,0.00286102294921875,0.002384185791015625,0.004291534423828125,0.00286102294921875,0.002384185791015625,0.0035762786865234375,0.002384185791015625,0.0035762786865234375,0.00286102294921875,0.003337860107421875,0.0035762786865234375,0.003337860107421875,0.0016689300537109375,0.0030994415283203125,0.003814697265625,0.002384185791015625,0.0040531158447265625,0.0026226043701171875,0.0030994415283203125,0.0040531158447265625,0.0019073486328125,0.003337860107421875,0.0030994415283203125,0.002384185791015625,0.0045299530029296875,0.0026226043701171875,0.00286102294921875,0.0035762786865234375,0.003337860107421875,0.0030994415283203125,0.00286102294921875,0.002384185791015625,0.0021457672119140625,0.0030994415283203125,0.0045299530029296875,0.0035762786865234375,0.0040531158447265625,0.002384185791015625,0.00286102294921875,0.0045299530029296875,0.0035762786865234375,0.0035762786865234375,0.0021457672119140625,0.0030994415283203125,0.0026226043701171875,0.003337860107421875,0.0035762786865234375,0.0030994415283203125,0.0035762786865234375,0.003337860107421875,0.00286102294921875,0.003337860107421875,0.003337860107421875,0.003814697265625,0.0040531158447265625,0.004291534423828125,0.002384185791015625,0.0040531158447265625,0.003337860107421875,0.0045299530029296875,0.004291534423828125,0.0035762786865234375,0.0030994415283203125,0.0030994415283203125,0.0021457672119140625,0.0035762786865234375,0.00286102294921875,0.0030994415283203125,0.003814697265625,0.003337860107421875,0.002384185791015625,0.0035762786865234375,0.0035762786865234375,0.0030994415283203125,0.0035762786865234375,0.003814697265625,0.0035762786865234375,0.004291534423828125,0.00476837158203125,0.0045299530029296875,0.004291534423828125,0.004291534423828125,0.0026226043701171875,0.003814697265625,0.0030994415283203125,0.0045299530029296875,0.004291534423828125,0.003814697265625,0.003337860107421875,0.004291534423828125,0.003814697265625,0.0045299530029296875,0.00476837158203125,0.00476837158203125,0.0045299530029296875,0.0030994415283203125,0.0035762786865234375,0.0040531158447265625,0.0040531158447265625,0.0045299530029296875,0.005245208740234375,0.004291534423828125,0.003814697265625,0.003814697265625,0.0035762786865234375,0.0026226043701171875,0.003814697265625,0.0030994415283203125,0.003337860107421875,0.0045299530029296875,0.0040531158447265625,0.0035762786865234375,0.003337860107421875,0.0040531158447265625,0.0045299530029296875,0.0030994415283203125,0.0045299530029296875,0.0045299530029296875,0.0035762786865234375,0.0030994415283203125,0.0030994415283203125,0.003814697265625,0.003814697265625,0.0026226043701171875,0.0035762786865234375,0.003337860107421875,0.0030994415283203125,0.00286102294921875,0.003814697265625,0.011682510375976562,0.004291534423828125,0.0045299530029296875,0.0040531158447265625,0.003814697265625,0.004291534423828125,0.0040531158447265625,0.0040531158447265625,0.00286102294921875,0.003814697265625,0.003814697265625,0.0045299530029296875,0.0035762786865234375,0.0035762786865234375,0.0040531158447265625,0.00286102294921875,0.0035762786865234375,0.003814697265625,0.0045299530029296875,0.004291534423828125,0.0026226043701171875,0.0030994415283203125,0.00476837158203125,0.003814697265625,0.003337860107421875,0.0040531158447265625,0.003337860107421875,0.003814697265625,0.003814697265625,0.004291534423828125,0.003814697265625,0.0040531158447265625,0.004291534423828125,0.0035762786865234375,0.0035762786865234375,0.003337860107421875,0.0050067901611328125,0.0045299530029296875,0.0045299530029296875,0.003814697265625,0.003814697265625,0.003814697265625,0.003337860107421875,0.003337860107421875,0.0035762786865234375,0.0035762786865234375,0.003814697265625,0.003337860107421875,0.003814697265625,0.004291534423828125,0.003814697265625,0.004291534423828125,0.0040531158447265625,0.003337860107421875,0.0040531158447265625,0.003337860107421875],\"type\":\"scatter\"}],                        {\"template\":{\"data\":{\"barpolar\":[{\"marker\":{\"line\":{\"color\":\"rgb(17,17,17)\",\"width\":0.5},\"pattern\":{\"fillmode\":\"overlay\",\"size\":10,\"solidity\":0.2}},\"type\":\"barpolar\"}],\"bar\":[{\"error_x\":{\"color\":\"#f2f5fa\"},\"error_y\":{\"color\":\"#f2f5fa\"},\"marker\":{\"line\":{\"color\":\"rgb(17,17,17)\",\"width\":0.5},\"pattern\":{\"fillmode\":\"overlay\",\"size\":10,\"solidity\":0.2}},\"type\":\"bar\"}],\"carpet\":[{\"aaxis\":{\"endlinecolor\":\"#A2B1C6\",\"gridcolor\":\"#506784\",\"linecolor\":\"#506784\",\"minorgridcolor\":\"#506784\",\"startlinecolor\":\"#A2B1C6\"},\"baxis\":{\"endlinecolor\":\"#A2B1C6\",\"gridcolor\":\"#506784\",\"linecolor\":\"#506784\",\"minorgridcolor\":\"#506784\",\"startlinecolor\":\"#A2B1C6\"},\"type\":\"carpet\"}],\"choropleth\":[{\"colorbar\":{\"outlinewidth\":0,\"ticks\":\"\"},\"type\":\"choropleth\"}],\"contourcarpet\":[{\"colorbar\":{\"outlinewidth\":0,\"ticks\":\"\"},\"type\":\"contourcarpet\"}],\"contour\":[{\"colorbar\":{\"outlinewidth\":0,\"ticks\":\"\"},\"colorscale\":[[0.0,\"#0d0887\"],[0.1111111111111111,\"#46039f\"],[0.2222222222222222,\"#7201a8\"],[0.3333333333333333,\"#9c179e\"],[0.4444444444444444,\"#bd3786\"],[0.5555555555555556,\"#d8576b\"],[0.6666666666666666,\"#ed7953\"],[0.7777777777777778,\"#fb9f3a\"],[0.8888888888888888,\"#fdca26\"],[1.0,\"#f0f921\"]],\"type\":\"contour\"}],\"heatmapgl\":[{\"colorbar\":{\"outlinewidth\":0,\"ticks\":\"\"},\"colorscale\":[[0.0,\"#0d0887\"],[0.1111111111111111,\"#46039f\"],[0.2222222222222222,\"#7201a8\"],[0.3333333333333333,\"#9c179e\"],[0.4444444444444444,\"#bd3786\"],[0.5555555555555556,\"#d8576b\"],[0.6666666666666666,\"#ed7953\"],[0.7777777777777778,\"#fb9f3a\"],[0.8888888888888888,\"#fdca26\"],[1.0,\"#f0f921\"]],\"type\":\"heatmapgl\"}],\"heatmap\":[{\"colorbar\":{\"outlinewidth\":0,\"ticks\":\"\"},\"colorscale\":[[0.0,\"#0d0887\"],[0.1111111111111111,\"#46039f\"],[0.2222222222222222,\"#7201a8\"],[0.3333333333333333,\"#9c179e\"],[0.4444444444444444,\"#bd3786\"],[0.5555555555555556,\"#d8576b\"],[0.6666666666666666,\"#ed7953\"],[0.7777777777777778,\"#fb9f3a\"],[0.8888888888888888,\"#fdca26\"],[1.0,\"#f0f921\"]],\"type\":\"heatmap\"}],\"histogram2dcontour\":[{\"colorbar\":{\"outlinewidth\":0,\"ticks\":\"\"},\"colorscale\":[[0.0,\"#0d0887\"],[0.1111111111111111,\"#46039f\"],[0.2222222222222222,\"#7201a8\"],[0.3333333333333333,\"#9c179e\"],[0.4444444444444444,\"#bd3786\"],[0.5555555555555556,\"#d8576b\"],[0.6666666666666666,\"#ed7953\"],[0.7777777777777778,\"#fb9f3a\"],[0.8888888888888888,\"#fdca26\"],[1.0,\"#f0f921\"]],\"type\":\"histogram2dcontour\"}],\"histogram2d\":[{\"colorbar\":{\"outlinewidth\":0,\"ticks\":\"\"},\"colorscale\":[[0.0,\"#0d0887\"],[0.1111111111111111,\"#46039f\"],[0.2222222222222222,\"#7201a8\"],[0.3333333333333333,\"#9c179e\"],[0.4444444444444444,\"#bd3786\"],[0.5555555555555556,\"#d8576b\"],[0.6666666666666666,\"#ed7953\"],[0.7777777777777778,\"#fb9f3a\"],[0.8888888888888888,\"#fdca26\"],[1.0,\"#f0f921\"]],\"type\":\"histogram2d\"}],\"histogram\":[{\"marker\":{\"pattern\":{\"fillmode\":\"overlay\",\"size\":10,\"solidity\":0.2}},\"type\":\"histogram\"}],\"mesh3d\":[{\"colorbar\":{\"outlinewidth\":0,\"ticks\":\"\"},\"type\":\"mesh3d\"}],\"parcoords\":[{\"line\":{\"colorbar\":{\"outlinewidth\":0,\"ticks\":\"\"}},\"type\":\"parcoords\"}],\"pie\":[{\"automargin\":true,\"type\":\"pie\"}],\"scatter3d\":[{\"line\":{\"colorbar\":{\"outlinewidth\":0,\"ticks\":\"\"}},\"marker\":{\"colorbar\":{\"outlinewidth\":0,\"ticks\":\"\"}},\"type\":\"scatter3d\"}],\"scattercarpet\":[{\"marker\":{\"colorbar\":{\"outlinewidth\":0,\"ticks\":\"\"}},\"type\":\"scattercarpet\"}],\"scattergeo\":[{\"marker\":{\"colorbar\":{\"outlinewidth\":0,\"ticks\":\"\"}},\"type\":\"scattergeo\"}],\"scattergl\":[{\"marker\":{\"line\":{\"color\":\"#283442\"}},\"type\":\"scattergl\"}],\"scattermapbox\":[{\"marker\":{\"colorbar\":{\"outlinewidth\":0,\"ticks\":\"\"}},\"type\":\"scattermapbox\"}],\"scatterpolargl\":[{\"marker\":{\"colorbar\":{\"outlinewidth\":0,\"ticks\":\"\"}},\"type\":\"scatterpolargl\"}],\"scatterpolar\":[{\"marker\":{\"colorbar\":{\"outlinewidth\":0,\"ticks\":\"\"}},\"type\":\"scatterpolar\"}],\"scatter\":[{\"marker\":{\"line\":{\"color\":\"#283442\"}},\"type\":\"scatter\"}],\"scatterternary\":[{\"marker\":{\"colorbar\":{\"outlinewidth\":0,\"ticks\":\"\"}},\"type\":\"scatterternary\"}],\"surface\":[{\"colorbar\":{\"outlinewidth\":0,\"ticks\":\"\"},\"colorscale\":[[0.0,\"#0d0887\"],[0.1111111111111111,\"#46039f\"],[0.2222222222222222,\"#7201a8\"],[0.3333333333333333,\"#9c179e\"],[0.4444444444444444,\"#bd3786\"],[0.5555555555555556,\"#d8576b\"],[0.6666666666666666,\"#ed7953\"],[0.7777777777777778,\"#fb9f3a\"],[0.8888888888888888,\"#fdca26\"],[1.0,\"#f0f921\"]],\"type\":\"surface\"}],\"table\":[{\"cells\":{\"fill\":{\"color\":\"#506784\"},\"line\":{\"color\":\"rgb(17,17,17)\"}},\"header\":{\"fill\":{\"color\":\"#2a3f5f\"},\"line\":{\"color\":\"rgb(17,17,17)\"}},\"type\":\"table\"}]},\"layout\":{\"annotationdefaults\":{\"arrowcolor\":\"#f2f5fa\",\"arrowhead\":0,\"arrowwidth\":1},\"autotypenumbers\":\"strict\",\"coloraxis\":{\"colorbar\":{\"outlinewidth\":0,\"ticks\":\"\"}},\"colorscale\":{\"diverging\":[[0,\"#8e0152\"],[0.1,\"#c51b7d\"],[0.2,\"#de77ae\"],[0.3,\"#f1b6da\"],[0.4,\"#fde0ef\"],[0.5,\"#f7f7f7\"],[0.6,\"#e6f5d0\"],[0.7,\"#b8e186\"],[0.8,\"#7fbc41\"],[0.9,\"#4d9221\"],[1,\"#276419\"]],\"sequential\":[[0.0,\"#0d0887\"],[0.1111111111111111,\"#46039f\"],[0.2222222222222222,\"#7201a8\"],[0.3333333333333333,\"#9c179e\"],[0.4444444444444444,\"#bd3786\"],[0.5555555555555556,\"#d8576b\"],[0.6666666666666666,\"#ed7953\"],[0.7777777777777778,\"#fb9f3a\"],[0.8888888888888888,\"#fdca26\"],[1.0,\"#f0f921\"]],\"sequentialminus\":[[0.0,\"#0d0887\"],[0.1111111111111111,\"#46039f\"],[0.2222222222222222,\"#7201a8\"],[0.3333333333333333,\"#9c179e\"],[0.4444444444444444,\"#bd3786\"],[0.5555555555555556,\"#d8576b\"],[0.6666666666666666,\"#ed7953\"],[0.7777777777777778,\"#fb9f3a\"],[0.8888888888888888,\"#fdca26\"],[1.0,\"#f0f921\"]]},\"colorway\":[\"#636efa\",\"#EF553B\",\"#00cc96\",\"#ab63fa\",\"#FFA15A\",\"#19d3f3\",\"#FF6692\",\"#B6E880\",\"#FF97FF\",\"#FECB52\"],\"font\":{\"color\":\"#f2f5fa\"},\"geo\":{\"bgcolor\":\"rgb(17,17,17)\",\"lakecolor\":\"rgb(17,17,17)\",\"landcolor\":\"rgb(17,17,17)\",\"showlakes\":true,\"showland\":true,\"subunitcolor\":\"#506784\"},\"hoverlabel\":{\"align\":\"left\"},\"hovermode\":\"closest\",\"mapbox\":{\"style\":\"dark\"},\"paper_bgcolor\":\"rgb(17,17,17)\",\"plot_bgcolor\":\"rgb(17,17,17)\",\"polar\":{\"angularaxis\":{\"gridcolor\":\"#506784\",\"linecolor\":\"#506784\",\"ticks\":\"\"},\"bgcolor\":\"rgb(17,17,17)\",\"radialaxis\":{\"gridcolor\":\"#506784\",\"linecolor\":\"#506784\",\"ticks\":\"\"}},\"scene\":{\"xaxis\":{\"backgroundcolor\":\"rgb(17,17,17)\",\"gridcolor\":\"#506784\",\"gridwidth\":2,\"linecolor\":\"#506784\",\"showbackground\":true,\"ticks\":\"\",\"zerolinecolor\":\"#C8D4E3\"},\"yaxis\":{\"backgroundcolor\":\"rgb(17,17,17)\",\"gridcolor\":\"#506784\",\"gridwidth\":2,\"linecolor\":\"#506784\",\"showbackground\":true,\"ticks\":\"\",\"zerolinecolor\":\"#C8D4E3\"},\"zaxis\":{\"backgroundcolor\":\"rgb(17,17,17)\",\"gridcolor\":\"#506784\",\"gridwidth\":2,\"linecolor\":\"#506784\",\"showbackground\":true,\"ticks\":\"\",\"zerolinecolor\":\"#C8D4E3\"}},\"shapedefaults\":{\"line\":{\"color\":\"#f2f5fa\"}},\"sliderdefaults\":{\"bgcolor\":\"#C8D4E3\",\"bordercolor\":\"rgb(17,17,17)\",\"borderwidth\":1,\"tickwidth\":0},\"ternary\":{\"aaxis\":{\"gridcolor\":\"#506784\",\"linecolor\":\"#506784\",\"ticks\":\"\"},\"baxis\":{\"gridcolor\":\"#506784\",\"linecolor\":\"#506784\",\"ticks\":\"\"},\"bgcolor\":\"rgb(17,17,17)\",\"caxis\":{\"gridcolor\":\"#506784\",\"linecolor\":\"#506784\",\"ticks\":\"\"}},\"title\":{\"x\":0.05},\"updatemenudefaults\":{\"bgcolor\":\"#506784\",\"borderwidth\":0},\"xaxis\":{\"automargin\":true,\"gridcolor\":\"#283442\",\"linecolor\":\"#506784\",\"ticks\":\"\",\"title\":{\"standoff\":15},\"zerolinecolor\":\"#283442\",\"zerolinewidth\":2},\"yaxis\":{\"automargin\":true,\"gridcolor\":\"#283442\",\"linecolor\":\"#506784\",\"ticks\":\"\",\"title\":{\"standoff\":15},\"zerolinecolor\":\"#283442\",\"zerolinewidth\":2}}},\"xaxis\":{\"anchor\":\"y\",\"domain\":[0.0,1.0],\"title\":{\"text\":\"value\"},\"showline\":true,\"linewidth\":1,\"linecolor\":\"gray\"},\"yaxis\":{\"anchor\":\"x\",\"domain\":[0.0,1.0],\"title\":{\"text\":\"Runtime (ms)\"},\"showline\":true,\"linewidth\":1,\"linecolor\":\"gray\"},\"legend\":{\"title\":{\"text\":\"variable\"},\"tracegroupgap\":0},\"title\":{\"text\":\"Runtime Comparison: List vs. AVL\"}},                        {\"responsive\": true}                    ).then(function(){\n",
              "                            \n",
              "var gd = document.getElementById('d6852658-9300-4736-9b16-da3192302122');\n",
              "var x = new MutationObserver(function (mutations, observer) {{\n",
              "        var display = window.getComputedStyle(gd).display;\n",
              "        if (!display || display === 'none') {{\n",
              "            console.log([gd, 'removed!']);\n",
              "            Plotly.purge(gd);\n",
              "            observer.disconnect();\n",
              "        }}\n",
              "}});\n",
              "\n",
              "// Listen for the removal of the full notebook cells\n",
              "var notebookContainer = gd.closest('#notebook-container');\n",
              "if (notebookContainer) {{\n",
              "    x.observe(notebookContainer, {childList: true});\n",
              "}}\n",
              "\n",
              "// Listen for the clearing of the current output cell\n",
              "var outputEl = gd.closest('.output');\n",
              "if (outputEl) {{\n",
              "    x.observe(outputEl, {childList: true});\n",
              "}}\n",
              "\n",
              "                        })                };                            </script>        </div>\n",
              "</body>\n",
              "</html>"
            ]
          },
          "metadata": {}
        }
      ]
    },
    {
      "cell_type": "markdown",
      "source": [
        "Note que dependendo da execução o resultado do gráfico pode mudar, mas teoricamente a AVL vai ser melhor em média no tempo de execução."
      ],
      "metadata": {
        "id": "IElwm8vMdS80"
      }
    }
  ]
}