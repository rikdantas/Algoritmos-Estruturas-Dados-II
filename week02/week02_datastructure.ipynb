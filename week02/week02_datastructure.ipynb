{
  "nbformat": 4,
  "nbformat_minor": 0,
  "metadata": {
    "colab": {
      "provenance": [],
      "authorship_tag": "ABX9TyOShg6kLkotiCjz+/9mNKT0",
      "include_colab_link": true
    },
    "kernelspec": {
      "name": "python3",
      "display_name": "Python 3"
    },
    "language_info": {
      "name": "python"
    }
  },
  "cells": [
    {
      "cell_type": "markdown",
      "metadata": {
        "id": "view-in-github",
        "colab_type": "text"
      },
      "source": [
        "<a href=\"https://colab.research.google.com/github/rikdantas/Algoritmos-Estruturas-Dados-II/blob/main/week02/week02_datastructure.ipynb\" target=\"_parent\"><img src=\"https://colab.research.google.com/assets/colab-badge.svg\" alt=\"Open In Colab\"/></a>"
      ]
    },
    {
      "cell_type": "markdown",
      "source": [
        "# **Desafio: Autocompletar Palavras**\n",
        "## Aluno: Paulo Ricardo Dantas\n",
        "## Matrícula: 20230000789\n",
        "\n",
        "## Objetivo:\n",
        "**Criar um sistema de autocompletar palavras usando uma árvore AVL.**\n",
        "## Etapas:\n",
        "- Pré-processamento do Corpus:\n",
        "\n",
        "- Construção da Árvore AVL:\n",
        "\n",
        "- Autocompletar:\n",
        "\n",
        "- Análise de Desempenho:\n"
      ],
      "metadata": {
        "id": "OPLoSMxYR2Lr"
      }
    },
    {
      "cell_type": "code",
      "execution_count": 10,
      "metadata": {
        "id": "iG9CTMcwRtIQ"
      },
      "outputs": [],
      "source": [
        "#Importando bibliotecas\n",
        "import numpy as np"
      ]
    },
    {
      "cell_type": "markdown",
      "source": [
        "# Pré-processamento do Corpus:\n",
        "* Converta todo o texto para minúsculas.\n",
        "* Remova pontuação e caracteres especiais.\n",
        "* Divida o texto em palavras.\n",
        "* Remova palavras de parada (ex: \"e\", \"ou\", \"mas\", \"a\", \"o\" etc.) se desejar."
      ],
      "metadata": {
        "id": "yD5SaNJxTG-K"
      }
    },
    {
      "cell_type": "code",
      "source": [
        "# Eu pedi para que o ChatGPT me gerasse um texto de 30 linhas. Esse é o que vou usar como corpus do programa.\n",
        "# Salvei o arquivo em txt e vou deixar disponibilizado na pasta do git.\n",
        "\n",
        "# Lembrar de fazer o upload do corpus para o colab para o código funcionar\n",
        "\n",
        "with open('corpus.txt', \"r\", encoding=\"utf-8\") as corpus: # Guardando o corpus numa variável\n",
        "    texto = corpus.read()\n",
        "\n",
        "# Primeiro vou separar as palavras em uma lista\n",
        "palavras = texto.split()\n"
      ],
      "metadata": {
        "id": "VK4JJMWOT_0n"
      },
      "execution_count": 41,
      "outputs": []
    },
    {
      "cell_type": "code",
      "source": [
        "# Removendo as pontuações\n",
        "palavras = [palavra.replace(\",\", \"\") for palavra in palavras] # Removendo a vírgula das palavras\n",
        "palavras = [palavra.replace(\".\", \"\") for palavra in palavras] # Removendo o ponto da palavras"
      ],
      "metadata": {
        "id": "XKBONnxOdIfC"
      },
      "execution_count": 56,
      "outputs": []
    },
    {
      "cell_type": "code",
      "source": [
        "# Deixando todas as palavras em minúsculo\n",
        "palavras = [palavra.lower() for palavra in palavras]"
      ],
      "metadata": {
        "id": "kmDhFWLWnHa_"
      },
      "execution_count": 61,
      "outputs": []
    },
    {
      "cell_type": "code",
      "source": [
        "# Para finalizar a parte de pré processamento, vou usar uma lista auxiliar para remover itens repetidos.\n",
        "aux = [] # Vazio\n",
        "\n",
        "# O laço vai verificar se cada palavra já está na lista. Se não estiver, é adicionada à lista. Se já estiver na lista, pula para a próxima palavra.\n",
        "\n",
        "for palavra in palavras:\n",
        "    if palavra not in aux:\n",
        "        aux.append(palavra)\n",
        "\n",
        "# Por fim eu vou guardar os valores dessa nova lista na minha antiga, para fins de organização.\n",
        "palavras = aux\n"
      ],
      "metadata": {
        "id": "00Vo7xtbonnG"
      },
      "execution_count": 72,
      "outputs": []
    },
    {
      "cell_type": "markdown",
      "source": [
        "# Construção da Árvore AVL:\n",
        "* Insira todas as palavras únicas do corpus na árvore AVL."
      ],
      "metadata": {
        "id": "npkknS6RTfpv"
      }
    },
    {
      "cell_type": "markdown",
      "source": [
        "# Autocompletar:\n",
        "* Implemente uma função que percorre a árvore AVL e retorna palavras que\n",
        "começam com um determinado prefixo. A função deve parar de buscar na árvore\n",
        "assim que encontrar um nó que não corresponda ao prefixo."
      ],
      "metadata": {
        "id": "b5kzfSkrTnfP"
      }
    },
    {
      "cell_type": "markdown",
      "source": [
        "# Análise de Desempenho:\n",
        "* Compare o desempenho (tempo de inserção, altura da árvore, tempo de busca)\n",
        "da árvore AVL com uma estrutura de dados mais simples, como uma lista ou\n",
        "uma árvore binária de busca sem balanceamento.\n",
        "* Analise o impacto do tamanho do corpus no desempenho da árvore AVL."
      ],
      "metadata": {
        "id": "fmYkSjpETqtt"
      }
    }
  ]
}