{
  "nbformat": 4,
  "nbformat_minor": 0,
  "metadata": {
    "colab": {
      "provenance": [],
      "authorship_tag": "ABX9TyN0Au6B8yo0mBaZbM5+LlDb",
      "include_colab_link": true
    },
    "kernelspec": {
      "name": "python3",
      "display_name": "Python 3"
    },
    "language_info": {
      "name": "python"
    }
  },
  "cells": [
    {
      "cell_type": "markdown",
      "metadata": {
        "id": "view-in-github",
        "colab_type": "text"
      },
      "source": [
        "<a href=\"https://colab.research.google.com/github/rikdantas/Algoritmos-Estruturas-Dados-II/blob/main/U2T3/source/U2T3_Compose.ipynb\" target=\"_parent\"><img src=\"https://colab.research.google.com/assets/colab-badge.svg\" alt=\"Open In Colab\"/></a>"
      ]
    },
    {
      "cell_type": "markdown",
      "source": [
        "# U2T3\n",
        "### Alunos: Ivamar Dantas Roque e Paulo Ricardo Dantas\n",
        "\n"
      ],
      "metadata": {
        "id": "_a4M4cYaTco2"
      }
    },
    {
      "cell_type": "markdown",
      "source": [
        "## Compose\n",
        "### Objetivo:\n",
        "**Com base nas redes já geradas no outro notebook, vamos baixá-las do drive e usar a função do network chamada compose, para juntar os 4 grafos em um só.**"
      ],
      "metadata": {
        "id": "AR4y5dKXTXc6"
      }
    },
    {
      "cell_type": "code",
      "execution_count": 1,
      "metadata": {
        "id": "-g9Kubz6TL_B"
      },
      "outputs": [],
      "source": [
        "import gdown\n",
        "import networkx as nx"
      ]
    },
    {
      "cell_type": "code",
      "source": [
        "url = 'https://drive.google.com/uc?id=1Wi_CVPhjpNFJ0eL120w-FWyFuD2beraI'\n",
        "output = 'gsw.graphml'\n",
        "gdown.download(url, output, quiet=False)\n",
        "\n",
        "url = 'https://drive.google.com/uc?id=1OcTXeqDuUBSXoVI7IzlGyRGGUCF5-i98'\n",
        "output = 'og.graphml'\n",
        "gdown.download(url, output, quiet=False)\n",
        "\n",
        "url = 'https://drive.google.com/uc?id=1Rmr-7c7ZVK8Sial_MR0Xz1Iefq71aZOA'\n",
        "output = 'nike.graphml'\n",
        "gdown.download(url, output, quiet=False)\n",
        "\n",
        "url = 'https://drive.google.com/uc?id=1aGGeJrXNlm9h-Gtf5dbvl5mFr90Mtapg'\n",
        "output = 'tissot.graphml'\n",
        "gdown.download(url, output, quiet=False)"
      ],
      "metadata": {
        "colab": {
          "base_uri": "https://localhost:8080/",
          "height": 313
        },
        "id": "rAOzyTV2Ulhr",
        "outputId": "0c37719e-20e8-4a45-98ab-2d72304f86f3"
      },
      "execution_count": 5,
      "outputs": [
        {
          "output_type": "stream",
          "name": "stderr",
          "text": [
            "Downloading...\n",
            "From: https://drive.google.com/uc?id=1Wi_CVPhjpNFJ0eL120w-FWyFuD2beraI\n",
            "To: /content/gsw.graphml\n",
            "100%|██████████| 12.8M/12.8M [00:00<00:00, 128MB/s]\n",
            "Downloading...\n",
            "From: https://drive.google.com/uc?id=1OcTXeqDuUBSXoVI7IzlGyRGGUCF5-i98\n",
            "To: /content/og.graphml\n",
            "100%|██████████| 23.1M/23.1M [00:00<00:00, 48.5MB/s]\n",
            "Downloading...\n",
            "From: https://drive.google.com/uc?id=1Rmr-7c7ZVK8Sial_MR0Xz1Iefq71aZOA\n",
            "To: /content/nike.graphml\n",
            "100%|██████████| 6.77M/6.77M [00:00<00:00, 31.3MB/s]\n",
            "Downloading...\n",
            "From: https://drive.google.com/uc?id=1aGGeJrXNlm9h-Gtf5dbvl5mFr90Mtapg\n",
            "To: /content/tissot.graphml\n",
            "100%|██████████| 876k/876k [00:00<00:00, 100MB/s]\n"
          ]
        },
        {
          "output_type": "execute_result",
          "data": {
            "text/plain": [
              "'tissot.graphml'"
            ],
            "application/vnd.google.colaboratory.intrinsic+json": {
              "type": "string"
            }
          },
          "metadata": {},
          "execution_count": 5
        }
      ]
    },
    {
      "cell_type": "code",
      "source": [
        "# Lendo os arquivos graphml\n",
        "\n",
        "gsw = nx.read_graphml('/content/gsw.graphml')\n",
        "og = nx.read_graphml('/content/og.graphml')\n",
        "nike = nx.read_graphml('/content/nike.graphml')\n",
        "tissot = nx.read_graphml('/content/tissot.graphml')\n",
        "\n",
        "# Printando a quantidade de nós e arestas de cada um\n",
        "print(\"gsw  ->  {} nodes, {} edges\".format(len(gsw), nx.number_of_edges(gsw)))\n",
        "print(\"og  ->  {} nodes, {} edges\".format(len(og), nx.number_of_edges(og)))\n",
        "print(\"nike  ->  {} nodes, {} edges\".format(len(nike), nx.number_of_edges(nike)))\n",
        "print(\"tissot  ->  {} nodes, {} edges\".format(len(tissot), nx.number_of_edges(tissot)))"
      ],
      "metadata": {
        "colab": {
          "base_uri": "https://localhost:8080/"
        },
        "id": "MMdHJmHeWL1B",
        "outputId": "c1b69e3d-92bb-4a44-a8ef-7acdc0ae3dbc"
      },
      "execution_count": 16,
      "outputs": [
        {
          "output_type": "stream",
          "name": "stdout",
          "text": [
            "gsw  ->  1332 nodes, 119442 edges\n",
            "og  ->  1412 nodes, 214313 edges\n",
            "nike  ->  971 nodes, 75637 edges\n",
            "tissot  ->  2600 nodes, 6841 edges\n"
          ]
        }
      ]
    },
    {
      "cell_type": "code",
      "source": [
        "# Usando o compose para unir todas as redes em uma só\n",
        "aux1 = nx.compose(gsw, og)\n",
        "aux2 = nx.compose(nike, tissot)\n",
        "fg = nx.compose(aux1, aux2)\n",
        "\n",
        "# Printando a quantidade de nós e de arestas do grafo final\n",
        "print(\"fg  ->  {} nodes, {} edges\".format(len(fg), nx.number_of_edges(fg)))"
      ],
      "metadata": {
        "colab": {
          "base_uri": "https://localhost:8080/"
        },
        "id": "dj3FdDX0Xaco",
        "outputId": "c48dcc16-bee7-41d7-b93c-0f15651ef3b9"
      },
      "execution_count": 17,
      "outputs": [
        {
          "output_type": "stream",
          "name": "stdout",
          "text": [
            "fg  ->  5997 nodes, 415322 edges\n"
          ]
        }
      ]
    },
    {
      "cell_type": "code",
      "source": [
        "nx.write_graphml(fg, \"fgraph.graphml\")"
      ],
      "metadata": {
        "id": "HHjYEu2iZJGq"
      },
      "execution_count": 18,
      "outputs": []
    }
  ]
}