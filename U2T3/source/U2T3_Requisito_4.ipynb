{
  "nbformat": 4,
  "nbformat_minor": 0,
  "metadata": {
    "colab": {
      "provenance": [],
      "authorship_tag": "ABX9TyPN0UiBEd7Lrk8GDEhwQMhI",
      "include_colab_link": true
    },
    "kernelspec": {
      "name": "python3",
      "display_name": "Python 3"
    },
    "language_info": {
      "name": "python"
    }
  },
  "cells": [
    {
      "cell_type": "markdown",
      "metadata": {
        "id": "view-in-github",
        "colab_type": "text"
      },
      "source": [
        "<a href=\"https://colab.research.google.com/github/rikdantas/Algoritmos-Estruturas-Dados-II/blob/main/U2T3/source/U2T3_Requisito_4.ipynb\" target=\"_parent\"><img src=\"https://colab.research.google.com/assets/colab-badge.svg\" alt=\"Open In Colab\"/></a>"
      ]
    },
    {
      "cell_type": "markdown",
      "source": [
        "# U2T3\n",
        "### Alunos: Ivamar Dantas Roque e Paulo Ricardo Dantas"
      ],
      "metadata": {
        "id": "KLUySD6spiuu"
      }
    },
    {
      "cell_type": "markdown",
      "source": [
        "## 1.0 Requisito 4\n",
        "### Objetivo:\n",
        "**Usar o gephi para destacar o k-core e o k-shell**\n",
        "\n",
        "Note que o requisito pede para usar o gephi, mas nesse notebook vamos usar a biblioteca networkx para verificar o k-core e o k-shell.\n"
      ],
      "metadata": {
        "id": "5tG-SneGpldm"
      }
    },
    {
      "cell_type": "code",
      "execution_count": 1,
      "metadata": {
        "id": "VJ7bYTSFpe2k"
      },
      "outputs": [],
      "source": [
        "import networkx as nx\n",
        "import gdown"
      ]
    },
    {
      "cell_type": "code",
      "source": [
        "# Baixando o arquivo da rede final para o ambiente\n",
        "\n",
        "url = 'https://drive.google.com/uc?id=1j00b_-VEnZ2CWxLKNnpU3gDGptuXrr3d'\n",
        "output = 'fgraph.graphml'\n",
        "gdown.download(url, output, quiet=False)"
      ],
      "metadata": {
        "colab": {
          "base_uri": "https://localhost:8080/",
          "height": 105
        },
        "id": "7XKIqWpoqGku",
        "outputId": "14494a60-dd3e-45c8-9352-f1065aa636bb"
      },
      "execution_count": 2,
      "outputs": [
        {
          "output_type": "stream",
          "name": "stderr",
          "text": [
            "Downloading...\n",
            "From: https://drive.google.com/uc?id=1j00b_-VEnZ2CWxLKNnpU3gDGptuXrr3d\n",
            "To: /content/fgraph.graphml\n",
            "100%|██████████| 43.5M/43.5M [00:00<00:00, 85.4MB/s]\n"
          ]
        },
        {
          "output_type": "execute_result",
          "data": {
            "text/plain": [
              "'fgraph.graphml'"
            ],
            "application/vnd.google.colaboratory.intrinsic+json": {
              "type": "string"
            }
          },
          "metadata": {},
          "execution_count": 2
        }
      ]
    },
    {
      "cell_type": "code",
      "source": [
        "# Importando o gráfico usando o networkx\n",
        "fgraph = nx.read_graphml('/content/fgraph.graphml')\n",
        "\n",
        "# Printando a quantidade de nós e arestas da rede\n",
        "print(\"fgraph  ->  {} nodes, {} edges\".format(len(fgraph), nx.number_of_edges(fgraph)))"
      ],
      "metadata": {
        "colab": {
          "base_uri": "https://localhost:8080/"
        },
        "id": "0V6FmS-qqJHR",
        "outputId": "fb8f945c-4aaa-428c-c07f-41bb17224c30"
      },
      "execution_count": 3,
      "outputs": [
        {
          "output_type": "stream",
          "name": "stdout",
          "text": [
            "fgraph  ->  5997 nodes, 415322 edges\n"
          ]
        }
      ]
    },
    {
      "cell_type": "code",
      "source": [
        "# k-core of the network\n",
        "set([v for k,v in nx.core_number(fgraph).items()])"
      ],
      "metadata": {
        "colab": {
          "base_uri": "https://localhost:8080/"
        },
        "id": "VFiSKH8EsYUa",
        "outputId": "7c09fb8b-49e2-483a-8109-2628f4ef6cd1"
      },
      "execution_count": 4,
      "outputs": [
        {
          "output_type": "execute_result",
          "data": {
            "text/plain": [
              "{2,\n",
              " 3,\n",
              " 4,\n",
              " 5,\n",
              " 6,\n",
              " 7,\n",
              " 8,\n",
              " 9,\n",
              " 10,\n",
              " 11,\n",
              " 12,\n",
              " 13,\n",
              " 14,\n",
              " 15,\n",
              " 16,\n",
              " 17,\n",
              " 18,\n",
              " 19,\n",
              " 20,\n",
              " 21,\n",
              " 22,\n",
              " 23,\n",
              " 24,\n",
              " 25,\n",
              " 26,\n",
              " 27,\n",
              " 28,\n",
              " 29,\n",
              " 30,\n",
              " 31,\n",
              " 32,\n",
              " 33,\n",
              " 34,\n",
              " 35,\n",
              " 36,\n",
              " 37,\n",
              " 38,\n",
              " 39,\n",
              " 40,\n",
              " 41,\n",
              " 42,\n",
              " 43,\n",
              " 44,\n",
              " 45,\n",
              " 46,\n",
              " 47,\n",
              " 48,\n",
              " 49,\n",
              " 50,\n",
              " 51,\n",
              " 52,\n",
              " 53,\n",
              " 54,\n",
              " 55,\n",
              " 56,\n",
              " 57,\n",
              " 58,\n",
              " 59,\n",
              " 60,\n",
              " 61,\n",
              " 62,\n",
              " 63,\n",
              " 64,\n",
              " 65,\n",
              " 66,\n",
              " 67,\n",
              " 68,\n",
              " 69,\n",
              " 70,\n",
              " 71,\n",
              " 72,\n",
              " 73,\n",
              " 74,\n",
              " 75,\n",
              " 76,\n",
              " 77,\n",
              " 78,\n",
              " 79,\n",
              " 80,\n",
              " 81,\n",
              " 82,\n",
              " 83,\n",
              " 84,\n",
              " 85,\n",
              " 86,\n",
              " 87,\n",
              " 88,\n",
              " 89,\n",
              " 90,\n",
              " 91,\n",
              " 92,\n",
              " 93,\n",
              " 94,\n",
              " 95,\n",
              " 96,\n",
              " 97,\n",
              " 98,\n",
              " 99,\n",
              " 100,\n",
              " 101,\n",
              " 102,\n",
              " 103,\n",
              " 104,\n",
              " 105,\n",
              " 106,\n",
              " 107,\n",
              " 108,\n",
              " 109,\n",
              " 110,\n",
              " 111,\n",
              " 112,\n",
              " 113,\n",
              " 114,\n",
              " 115,\n",
              " 116,\n",
              " 117,\n",
              " 118,\n",
              " 119,\n",
              " 120,\n",
              " 121,\n",
              " 122,\n",
              " 123,\n",
              " 124,\n",
              " 125,\n",
              " 126,\n",
              " 127,\n",
              " 128,\n",
              " 129,\n",
              " 130,\n",
              " 131,\n",
              " 132,\n",
              " 133,\n",
              " 134,\n",
              " 135,\n",
              " 136,\n",
              " 137,\n",
              " 138,\n",
              " 139,\n",
              " 140,\n",
              " 141,\n",
              " 142,\n",
              " 143,\n",
              " 144,\n",
              " 145,\n",
              " 146,\n",
              " 147,\n",
              " 148,\n",
              " 149,\n",
              " 150,\n",
              " 151,\n",
              " 153,\n",
              " 154,\n",
              " 155,\n",
              " 156,\n",
              " 157,\n",
              " 160,\n",
              " 162,\n",
              " 164,\n",
              " 167,\n",
              " 169,\n",
              " 170,\n",
              " 171,\n",
              " 172,\n",
              " 174,\n",
              " 180,\n",
              " 181,\n",
              " 182,\n",
              " 183,\n",
              " 184,\n",
              " 185,\n",
              " 186,\n",
              " 187,\n",
              " 188,\n",
              " 189,\n",
              " 191,\n",
              " 192,\n",
              " 193,\n",
              " 194,\n",
              " 195,\n",
              " 196,\n",
              " 197,\n",
              " 198,\n",
              " 199,\n",
              " 200,\n",
              " 201,\n",
              " 202,\n",
              " 203,\n",
              " 205,\n",
              " 206,\n",
              " 207,\n",
              " 208,\n",
              " 209,\n",
              " 210,\n",
              " 211,\n",
              " 212,\n",
              " 213,\n",
              " 217,\n",
              " 223,\n",
              " 231,\n",
              " 232,\n",
              " 233,\n",
              " 244,\n",
              " 248,\n",
              " 254,\n",
              " 255,\n",
              " 260,\n",
              " 284,\n",
              " 353,\n",
              " 379,\n",
              " 408,\n",
              " 411,\n",
              " 462,\n",
              " 464,\n",
              " 471}"
            ]
          },
          "metadata": {},
          "execution_count": 4
        }
      ]
    }
  ]
}