{
  "nbformat": 4,
  "nbformat_minor": 0,
  "metadata": {
    "colab": {
      "provenance": [],
      "authorship_tag": "ABX9TyMiBQGuL5RsHfqD+1Ge2gYj",
      "include_colab_link": true
    },
    "kernelspec": {
      "name": "python3",
      "display_name": "Python 3"
    },
    "language_info": {
      "name": "python"
    }
  },
  "cells": [
    {
      "cell_type": "markdown",
      "metadata": {
        "id": "view-in-github",
        "colab_type": "text"
      },
      "source": [
        "<a href=\"https://colab.research.google.com/github/rikdantas/Algoritmos-Estruturas-Dados-II/blob/main/U2T3/source/U2T3_Requisito_1.ipynb\" target=\"_parent\"><img src=\"https://colab.research.google.com/assets/colab-badge.svg\" alt=\"Open In Colab\"/></a>"
      ]
    },
    {
      "cell_type": "markdown",
      "source": [
        "# U2T3\n",
        "### Alunos: Ivamar Dantas Roque e Paulo Ricardo Dantas\n",
        "\n"
      ],
      "metadata": {
        "id": "nJCKa_jg2EBQ"
      }
    },
    {
      "cell_type": "markdown",
      "source": [
        "## 1.0 Requisito 1\n",
        "### Objetivo:\n",
        "**Gerar uma rede (grafo) dirigida a partir dos links das páginas do Wikipédia\n",
        "considerando a fusão de 4 SEEDs (páginas iniciais)**\n",
        "\n",
        "Para isso iremos utilizar o notebook base \"wikipedia\", disponibilizado pelo professor"
      ],
      "metadata": {
        "id": "AzPMypTANKOv"
      }
    },
    {
      "cell_type": "code",
      "source": [
        "# Instalando biblioteca da wikipedia\n",
        "!pip install wikipedia"
      ],
      "metadata": {
        "colab": {
          "base_uri": "https://localhost:8080/"
        },
        "id": "bA3KN1MpNS9f",
        "outputId": "ccb4d20d-ac5e-4ff8-de0b-d30aa4a4f20c"
      },
      "execution_count": 2,
      "outputs": [
        {
          "output_type": "stream",
          "name": "stdout",
          "text": [
            "Collecting wikipedia\n",
            "  Downloading wikipedia-1.4.0.tar.gz (27 kB)\n",
            "  Preparing metadata (setup.py) ... \u001b[?25l\u001b[?25hdone\n",
            "Requirement already satisfied: beautifulsoup4 in /usr/local/lib/python3.10/dist-packages (from wikipedia) (4.11.2)\n",
            "Requirement already satisfied: requests<3.0.0,>=2.0.0 in /usr/local/lib/python3.10/dist-packages (from wikipedia) (2.31.0)\n",
            "Requirement already satisfied: charset-normalizer<4,>=2 in /usr/local/lib/python3.10/dist-packages (from requests<3.0.0,>=2.0.0->wikipedia) (3.3.2)\n",
            "Requirement already satisfied: idna<4,>=2.5 in /usr/local/lib/python3.10/dist-packages (from requests<3.0.0,>=2.0.0->wikipedia) (3.4)\n",
            "Requirement already satisfied: urllib3<3,>=1.21.1 in /usr/local/lib/python3.10/dist-packages (from requests<3.0.0,>=2.0.0->wikipedia) (2.0.7)\n",
            "Requirement already satisfied: certifi>=2017.4.17 in /usr/local/lib/python3.10/dist-packages (from requests<3.0.0,>=2.0.0->wikipedia) (2023.7.22)\n",
            "Requirement already satisfied: soupsieve>1.2 in /usr/local/lib/python3.10/dist-packages (from beautifulsoup4->wikipedia) (2.5)\n",
            "Building wheels for collected packages: wikipedia\n",
            "  Building wheel for wikipedia (setup.py) ... \u001b[?25l\u001b[?25hdone\n",
            "  Created wheel for wikipedia: filename=wikipedia-1.4.0-py3-none-any.whl size=11679 sha256=89dbeb79db6d6591e2b213a96555a0a76b77d74511f365c4aa28a6a12274fe1c\n",
            "  Stored in directory: /root/.cache/pip/wheels/5e/b6/c5/93f3dec388ae76edc830cb42901bb0232504dfc0df02fc50de\n",
            "Successfully built wikipedia\n",
            "Installing collected packages: wikipedia\n",
            "Successfully installed wikipedia-1.4.0\n"
          ]
        }
      ]
    },
    {
      "cell_type": "code",
      "source": [
        "# Importando bibliotecas\n",
        "from operator import itemgetter\n",
        "import networkx as nx\n",
        "import wikipedia\n",
        "import matplotlib.pyplot as plt"
      ],
      "metadata": {
        "id": "5Heo_4lDNen3"
      },
      "execution_count": 3,
      "outputs": []
    },
    {
      "cell_type": "markdown",
      "source": [
        "O próximo passo é importar cada rede manualmente usando a biblioteca da wikipedia"
      ],
      "metadata": {
        "id": "MbOjbi8VOBKs"
      }
    },
    {
      "cell_type": "markdown",
      "source": [
        "### 1.1 Golden State Warriors"
      ],
      "metadata": {
        "id": "7KWMN2GuQAgB"
      }
    },
    {
      "cell_type": "code",
      "source": [
        "#https://en.wikipedia.org/wiki/Golden_State_Warriors\n",
        "SEED = \"Golden State Warriors\".title()"
      ],
      "metadata": {
        "id": "KVACcApUQJrg"
      },
      "execution_count": 3,
      "outputs": []
    },
    {
      "cell_type": "code",
      "source": [
        "todo_lst = [(0, SEED)] # The SEED is in the layer 0\n",
        "todo_set = set(SEED) # The SEED itself\n",
        "done_set = set() # Nothing is done yet"
      ],
      "metadata": {
        "id": "RWFFD21TQ64t"
      },
      "execution_count": 4,
      "outputs": []
    },
    {
      "cell_type": "code",
      "source": [
        "gsw = nx.DiGraph()\n",
        "layer, page = todo_lst[0]"
      ],
      "metadata": {
        "id": "kWmPSZgoQ-mR"
      },
      "execution_count": 5,
      "outputs": []
    },
    {
      "cell_type": "code",
      "source": [
        "%%time\n",
        "while layer < 2:\n",
        "  # Remove the name page of the current page from the todo_lst,\n",
        "  # and add it to the set of processed pages.\n",
        "  # If the script encounters this page again, it will skip over it.\n",
        "  del todo_lst[0]\n",
        "  done_set.add(page)\n",
        "\n",
        "  # Show progress\n",
        "  print(layer, page)\n",
        "\n",
        "  # Attempt to download the selected page.\n",
        "  try:\n",
        "    wiki = wikipedia.page(page)\n",
        "  except:\n",
        "    print(\"Could not load\", page)\n",
        "    layer, page = todo_lst[0]\n",
        "    continue\n",
        "\n",
        "  for link in wiki.links:\n",
        "    link = link.title()\n",
        "    if link is not link.startswith(\"List Of\"):\n",
        "      if link not in todo_set and link not in done_set:\n",
        "        todo_lst.append((layer + 1, link))\n",
        "        todo_set.add(link)\n",
        "      gsw.add_edge(page, link)\n",
        "  layer, page = todo_lst[0]"
      ],
      "metadata": {
        "id": "92mif8EoRKL1"
      },
      "execution_count": null,
      "outputs": []
    },
    {
      "cell_type": "code",
      "source": [
        "print(\"{} nodes, {} edges\".format(len(gsw), nx.number_of_edges(gsw)))"
      ],
      "metadata": {
        "colab": {
          "base_uri": "https://localhost:8080/"
        },
        "id": "9gJhaZQbvZT-",
        "outputId": "42af229f-774b-474a-911d-5b759ceec5e7"
      },
      "execution_count": 9,
      "outputs": [
        {
          "output_type": "stream",
          "name": "stdout",
          "text": [
            "98770 nodes, 378703 edges\n"
          ]
        }
      ]
    },
    {
      "cell_type": "markdown",
      "source": [
        "#### 1.1.1 Pré-processamento dos dados\n",
        "Nessa etapa vão ser eliminados alguns dos nós que são nós repetidos, que apontam para eles mesmos, entreo outros. Lembre que esse pré-processamento é o mesmo que o professor disponibilizou para gente."
      ],
      "metadata": {
        "id": "swOXnphnSGWi"
      }
    },
    {
      "cell_type": "code",
      "source": [
        "# Fazendo uma cópia do grafo bruto\n",
        "original = gsw.copy()"
      ],
      "metadata": {
        "id": "1hTUY0w3S1j6"
      },
      "execution_count": 7,
      "outputs": []
    },
    {
      "cell_type": "code",
      "source": [
        "# remove self loops\n",
        "gsw.remove_edges_from(nx.selfloop_edges(gsw))\n",
        "\n",
        "# identify duplicates like that: 'network' and 'networks'\n",
        "duplicates = [(node, node + \"s\")\n",
        "              for node in gsw if node + \"s\" in gsw\n",
        "             ]\n",
        "\n",
        "for dup in duplicates:\n",
        "  # *dup is a technique named 'unpacking'\n",
        "  gsw = nx.contracted_nodes(gsw, *dup, self_loops=False)\n",
        "\n",
        "print(duplicates)\n",
        "\n",
        "duplicates = [(x, y) for x, y in\n",
        "              [(node, node.replace(\"-\", \" \")) for node in gsw]\n",
        "                if x != y and y in gsw]\n",
        "print(duplicates)\n",
        "\n",
        "for dup in duplicates:\n",
        "  gsw = nx.contracted_nodes(gsw, *dup, self_loops=False)\n",
        "\n",
        "# nx.contracted creates a new node/edge attribute called contraction\n",
        "# the value of the attribute is a dictionary, but GraphML\n",
        "# does not support dictionary attributes\n",
        "nx.set_node_attributes(gsw, 0,\"contraction\")\n",
        "nx.set_edge_attributes(gsw, 0,\"contraction\")"
      ],
      "metadata": {
        "colab": {
          "base_uri": "https://localhost:8080/"
        },
        "id": "EntXn94WThNz",
        "outputId": "e4c2b5b3-e14e-4be5-e303-966e059896ce"
      },
      "execution_count": 10,
      "outputs": [
        {
          "output_type": "stream",
          "name": "stdout",
          "text": [
            "[('Slam Dunk', 'Slam Dunks'), ('Altoona Mountain City', 'Altoona Mountain Citys'), ('Free Throw', 'Free Throws'), ('Nba Final', 'Nba Finals'), ('African American', 'African Americans'), ('Nba Championship', 'Nba Championships'), ('Basketball Position', 'Basketball Positions'), ('Motorsport', 'Motorsports'), ('Triple-Double', 'Triple-Doubles'), ('Regional Sports Network', 'Regional Sports Networks'), ('White American', 'White Americans'), ('Throwback Uniform', 'Throwback Uniforms'), ('Exhibition Game', 'Exhibition Games'), ('Espy Award', 'Espy Awards'), ('Triathlon', 'Triathlons'), ('Finger Roll', 'Finger Rolls'), ('Technical Foul', 'Technical Fouls'), ('Pandemic', 'Pandemics'), ('Double-Double', 'Double-Doubles'), ('Asian American', 'Asian Americans'), ('Californio', 'Californios'), ('Cambodian American', 'Cambodian Americans'), ('Chinese American', 'Chinese Americans'), ('Combined Statistical Area', 'Combined Statistical Areas'), ('Filipino American', 'Filipino Americans'), ('Franciscan', 'Franciscans'), ('Guatemalan American', 'Guatemalan Americans'), ('Indian American', 'Indian Americans'), ('Japanese American', 'Japanese Americans'), ('Korean American', 'Korean Americans'), ('Liberty Ship', 'Liberty Ships'), ('Major Film Studio', 'Major Film Studios'), ('Mexican American', 'Mexican Americans'), ('Microclimate', 'Microclimates'), ('Multiracial American', 'Multiracial Americans'), ('Muslim', 'Muslims'), ('Pacific Islander American', 'Pacific Islander Americans'), ('Public Broadcasting Service', 'Public Broadcasting Services'), ('Salvadoran American', 'Salvadoran Americans'), ('Super Bowl', 'Super Bowls'), ('Taco', 'Tacos'), ('Thai American', 'Thai Americans'), ('Twenty-Foot Equivalent Unit', 'Twenty-Foot Equivalent Units'), ('U.S. State', 'U.S. States'), ('Victory Ship', 'Victory Ships'), ('Vietnamese American', 'Vietnamese Americans'), ('Rush Hour', 'Rush Hours'), ('United Soccer League', 'United Soccer Leagues'), ('Sport', 'Sports'), ('Nba Champion', 'Nba Champions'), ('Ball Hog', 'Ball Hogs'), ('Academy Award', 'Academy Awards'), ('Owned-And-Operated Station', 'Owned-And-Operated Stations'), ('Primetime Emmy Award', 'Primetime Emmy Awards'), ('Ball Game', 'Ball Games'), ('Bowl Game', 'Bowl Games'), ('Olympic Sport', 'Olympic Sports'), ('Locomotive', 'Locomotives'), ('Reporting Mark', 'Reporting Marks'), ('Duck', 'Ducks'), ('India Pale Ale', 'India Pale Ales'), ('Fiba World Championship', 'Fiba World Championships'), ('Retired Number', 'Retired Numbers'), ('Back Spasm', 'Back Spasms'), ('Euroleague Champion', 'Euroleague Champions'), ('Shorebird', 'Shorebirds'), ('Archive', 'Archives'), ('America', 'Americas'), ('E-Book', 'E-Books'), ('Exit Poll', 'Exit Polls'), (\"Fifa Women'S World Ranking\", \"Fifa Women'S World Rankings\"), ('Multi-Sport Event', 'Multi-Sport Events'), (\"Supporters' Group\", \"Supporters' Groups\"), ('Stablecoin', 'Stablecoins'), ('Himalaya', 'Himalayas'), ('Diesel Multiple Unit', 'Diesel Multiple Units'), ('Democratic National Convention', 'Democratic National Conventions'), ('Basketball Statistic', 'Basketball Statistics'), ('Nba Anniversary Team', 'Nba Anniversary Teams'), ('African-American', 'African-Americans'), ('Fight Song', 'Fight Songs'), ('Jesuit', 'Jesuits'), ('Asian Brazilian', 'Asian Brazilians'), ('Demographic', 'Demographics'), ('Economic', 'Economics'), ('Mobile Phone', 'Mobile Phones'), ('Olympic Medal', 'Olympic Medals'), ('Pardo Brazilian', 'Pardo Brazilians'), ('White Brazilian', 'White Brazilians'), ('Peace Symbol', 'Peace Symbols'), ('Joint Venture', 'Joint Ventures'), ('Over-The-Top Media Service', 'Over-The-Top Media Services'), ('Timeline Of Covid-19 Pandemic', 'Timeline Of Covid-19 Pandemics'), ('Alaska Native', 'Alaska Natives'), ('Anti-War Movement', 'Anti-War Movements'), ('California Sea Lion', 'California Sea Lions'), ('Conquistador', 'Conquistadors'), ('Hispanic And Latino American', 'Hispanic And Latino Americans'), ('Indian Reservation', 'Indian Reservations'), ('Native Hawaiian', 'Native Hawaiians'), ('Pachuca', 'Pachucas'), ('Seaport', 'Seaports'), ('Architect', 'Architects'), ('Hectare', 'Hectares'), ('California Golden Bear', 'California Golden Bears'), (\"Ncaa Division I Men'S Tennis Championship\", \"Ncaa Division I Men'S Tennis Championships\"), (\"Ncaa Division I Women'S Tennis Championship\", \"Ncaa Division I Women'S Tennis Championships\"), ('Shipyard', 'Shipyards'), ('Rolling Stone', 'Rolling Stones'), ('Uniform', 'Uniforms'), ('Golden State Warrior', 'Golden State Warriors'), ('Asset', 'Assets'), ('Plaintiff', 'Plaintiffs'), ('Streetcar', 'Streetcars'), ('All-American', 'All-Americans'), (\"Ncaa Division I Men'S Golf Championship\", \"Ncaa Division I Men'S Golf Championships\"), (\"Ncaa Division I Women'S Golf Championship\", \"Ncaa Division I Women'S Golf Championships\"), ('Referee', 'Referees'), ('California Historical Landmark', 'California Historical Landmarks'), ('Republican National Convention', 'Republican National Conventions'), ('Cardiovascular Disease', 'Cardiovascular Diseases'), ('Christian', 'Christians'), ('Croat', 'Croats'), ('Asian Pacific American', 'Asian Pacific Americans'), ('Federal Information Processing Standard', 'Federal Information Processing Standards'), ('Tulsa Athletic', 'Tulsa Athletics'), ('Aztec', 'Aztecs'), ('Fact-Checker', 'Fact-Checkers'), ('Caricature', 'Caricatures'), ('Prawn', 'Prawns'), ('Negro League', 'Negro Leagues'), ('Brooklyn Celtic', 'Brooklyn Celtics'), ('New York Hakoah', 'New York Hakoahs'), ('Amateur Sport', 'Amateur Sports'), ('Professional Sport', 'Professional Sports'), ('Winter Sport', 'Winter Sports'), ('Skyscraper', 'Skyscrapers'), ('U.S. Senator', 'U.S. Senators'), ('Sea Lion', 'Sea Lions'), ('Irish American', 'Irish Americans'), ('Shareholder', 'Shareholders'), ('Waterway', 'Waterways'), ('Bell Tower', 'Bell Towers'), (\"Bachelor'S Degree\", \"Bachelor'S Degrees\"), (\"Master'S Degree\", \"Master'S Degrees\"), ('Bald Eagle', 'Bald Eagles'), ('Pulitzer Prize', 'Pulitzer Prizes'), ('Cartoon', 'Cartoons'), (\"Iihf World Women'S Championship\", \"Iihf World Women'S Championships\"), (\"Iihf World Women'S U18 Championship\", \"Iihf World Women'S U18 Championships\"), ('Plexiglas', 'Plexiglass'), ('Baptist', 'Baptists'), ('Filipino', 'Filipinos'), ('Tony Award', 'Tony Awards'), ('Clear-Channel Station', 'Clear-Channel Stations'), ('United States Army Air Force', 'United States Army Air Forces'), ('Community College', 'Community Colleges'), ('Emmy Award', 'Emmy Awards'), ('Arterial Road', 'Arterial Roads'), ('Naming Right', 'Naming Rights'), ('Latin American', 'Latin Americans'), ('Wasco Reserve', 'Wasco Reserves'), ('Mormon', 'Mormons'), ('Nielsen Rating', 'Nielsen Ratings'), ('Diorama', 'Dioramas'), ('Decade', 'Decades'), ('Tom Hammond', 'Tom Hammonds'), ('Dallas Cowboys Cheerleader', 'Dallas Cowboys Cheerleaders'), ('Whopper', 'Whoppers'), ('Bone Spur', 'Bone Spurs'), ('Congressional District', 'Congressional Districts'), ('Controlled-Access Highway', 'Controlled-Access Highways'), ('Trampoline', 'Trampolines'), ('Teraflop', 'Teraflops'), ('Playoff', 'Playoffs'), ('Charter School', 'Charter Schools'), ('Elbow Pad', 'Elbow Pads'), ('Ethic', 'Ethics'), ('Knee Pad', 'Knee Pads'), ('Wftda Championship', 'Wftda Championships'), ('Grammy Award', 'Grammy Awards'), ('Department Store', 'Department Stores'), ('Ski Resort', 'Ski Resorts'), ('Finance', 'Finances'), ('Blue', 'Blues'), ('Videotape', 'Videotapes'), ('Art School', 'Art Schools'), ('Refugee', 'Refugees'), ('Carpool', 'Carpools'), ('Shoal', 'Shoals'), ('Pacific Coast Range', 'Pacific Coast Ranges'), ('Timeline Of San Francisco Bay Area', 'Timeline Of San Francisco Bay Areas'), ('Undergraduate', 'Undergraduates'), ('California Constitutional Convention', 'California Constitutional Conventions'), ('Cistern', 'Cisterns'), ('Theatre', 'Theatres'), ('Grotto', 'Grottos'), ('Red Kangaroo', 'Red Kangaroos'), ('Laotian American', 'Laotian Americans'), ('Pueblo', 'Pueblos'), (\"Ncaa Division I Men'S Cross Country Championship\", \"Ncaa Division I Men'S Cross Country Championships\"), ('Graduate Student', 'Graduate Students'), ('U.S. President', 'U.S. Presidents'), ('Bookmaker', 'Bookmakers'), ('Redwood Tree', 'Redwood Trees'), ('International Peace Garden', 'International Peace Gardens'), ('Cameo Appearance', 'Cameo Appearances'), ('Http Cookie', 'Http Cookies'), ('Psychographic', 'Psychographics'), ('101 California Street Shooting', '101 California Street Shootings'), ('Dry-Dock', 'Dry-Docks'), ('Fulbright Scholar', 'Fulbright Scholars'), ('Harlem Globetrotter', 'Harlem Globetrotters'), ('Macarthur Fellow', 'Macarthur Fellows'), ('Texas Longhorn', 'Texas Longhorns'), ('Dzungar–Qing War', 'Dzungar–Qing Wars'), ('Hate Crime', 'Hate Crimes'), ('Rhodes Scholar', 'Rhodes Scholars'), ('Public Service Announcement', 'Public Service Announcements')]\n",
            "[('Haight-Ashbury', 'Haight Ashbury'), ('Nba All-Star Game', 'Nba All Star Game'), ('Three-Point Contest', 'Three Point Contest'), ('Three-Point Field Goal', 'Three Point Field Goal'), ('Nba All-Star Game Mvp', 'Nba All Star Game Mvp'), ('2007 Nba All-Star Game', '2007 Nba All Star Game'), ('Three-Pointer', 'Three Pointer'), ('Triple-Double', 'Triple Double'), ('Nba G-League', 'Nba G League'), ('Sun-Sentinel', 'Sun Sentinel'), ('Ksl-Tv', 'Ksl Tv'), ('Census-Designated Place', 'Census Designated Place'), ('Korean-Language', 'Korean Language'), ('Emery Go-Round', 'Emery Go Round'), ('Black-Crowned Night Heron', 'Black Crowned Night Heron'), ('Half-Court', 'Half Court'), ('Video-On-Demand', 'Video On Demand'), ('Bat-And-Ball Games', 'Bat And Ball Games'), ('Buzzer-Beater', 'Buzzer Beater'), (\"Mcdonald'S All-American\", \"Mcdonald'S All American\"), ('Hewlett-Packard', 'Hewlett Packard'), ('Greco-Roman Wrestling', 'Greco Roman Wrestling'), ('Tee-Ball', 'Tee Ball'), ('Alley-Oop (Basketball)', 'Alley Oop (Basketball)'), ('Fast-Break', 'Fast Break'), ('Free-Throw', 'Free Throw'), ('Pick-And-Roll', 'Pick And Roll'), ('African-American', 'African American'), ('Lexington Herald-Leader', 'Lexington Herald Leader'), ('Douglas-Fir', 'Douglas Fir'), ('Treaty Of Guadalupe-Hidalgo', 'Treaty Of Guadalupe Hidalgo'), ('First-Degree Murder', 'First Degree Murder'), ('All-America', 'All America'), ('Commander-In-Chief', 'Commander In Chief'), ('Jewish-Americans', 'Jewish Americans'), ('Sign-And-Trade', 'Sign And Trade'), ('Class-Action', 'Class Action'), ('Blue-Collar', 'Blue Collar'), ('J-Church', 'J Church'), ('Al-Qaeda', 'Al Qaeda'), ('Panic-Buying', 'Panic Buying'), ('Goal-Line Technology', 'Goal Line Technology'), ('White-Tailed Kite', 'White Tailed Kite'), ('Japanese-American', 'Japanese American'), ('Home-Court Advantage', 'Home Court Advantage'), ('Black-And-White', 'Black And White'), ('Lake-Effect Snow', 'Lake Effect Snow'), ('Pinch-Hitter', 'Pinch Hitter'), ('All-Star', 'All Star'), ('24-Hour Fitness', '24 Hour Fitness'), ('Pbc Lokomotiv-Kuban', 'Pbc Lokomotiv Kuban'), ('Detroit Free-Press', 'Detroit Free Press'), ('Sports-Reference', 'Sports Reference'), ('San Diego Union-Tribune', 'San Diego Union Tribune'), ('Los Angeles Herald-Examiner', 'Los Angeles Herald Examiner'), ('Mexican-American', 'Mexican American'), ('Lega Basket All-Star Game', 'Lega Basket All Star Game'), ('Land-Grant Colleges', 'Land Grant Colleges'), ('Hip-Hop Culture', 'Hip Hop Culture'), ('Single-Elimination Tournament', 'Single Elimination Tournament'), ('List Of Nhl Players With 50-Goal Seasons', 'List Of Nhl Players With 50 Goal Seasons'), ('Bonnie-Jill Laflin', 'Bonnie Jill Laflin'), ('Cord-Cutting', 'Cord Cutting'), ('Peep-Show', 'Peep Show'), ('Narrow-Gauge Railway', 'Narrow Gauge Railway'), ('Mlb All-Star Game', 'Mlb All Star Game'), ('Sixth-Man', 'Sixth Man'), ('Pace-Of-Play', 'Pace Of Play'), ('One-Way Pair', 'One Way Pair'), ('Irish-American', 'Irish American'), ('Vietnamese-American', 'Vietnamese American'), ('Major League Baseball Wild-Card Game', 'Major League Baseball Wild Card Game'), ('High-Tech', 'High Tech'), ('Bicycle-Sharing System', 'Bicycle Sharing System'), ('East Turkistan Government-In-Exile', 'East Turkistan Government In Exile'), ('Witch-Hunt', 'Witch Hunt'), ('Hip-Hop', 'Hip Hop')]\n"
          ]
        }
      ]
    },
    {
      "cell_type": "code",
      "source": [
        "print(\"{} nodes, {} edges\".format(len(gsw), nx.number_of_edges(gsw)))"
      ],
      "metadata": {
        "colab": {
          "base_uri": "https://localhost:8080/"
        },
        "id": "bZaIMKQXvmyZ",
        "outputId": "465c18be-60ff-4220-8408-ff2b7f86112d"
      },
      "execution_count": 11,
      "outputs": [
        {
          "output_type": "stream",
          "name": "stdout",
          "text": [
            "98474 nodes, 378578 edges\n"
          ]
        }
      ]
    },
    {
      "cell_type": "markdown",
      "source": [
        "#### 1.1.2 Truncando a rede\n",
        "Nessa etapa a rede vai ser truncada, aonde vão ser eliminada uma grande quantidade de nós que possuem um in degree mais baixos, pois devido o algoritmo está restringindo até a segunda camada, muitos nós tem um grau muito baixo. Com base nisso, vamos truncar a rede para diminuí-la.\n",
        "Para isso primeiro vamos plotar um histograma do grau."
      ],
      "metadata": {
        "id": "2m0C0XZcTser"
      }
    },
    {
      "cell_type": "code",
      "source": [
        "plt.style.use(\"default\")\n",
        "# degree sequence\n",
        "degree_sequence = sorted([d for n, d in gsw.degree()], reverse=True)\n",
        "\n",
        "fig, ax = plt.subplots(1,2,figsize=(8,4))\n",
        "\n",
        "# all_data has information about degree_sequence and the width of each bin\n",
        "ax[0].hist(degree_sequence)\n",
        "ax[1].hist(degree_sequence,bins=[1,2,3,4,5,6,7,8,9,10])\n",
        "\n",
        "ax[0].set_title(\"Degree Histogram\")\n",
        "ax[0].set_ylabel(\"Count\")\n",
        "ax[0].set_xlabel(\"Degree\")\n",
        "ax[0].set_ylim(0,15000)\n",
        "\n",
        "ax[1].set_title(\"Degree Histogram - Zoom\")\n",
        "ax[1].set_ylabel(\"Count\")\n",
        "ax[1].set_xlabel(\"Degree\")\n",
        "ax[1].set_xlim(0,10)\n",
        "ax[1].set_ylim(0,15000)\n",
        "\n",
        "plt.tight_layout()\n",
        "plt.show()"
      ],
      "metadata": {
        "colab": {
          "base_uri": "https://localhost:8080/",
          "height": 407
        },
        "id": "bj7LKSLTrz6R",
        "outputId": "cf1f10c0-22f1-4972-aa69-79141fe34660"
      },
      "execution_count": 12,
      "outputs": [
        {
          "output_type": "display_data",
          "data": {
            "text/plain": [
              "<Figure size 800x400 with 2 Axes>"
            ],
            "image/png": "[encoded data removed]"
          },
          "metadata": {}
        }
      ]
    },
    {
      "cell_type": "markdown",
      "source": [
        "Após achar um valor razoável, vamos truncar a rede, deixando apenas os nós que tiverem um grau superior ao grau estabelecido. Mesmo sabendo que isso pode interferir na análise final do trabalho, foi escolhido o grau = 50 com o intuito de enxugar a rede, pois ainda terão mais 3 que vão ser unidas com essa para gerar a rede final.\n"
      ],
      "metadata": {
        "id": "BtUpRU7Bu1e_"
      }
    },
    {
      "cell_type": "code",
      "source": [
        "# filter nodes with degree greater than to 50\n",
        "core = [node for node, deg in dict(gsw.degree()).items() if deg > 50]\n",
        "\n",
        "# select a subgraph with 'core' nodes\n",
        "gswsub = nx.subgraph(gsw, core)\n",
        "\n",
        "print(\"{} nodes, {} edges\".format(len(gswsub), nx.number_of_edges(gswsub)))\n",
        "\n",
        "nx.write_graphml(gswsub, \"gsw.graphml\")"
      ],
      "metadata": {
        "colab": {
          "base_uri": "https://localhost:8080/"
        },
        "id": "L_zJQeulvz2U",
        "outputId": "ba03fe91-7e00-469a-8e41-2899d0605d56"
      },
      "execution_count": 22,
      "outputs": [
        {
          "output_type": "stream",
          "name": "stdout",
          "text": [
            "1332 nodes, 119442 edges\n"
          ]
        }
      ]
    },
    {
      "cell_type": "markdown",
      "source": [
        "### 1.2 Olympic Games\n",
        "Como o passo a passo vai ser o mesmo para as 4 redes, a partir desse item vão estar presentes apenas os códigos, sem texto para explicar a fim de deixar o notebook um pouco mais limpo"
      ],
      "metadata": {
        "id": "qdWu2LWJsKX0"
      }
    },
    {
      "cell_type": "code",
      "source": [
        "#https://en.wikipedia.org/wiki/Olympic_Games\n",
        "SEED = \"Olympic Games\".title()"
      ],
      "metadata": {
        "id": "Jug90j9vstfW"
      },
      "execution_count": 23,
      "outputs": []
    },
    {
      "cell_type": "code",
      "source": [
        "todo_lst = [(0, SEED)] # The SEED is in the layer 0\n",
        "todo_set = set(SEED) # The SEED itself\n",
        "done_set = set() # Nothing is done yet"
      ],
      "metadata": {
        "id": "Ik4lXb9ks3-q"
      },
      "execution_count": 24,
      "outputs": []
    },
    {
      "cell_type": "code",
      "source": [
        "og = nx.DiGraph()\n",
        "layer, page = todo_lst[0]"
      ],
      "metadata": {
        "id": "eLDbBIdBs4hc"
      },
      "execution_count": 25,
      "outputs": []
    },
    {
      "cell_type": "code",
      "source": [
        "%%time\n",
        "while layer < 2:\n",
        "  # Remove the name page of the current page from the todo_lst,\n",
        "  # and add it to the set of processed pages.\n",
        "  # If the script encounters this page again, it will skip over it.\n",
        "  del todo_lst[0]\n",
        "  done_set.add(page)\n",
        "\n",
        "  # Show progress\n",
        "  print(layer, page)\n",
        "\n",
        "  # Attempt to download the selected page.\n",
        "  try:\n",
        "    wiki = wikipedia.page(page)\n",
        "  except:\n",
        "    print(\"Could not load\", page)\n",
        "    layer, page = todo_lst[0]\n",
        "    continue\n",
        "\n",
        "  for link in wiki.links:\n",
        "    link = link.title()\n",
        "    if link is not link.startswith(\"List Of\"):\n",
        "      if link not in todo_set and link not in done_set:\n",
        "        todo_lst.append((layer + 1, link))\n",
        "        todo_set.add(link)\n",
        "      og.add_edge(page, link)\n",
        "  layer, page = todo_lst[0]"
      ],
      "metadata": {
        "id": "zhhcRUr3tCGx"
      },
      "execution_count": null,
      "outputs": []
    },
    {
      "cell_type": "code",
      "source": [
        "print(\"{} nodes, {} edges\".format(len(og), nx.number_of_edges(og)))"
      ],
      "metadata": {
        "colab": {
          "base_uri": "https://localhost:8080/"
        },
        "id": "YNCr6Ysy0qEy",
        "outputId": "9360d628-48b6-41b9-a869-418bd2046a55"
      },
      "execution_count": 29,
      "outputs": [
        {
          "output_type": "stream",
          "name": "stdout",
          "text": [
            "243577 nodes, 822198 edges\n"
          ]
        }
      ]
    },
    {
      "cell_type": "markdown",
      "source": [
        "#### 1.2.1 Pré-processamento dos dados"
      ],
      "metadata": {
        "id": "b-2CZpEttOkc"
      }
    },
    {
      "cell_type": "code",
      "source": [
        "# Fazendo uma cópia do grafo bruto\n",
        "original = og.copy()"
      ],
      "metadata": {
        "id": "jcsomX7h0lu8"
      },
      "execution_count": 30,
      "outputs": []
    },
    {
      "cell_type": "code",
      "source": [
        "# remove self loops\n",
        "og.remove_edges_from(nx.selfloop_edges(og))\n",
        "\n",
        "# identify duplicates like that: 'network' and 'networks'\n",
        "duplicates = [(node, node + \"s\")\n",
        "              for node in og if node + \"s\" in og\n",
        "             ]\n",
        "\n",
        "for dup in duplicates:\n",
        "  # *dup is a technique named 'unpacking'\n",
        "  g = nx.contracted_nodes(og, *dup, self_loops=False)\n",
        "\n",
        "print(duplicates)\n",
        "\n",
        "duplicates = [(x, y) for x, y in\n",
        "              [(node, node.replace(\"-\", \" \")) for node in og]\n",
        "                if x != y and y in og]\n",
        "print(duplicates)\n",
        "\n",
        "for dup in duplicates:\n",
        "  og = nx.contracted_nodes(og, *dup, self_loops=False)\n",
        "\n",
        "# nx.contracted creates a new node/edge attribute called contraction\n",
        "# the value of the attribute is a dictionary, but GraphML\n",
        "# does not support dictionary attributes\n",
        "nx.set_node_attributes(og, 0,\"contraction\")\n",
        "nx.set_edge_attributes(og, 0,\"contraction\")"
      ],
      "metadata": {
        "colab": {
          "base_uri": "https://localhost:8080/"
        },
        "id": "wbbWKL2Q0nZX",
        "outputId": "9d2dbbc5-7024-46f0-f002-386bd983eeeb"
      },
      "execution_count": 31,
      "outputs": [
        {
          "output_type": "stream",
          "name": "stdout",
          "text": [
            "[('City-State', 'City-States'), ('Court Of Arbitration For Sport', 'Court Of Arbitration For Sports'), ('Demonstration Sport', 'Demonstration Sports'), ('Doping In Sport', 'Doping In Sports'), ('Gold Medal', 'Gold Medals'), ('Multi-Sport Event', 'Multi-Sport Events'), ('National Olympic Committee', 'National Olympic Committees'), ('National Anthem', 'National Anthems'), ('Olive Wreath', 'Olive Wreaths'), ('Olympiad', 'Olympiads'), ('Olympic Medal', 'Olympic Medals'), ('Silver Medal', 'Silver Medals'), ('Spartakiad', 'Spartakiads'), ('Sport', 'Sports'), ('Team Sport', 'Team Sports'), ('World War', 'World Wars'), ('Multiday Race', 'Multiday Races'), ('Relay Race', 'Relay Races'), ('World Record', 'World Records'), ('Batting Glove', 'Batting Gloves'), ('Inning', 'Innings'), ('Shin Guard', 'Shin Guards'), ('Ralph Hill', 'Ralph Hills'), ('United States Dollar', 'United States Dollars'), ('Commonwealth Games Association', 'Commonwealth Games Associations'), ('Nazi', 'Nazis'), ('Satellite State', 'Satellite States'), ('National Paralympic Committee', 'National Paralympic Committees'), ('Athlete', 'Athletes'), ('Elana Meyer', 'Elana Meyers'), ('Mascot', 'Mascots'), ('Paralympic', 'Paralympics'), ('Ring Road', 'Ring Roads'), ('Bandy World Championship', 'Bandy World Championships'), ('Cherry Blossom', 'Cherry Blossoms'), ('Figure Skater', 'Figure Skaters'), ('Olympic Record', 'Olympic Records'), ('Chinese Character', 'Chinese Characters'), ('Department Store', 'Department Stores'), ('Indigenous People', 'Indigenous Peoples'), ('Caucasian War', 'Caucasian Wars'), ('Human Rights Abuse', 'Human Rights Abuses'), ('Moscow Time', 'Moscow Times'), ('Unmanned Aerial Vehicle', 'Unmanned Aerial Vehicles'), ('Newspaper', 'Newspapers'), ('Unitary Police Service', 'Unitary Police Services'), ('Continent', 'Continents'), ('Roller Sport', 'Roller Sports'), ('Home Nation', 'Home Nations'), ('Land Mine', 'Land Mines'), ('Paralympic Symbol', 'Paralympic Symbols'), ('Cosmonaut', 'Cosmonauts'), ('Cossack', 'Cossacks'), ('Firework', 'Fireworks'), ('Television Station', 'Television Stations'), ('Extrajudicial Killing', 'Extrajudicial Killings'), ('Molotov Cocktail', 'Molotov Cocktails'), ('Ball Sport', 'Ball Sports'), ('Contact Sport', 'Contact Sports'), ('Federated State', 'Federated States'), ('Governorate', 'Governorates'), ('Great Power', 'Great Powers'), ('Hybrid Regime', 'Hybrid Regimes'), ('Indian Reservation', 'Indian Reservations'), ('Nation State', 'Nation States'), ('Protectorate', 'Protectorates'), ('Puppet State', 'Puppet States'), ('Superpower', 'Superpowers'), ('Tehsil', 'Tehsils'), ('Warlord', 'Warlords'), ('Afghan Rug', 'Afghan Rugs'), ('Arab', 'Arabs'), ('Auto Rickshaw', 'Auto Rickshaws'), ('Ethnic Group', 'Ethnic Groups'), ('Hindu Shahi', 'Hindu Shahis'), ('Horse', 'Horses'), ('Kidarite', 'Kidarites'), ('Mammal', 'Mammals'), ('Monsoon', 'Monsoons'), ('Mosque', 'Mosques'), ('Muslim', 'Muslims'), ('Non-Denominational Muslim', 'Non-Denominational Muslims'), ('Official Language', 'Official Languages'), ('Pashtun', 'Pashtuns'), ('Safavid', 'Safavids'), ('Scythian', 'Scythians'), ('Snow Leopard', 'Snow Leopards'), ('Steppe', 'Steppes'), ('Syncretism', 'Syncretisms'), ('Telecommunication', 'Telecommunications'), ('Turk Shahi', 'Turk Shahis'), ('Unesco World Heritage Site', 'Unesco World Heritage Sites'), ('World Heritage Site', 'World Heritage Sites'), ('Zoroastrian', 'Zoroastrians'), ('Amphibian', 'Amphibians'), ('Asian American', 'Asian Americans'), ('Competition', 'Competitions'), ('European American', 'European Americans'), ('High School', 'High Schools'), ('Individual Sport', 'Individual Sports'), ('Natural Resource', 'Natural Resources'), ('Television Network', 'Television Networks'), ('United States District Court', 'United States District Courts'), ('Airsoft Gun', 'Airsoft Guns'), ('Airsoft Pellet', 'Airsoft Pellets'), ('Goggle', 'Goggles'), ('Military Tactic', 'Military Tactics'), ('Shooting Sport', 'Shooting Sports'), ('Wax Bullet', 'Wax Bullets'), ('Kosovo Albanian', 'Kosovo Albanians'), ('Ice Rink', 'Ice Rinks'), ('Public Broadcasting Service', 'Public Broadcasting Services'), ('World Championship', 'World Championships'), ('Medal', 'Medals'), ('Sociology Of Sport', 'Sociology Of Sports'), ('Ball Game', 'Ball Games'), ('Bowl Game', 'Bowl Games'), ('Mouthguard', 'Mouthguards'), ('Olympic Sport', 'Olympic Sports'), ('Agnostic', 'Agnostics'), ('Arawak', 'Arawaks'), ('Aztec', 'Aztecs'), ('Catholic', 'Catholics'), ('Creole Language', 'Creole Languages'), ('Mestizo', 'Mestizos'), ('Nahuatl Language', 'Nahuatl Languages'), ('Ocean', 'Oceans'), ('Olmec', 'Olmecs'), ('Paleo-Indian', 'Paleo-Indians'), ('Pentecostal', 'Pentecostals'), ('Protestant', 'Protestants'), ('Action Potential', 'Action Potentials'), ('Amino Acid', 'Amino Acids'), ('Anabolic Steroid', 'Anabolic Steroids'), ('Antidepressant', 'Antidepressants'), ('Antipsychotic', 'Antipsychotics'), ('Cardiovascular Disease', 'Cardiovascular Diseases'), ('Medium Spiny Neuron', 'Medium Spiny Neurons'), ('Neurotransmitter', 'Neurotransmitters'), ('Neurotransmitter System', 'Neurotransmitter Systems'), ('Nightclub', 'Nightclubs'), ('Opiate', 'Opiates'), ('Pharmacokinetic', 'Pharmacokinetics'), ('Pub', 'Pubs'), ('Randomized Controlled Trial', 'Randomized Controlled Trials'), ('Stimulant', 'Stimulants'), ('Substituted Amphetamine', 'Substituted Amphetamines'), ('Sympathomimetic', 'Sympathomimetics'), ('Tic', 'Tics'), ('Disabled Sport', 'Disabled Sports'), ('Football Boot', 'Football Boots'), (\"Supporters' Group\", \"Supporters' Groups\"), ('Throw-In', 'Throw-Ins'), ('Ancient Greek', 'Ancient Greeks'), ('Architectural Style', 'Architectural Styles'), ('Huguenot', 'Huguenots'), ('Logo', 'Logos'), ('Marseille', 'Marseilles'), ('Refugee', 'Refugees'), ('Slave Ship', 'Slave Ships'), ('Aegean Civilization', 'Aegean Civilizations'), ('Attalid', 'Attalids'), ('Gaul', 'Gauls'), ('Helot', 'Helots'), ('Locri', 'Locris'), ('Physician', 'Physicians'), ('Noun', 'Nouns'), ('Pontic Greek', 'Pontic Greeks'), ('Antisemitic Canard', 'Antisemitic Canards'), ('Black Hebrew Israelite', 'Black Hebrew Israelites'), ('Jew', 'Jews'), ('Lutheran', 'Lutherans'), ('Nationalist', 'Nationalists'), ('Roman Catholic', 'Roman Catholics'), ('Slánský Trial', 'Slánský Trials'), ('Cruise Ship', 'Cruise Ships'), ('Diamond', 'Diamonds'), ('Premonstratensian', 'Premonstratensians'), ('African American', 'African Americans'), ('International Federation', 'International Federations'), ('Afrikaner', 'Afrikaners'), ('Casta', 'Castas'), ('Chinese South African', 'Chinese South Africans'), ('Honorary White', 'Honorary Whites'), ('Indian South African', 'Indian South Africans'), ('Nation-State', 'Nation-States'), ('Second-Class Citizen', 'Second-Class Citizens'), ('Shanty Town', 'Shanty Towns'), ('Social Movement', 'Social Movements'), ('White South African', 'White South Africans'), ('E-Print', 'E-Prints'), ('Postprint', 'Postprints'), ('Preprint', 'Preprints'), ('Australian Defence Force', 'Australian Defence Forces'), ('Bronze Medal', 'Bronze Medals'), ('Afro-Cuban', 'Afro-Cubans'), ('Animal', 'Animals'), ('Birth Rate', 'Birth Rates'), ('Chinese Cuban', 'Chinese Cubans'), ('Conquistador', 'Conquistadors'), ('Cuban Exile', 'Cuban Exiles'), ('Cuban Peso', 'Cuban Pesos'), ('Evangelical Protestant', 'Evangelical Protestants'), ('Fertility Rate', 'Fertility Rates'), ('Filipino Cuban', 'Filipino Cubans'), ('Isleño', 'Isleños'), ('Japanese Cuban', 'Japanese Cubans'), ('Plant', 'Plants'), ('Slum', 'Slums'), ('Socialist', 'Socialists'), ('Socialist Republic', 'Socialist Republics'), ('Taino', 'Tainos'), ('Taíno', 'Taínos'), ('White Latin American', 'White Latin Americans'), ('America', 'Americas'), ('Exit Poll', 'Exit Polls'), (\"Fifa Women'S World Ranking\", \"Fifa Women'S World Rankings\"), ('Greek City-State', 'Greek City-States'), ('Heat Wave', 'Heat Waves'), ('National Park', 'National Parks'), ('Espy Award', 'Espy Awards'), ('Mark Rowland', 'Mark Rowlands'), ('French Colonial Empire', 'French Colonial Empires'), ('Marginal Sea', 'Marginal Seas'), ('Ocean Current', 'Ocean Currents'), ('Sedimentary Rock', 'Sedimentary Rocks'), ('Tide', 'Tides'), ('Anglo-Celtic Australian', 'Anglo-Celtic Australians'), ('Chinese Australian', 'Chinese Australians'), ('Commonwealth Realm', 'Commonwealth Realms'), ('Dutch Australian', 'Dutch Australians'), ('English Australian', 'English Australians'), ('European Australian', 'European Australians'), ('Filipino Australian', 'Filipino Australians'), ('Free Trade Agreement', 'Free Trade Agreements'), ('German Australian', 'German Australians'), ('Greek Australian', 'Greek Australians'), ('Indian Australian', 'Indian Australians'), ('Irish Australian', 'Irish Australians'), ('Italian Australian', 'Italian Australians'), ('Lamington', 'Lamingtons'), ('Lebanese Australian', 'Lebanese Australians'), ('Plenary Power', 'Plenary Powers'), ('Scottish Australian', 'Scottish Australians'), ('Vietnamese Australian', 'Vietnamese Australians'), ('Wetland', 'Wetlands'), ('Hybrid Sport', 'Hybrid Sports'), ('Plebeian', 'Plebeians'), ('Vestal Virgin', 'Vestal Virgins'), ('Motorsport', 'Motorsports'), ('Coral Reef', 'Coral Reefs'), ('Paramedic', 'Paramedics'), ('Textile', 'Textiles'), ('Racquet Sport', 'Racquet Sports'), ('Pharmaceutical', 'Pharmaceuticals'), ('Himalaya', 'Himalayas'), ('Wheelchair', 'Wheelchairs'), ('Free Agent', 'Free Agents'), ('Pitcher', 'Pitchers'), ('Fiba World Ranking', 'Fiba World Rankings'), ('Trampoline', 'Trampolines'), ('Balkan', 'Balkans'), ('European Beach Volleyball Championship', 'European Beach Volleyball Championships'), ('Winter Sport', 'Winter Sports'), ('Chinese Garden', 'Chinese Gardens'), ('Fossil Fuel', 'Fossil Fuels'), ('Franciscan', 'Franciscans'), ('Mongol', 'Mongols'), ('Cognate', 'Cognates'), ('Dialect', 'Dialects'), ('Immigrant', 'Immigrants'), ('Romance Language', 'Romance Languages'), ('Babelsberg Studio', 'Babelsberg Studios'), ('Baptist', 'Baptists'), ('Bicycle Lane', 'Bicycle Lanes'), ('Concentration Camp', 'Concentration Camps'), ('Expatriate', 'Expatriates'), ('Operetta', 'Operettas'), ('Black Bermudian', 'Black Bermudians'), ('Boer', 'Boers'), ('Cavalier', 'Cavaliers'), ('Mangrove', 'Mangroves'), ('Privateer', 'Privateers'), ('White Bermudian', 'White Bermudians'), ('Monty Hall', 'Monty Halls'), ('Referee', 'Referees'), ('Jesuit', 'Jesuits'), ('Lacrosse Glove', 'Lacrosse Gloves'), ('Asian Brazilian', 'Asian Brazilians'), ('Banana', 'Bananas'), ('Demographic', 'Demographics'), ('Economic', 'Economics'), ('Elementary School', 'Elementary Schools'), ('Emerald', 'Emeralds'), ('Forest', 'Forests'), ('Japanese Brazilian', 'Japanese Brazilians'), ('Pardo Brazilian', 'Pardo Brazilians'), ('Soap Opera', 'Soap Operas'), ('White Brazilian', 'White Brazilians'), ('Buttress Root', 'Buttress Roots'), ('Port', 'Ports'), ('Roma Street Parkland', 'Roma Street Parklands'), ('Shopping Mall', 'Shopping Malls'), ('Terrace House', 'Terrace Houses'), ('Broom', 'Brooms'), ('Bat-And-Ball Game', 'Bat-And-Ball Games'), ('Nsaid', 'Nsaids'), ('Timeline Of Covid-19 Pandemic', 'Timeline Of Covid-19 Pandemics'), ('Cartographer', 'Cartographers'), ('Latin American', 'Latin Americans'), ('Timeline Of Calgary', 'Timeline Of Calgarys'), ('Amputation', 'Amputations'), ('Austroasiatic Language', 'Austroasiatic Languages'), ('Chinese Cambodian', 'Chinese Cambodians'), ('Chinese Dragon', 'Chinese Dragons'), ('Executive Power', 'Executive Powers'), ('Hindu', 'Hindus'), ('Scallion', 'Scallions'), ('Sultan', 'Sultans'), ('Vietnamese Cambodian', 'Vietnamese Cambodians'), ('County Team', 'County Teams'), ('Ulster Scots Dialect', 'Ulster Scots Dialects'), ('Icf Canoe Marathon World Championship', 'Icf Canoe Marathon World Championships'), ('Roundhead', 'Roundheads'), ('Gymnastic', 'Gymnastics'), ('Indian Martial Art', 'Indian Martial Arts'), ('Martial Art', 'Martial Arts'), ('Playing Card', 'Playing Cards'), ('Traditional Game', 'Traditional Games'), ('Exurb', 'Exurbs'), ('Ghost Town', 'Ghost Towns'), ('Pope', 'Popes'), ('Suburb', 'Suburbs'), ('Ur', 'Urs'), ('Celt', 'Celts'), ('Additive Color', 'Additive Colors'), ('Blue', 'Blues'), ('Primary Color', 'Primary Colors'), ('Imperial Unit', 'Imperial Units'), ('Dalla', 'Dallas'), ('Junker', 'Junkers'), ('Luxury Good', 'Luxury Goods'), ('Tithe', 'Tithes'), ('Megaproject', 'Megaprojects'), ('Puritan', 'Puritans'), ('Pulitzer Prize', 'Pulitzer Prizes'), ('Bribe', 'Bribes'), ('Half-Truth', 'Half-Truths'), ('China Time', 'China Times'), ('Afro-Curaçaoan', 'Afro-Curaçaoans'), ('Evangelical', 'Evangelicals'), ('Trade Wind', 'Trade Winds'), (\"Players' Championship\", \"Players' Championships\"), ('Crusade', 'Crusades'), ('National Flag', 'National Flags'), ('Honorary Degree', 'Honorary Degrees'), ('Socratic Dialogue', 'Socratic Dialogues'), ('Metadata Standard', 'Metadata Standards'), ('Islamist', 'Islamists'), ('Political Faction', 'Political Factions'), ('Benedictine', 'Benedictines'), ('Cloister', 'Cloisters'), ('Mendicant Order', 'Mendicant Orders'), ('Amphetamine', 'Amphetamines'), ('Russian Oligarch', 'Russian Oligarchs'), ('Soigneur', 'Soigneurs'), ('Amateur Sport', 'Amateur Sports'), ('College Sport', 'College Sports'), ('Combat Sport', 'Combat Sports'), ('Equestrian Sport', 'Equestrian Sports'), ('Mind Sport', 'Mind Sports'), ('Professional Sport', 'Professional Sports'), ('Tradition', 'Traditions'), ('Video Game', 'Video Games'), ('Political Prisoner', 'Political Prisoners'), ('Berber Language', 'Berber Languages'), ('Copt', 'Copts'), ('Mamluk', 'Mamluks'), ('Ngo', 'Ngos'), ('Turkic People', 'Turkic Peoples'), ('Summer Olympic', 'Summer Olympics'), ('Bolshevik', 'Bolsheviks'), ('Manchu', 'Manchus'), ('Motor Sport', 'Motor Sports'), ('Virtue', 'Virtues'), ('Communist', 'Communists'), ('Crustacean', 'Crustaceans'), ('Homeric Hymn', 'Homeric Hymns'), ('Latitude', 'Latitudes'), ('National Symbol', 'National Symbols'), ('Olive', 'Olives'), ('Plantation', 'Plantations'), ('Semitic Language', 'Semitic Languages'), ('Temperate Broadleaf And Mixed Forest', 'Temperate Broadleaf And Mixed Forests'), ('Viking', 'Vikings'), ('Klepht', 'Klephts'), ('Electric Car', 'Electric Cars'), ('Matryoshka Doll', 'Matryoshka Dolls'), ('Heinrich Peter', 'Heinrich Peters'), ('Figure Skate', 'Figure Skates'), ('Coastal Plain', 'Coastal Plains'), ('Headland', 'Headlands'), ('Islet', 'Islets'), ('Mudflat', 'Mudflats'), ('Blood', 'Bloods'), ('Museum', 'Museums'), ('Hand', 'Hands'), ('French Wine', 'French Wines'), ('International Organization', 'International Organizations'), ('Middle Age', 'Middle Ages'), ('Nuclear Power Plant', 'Nuclear Power Plants'), ('Fédéré', 'Fédérés'), ('Jacobin', 'Jacobins'), ('Nun', 'Nuns'), ('Sans-Culotte', 'Sans-Culottes'), ('Émigré', 'Émigrés'), ('Video Game Genre', 'Video Game Genres'), ('Georgian Railway', 'Georgian Railways'), ('Menshevik', 'Mensheviks'), ('Meskhetian Turk', 'Meskhetian Turks'), ('Union Republic', 'Union Republics'), ('German American', 'German Americans'), ('Hun', 'Huns'), ('Death Rate', 'Death Rates'), ('Kurdish Language', 'Kurdish Languages'), ('Skyscraper', 'Skyscrapers'), ('Slavic People', 'Slavic Peoples'), ('Solar Panel', 'Solar Panels'), ('Complementary Color', 'Complementary Colors'), ('Leek', 'Leeks'), ('Mineral', 'Minerals'), ('Nymph', 'Nymphs'), ('Extreme Sport', 'Extreme Sports'), ('Christian Denomination', 'Christian Denominations'), ('Tonne', 'Tonnes'), ('May Day', 'May Days'), ('Augean Stable', 'Augean Stables'), ('Omphale', 'Omphales'), ('Roller Skate', 'Roller Skates'), (\"Workers' Council\", \"Workers' Councils\"), ('Scottish Canadian', 'Scottish Canadians'), ('Stalactite', 'Stalactites'), ('Iihf Inline Hockey World Championship', 'Iihf Inline Hockey World Championships'), (\"Iihf World Women'S Championship\", \"Iihf World Women'S Championships\"), (\"Iihf World Women'S U18 Championship\", \"Iihf World Women'S U18 Championships\"), ('World Pond Hockey Championship', 'World Pond Hockey Championships'), ('Fabergé Egg', 'Fabergé Eggs'), (\"2012 Iihf Women'S World Championship\", \"2012 Iihf Women'S World Championships\"), ('Cherokee', 'Cherokees'), ('Indigenous Australian', 'Indigenous Australians'), ('Academy Award', 'Academy Awards'), ('Associate Degree', 'Associate Degrees'), ('Bean', 'Beans'), ('Helicopter', 'Helicopters'), ('Iranian People', 'Iranian Peoples'), ('Semnani Language', 'Semnani Languages'), ('Virtual Private Network', 'Virtual Private Networks'), ('Irish American', 'Irish Americans'), ('Aramean', 'Arameans'), ('Franc', 'Francs'), ('Nuclear Reactor', 'Nuclear Reactors'), ('Manga', 'Mangas'), ('Taika Reform', 'Taika Reforms'), ('Tsunami', 'Tsunamis'), ('Ironwork', 'Ironworks'), ('Wrestling Shoe', 'Wrestling Shoes'), ('Dairy Product', 'Dairy Products'), ('Greek Catholic', 'Greek Catholics'), ('Soccer Ball', 'Soccer Balls'), ('Successor State', 'Successor States'), ('All Black', 'All Blacks'), ('Ghaznavid', 'Ghaznavids'), ('Pakistan International Airline', 'Pakistan International Airlines'), ('Sikh', 'Sikhs'), ('Federal Information Processing Standard', 'Federal Information Processing Standards'), ('National Olympic Committee Of Lao', 'National Olympic Committee Of Laos'), ('Caudillo', 'Caudillos'), ('Inca', 'Incas'), ('Railway', 'Railways'), ('Road', 'Roads'), ('Taco', 'Tacos'), ('Tariff', 'Tariffs'), ('2006 Winter Olympic', '2006 Winter Olympics'), ('Maronite', 'Maronites'), ('Postal Code', 'Postal Codes'), ('Stratego', 'Strategos'), ('Centimetre', 'Centimetres'), ('Blue Plaque', 'Blue Plaques'), ('British Arab', 'British Arabs'), ('British Asian', 'British Asians'), ('Electric Bicycle', 'Electric Bicycles'), (\"Mechanics' Institute\", \"Mechanics' Institutes\"), ('Rolling Stone', 'Rolling Stones'), ('Anglo-Saxon', 'Anglo-Saxons'), ('Applied Science', 'Applied Sciences'), ('Irish Traveller', 'Irish Travellers'), ('London Borough', 'London Boroughs'), ('Social Science', 'Social Sciences'), ('Armenian American', 'Armenian Americans'), ('Burrito', 'Burritos'), ('Californio', 'Californios'), ('Diocese', 'Dioceses'), ('Enchilada', 'Enchiladas'), ('Ethnic Enclave', 'Ethnic Enclaves'), ('Interstate Highway', 'Interstate Highways'), ('Korean American', 'Korean Americans'), ('Major Film Studio', 'Major Film Studios'), ('Metropolitan Statistical Area', 'Metropolitan Statistical Areas'), ('Multiracial American', 'Multiracial Americans'), ('Oil Field', 'Oil Fields'), ('Pacific Islander American', 'Pacific Islander Americans'), ('Taqueria', 'Taquerias'), ('The Broad', 'The Broads'), ('White American', 'White Americans'), ('Hamburger', 'Hamburgers'), ('Hot Dog', 'Hot Dogs'), ('Aedile', 'Aediles'), ('Roman Festival', 'Roman Festivals'), ('Grammy Award', 'Grammy Awards'), ('2008 Summer Olympic', '2008 Summer Olympics'), ('International Student', 'International Students'), ('Traditional Owner', 'Traditional Owners'), ('Arab Mexican', 'Arab Mexicans'), ('Converso', 'Conversos'), ('Fuero', 'Fueros'), ('Afro-Mexican', 'Afro-Mexicans'), ('Chinampa', 'Chinampas'), ('Homosexual', 'Homosexuals'), ('Public Relation', 'Public Relations'), ('Soviet Dissident', 'Soviet Dissidents'), ('Vatican Museum', 'Vatican Museums'), ('English Honorific', 'English Honorifics'), ('2010 Northern Hemisphere Summer Heat Wave', '2010 Northern Hemisphere Summer Heat Waves'), ('Federal Subject', 'Federal Subjects'), ('Proto-Indo-European', 'Proto-Indo-Europeans'), ('Radio Station', 'Radio Stations'), ('Tatar', 'Tatars'), (\"Women'S Sport\", \"Women'S Sports\"), ('Fortification', 'Fortifications'), ('Nazi Concentration Camp', 'Nazi Concentration Camps'), ('Particulate', 'Particulates'), ('Underwater Sport', 'Underwater Sports'), ('Gelao Language', 'Gelao Languages'), ('Hani Language', 'Hani Languages'), ('Yi Language', 'Yi Languages'), ('Zhuang Language', 'Zhuang Languages'), ('Gold Reserve', 'Gold Reserves'), ('Whistleblower', 'Whistleblowers'), ('Asian Netball Championship', 'Asian Netball Championships'), ('Adjective', 'Adjectives'), ('Calvinist', 'Calvinists'), ('Earthquake', 'Earthquakes'), ('Fief', 'Fiefs'), ('Chess Olympiad', 'Chess Olympiads'), ('Chatham Island', 'Chatham Islands'), ('Pacific Island', 'Pacific Islands'), ('Plate Tectonic', 'Plate Tectonics'), ('Ski', 'Skis'), ('Ski Binding', 'Ski Bindings'), ('Ski Pole', 'Ski Poles'), ('Ski Resort', 'Ski Resorts'), ('Crab', 'Crabs'), ('Ecosystem Service', 'Ecosystem Services'), ('Hydrothermal Vent', 'Hydrothermal Vents'), ('Marine Habitat', 'Marine Habitats'), ('Marine Microorganism', 'Marine Microorganisms'), ('Sediment', 'Sediments'), ('Whale', 'Whales'), ('Quaker', 'Quakers'), ('Marcher Lord', 'Marcher Lords'), ('Dhimmi', 'Dhimmis'), ('Paper Mill', 'Paper Mills'), ('Timariot', 'Timariots'), ('Vilayet', 'Vilayets'), ('Arcade Game', 'Arcade Games'), ('European Olympic Committee', 'European Olympic Committees'), ('Luxembourg Garden', 'Luxembourg Gardens'), ('Cyrenaic', 'Cyrenaics'), ('Dialectic', 'Dialectics'), ('Platonic Solid', 'Platonic Solids'), ('Thracian', 'Thracians'), ('Mexican State', 'Mexican States'), ('Pallbearer', 'Pallbearers'), ('Statistic', 'Statistics'), ('U.S. Pond Hockey Championship', 'U.S. Pond Hockey Championships'), ('Fractal', 'Fractals'), ('Probability Distribution', 'Probability Distributions'), ('Solar Flare', 'Solar Flares'), ('Private School', 'Private Schools'), ('Dinoflagellate', 'Dinoflagellates'), ('Fundamental Right', 'Fundamental Rights'), ('Herb', 'Herbs'), ('Highway', 'Highways'), ('Hurricane', 'Hurricanes'), ('United States Territorial Court', 'United States Territorial Courts'), ('Coloured', 'Coloureds'), ('Shtetl', 'Shtetls'), ('Ioc Country Code', 'Ioc Country Codes'), ('Imperial Examination', 'Imperial Examinations'), ('Pratas Island', 'Pratas Islands'), (\"Aesop'S Fable\", \"Aesop'S Fables\"), ('Embona', 'Embonas'), ('Commonwealth Rhythmic Gymnastics Championship', 'Commonwealth Rhythmic Gymnastics Championships'), ('Ice Skate', 'Ice Skates'), ('Winter Olympic', 'Winter Olympics'), ('Afro-Brazilian', 'Afro-Brazilians'), ('Carioca', 'Cariocas'), ('Favela', 'Favelas'), ('Elbow Pad', 'Elbow Pads'), ('Ethic', 'Ethics'), ('Knee Pad', 'Knee Pads'), ('Castle', 'Castles'), ('Room', 'Rooms'), ('Double Scull', 'Double Sculls'), ('Quadruple Scull', 'Quadruple Sculls'), ('Archaic Human', 'Archaic Humans'), ('Byzantine Greek', 'Byzantine Greeks'), ('Denisovan', 'Denisovans'), ('Marina', 'Marinas'), ('Swimfin', 'Swimfins'), ('Senior Sport', 'Senior Sports'), ('Austronesian People', 'Austronesian Peoples'), ('Indigenous Religion', 'Indigenous Religions'), ('Theories About Religion', 'Theories About Religions'), ('Vestment', 'Vestments'), ('1998 United States Embassy Bombing', '1998 United States Embassy Bombings'), ('Italian American', 'Italian Americans'), ('Cúchulainn', 'Cúchulainns'), ('Cambrian Heritage Railway', 'Cambrian Heritage Railways'), ('Celtic People', 'Celtic Peoples'), ('Traditional Chinese Character', 'Traditional Chinese Characters'), ('Amerindian', 'Amerindians'), ('Dolmen', 'Dolmens'), ('T10 League', 'T10 Leagues'), ('Cimmerian', 'Cimmerians'), ('Sarmatian', 'Sarmatians'), ('Tennis Player', 'Tennis Players'), ('Consulate', 'Consulates'), ('Serb', 'Serbs'), ('Airport', 'Airports'), ('Llama', 'Llamas'), ('Marrano', 'Marranos'), ('Quechua Language', 'Quechua Languages'), ('Uncontacted People', 'Uncontacted Peoples'), ('Waterway', 'Waterways'), ('Soviet Air Force', 'Soviet Air Forces'), ('Czechoslovak Legion', 'Czechoslovak Legions'), ('Performance-Enhancing Drug', 'Performance-Enhancing Drugs'), ('4-Hydroxycoumarin', '4-Hydroxycoumarins'), ('Convulsion', 'Convulsions'), ('Pesticide', 'Pesticides'), ('Buffalo Bill', 'Buffalo Bills'), ('Suffragette', 'Suffragettes'), ('Lur', 'Lurs'), ('Natural Science', 'Natural Sciences'), ('Nuclear Bomb', 'Nuclear Bombs'), ('Guardian Student Media Award', 'Guardian Student Media Awards'), ('Doctor Of Law', 'Doctor Of Laws'), ('British Ensign', 'British Ensigns'), ('Maritime Flag', 'Maritime Flags'), ('St Andrew', 'St Andrews'), ('Conifer', 'Conifers'), ('Narcotic', 'Narcotics'), ('Timeline Of Vancouver', 'Timeline Of Vancouvers'), ('Anger', 'Angers'), ('American Expeditionary Force', 'American Expeditionary Forces'), ('Student Newspaper', 'Student Newspapers'), ('Water Sport', 'Water Sports'), ('Wheelchair Sport', 'Wheelchair Sports'), ('Mennonite', 'Mennonites'), ('Native American Religion', 'Native American Religions'), ('Rail Yard', 'Rail Yards'), ('Combative', 'Combatives'), ('Hydrophone', 'Hydrophones'), ('Dragon', 'Dragons')]\n",
            "[('Interfax-Ukraine', 'Interfax Ukraine'), ('Three-Sided Football', 'Three Sided Football'), ('City-States', 'City States'), ('Free-Trade Zone', 'Free Trade Zone'), ('Al-Qaeda', 'Al Qaeda'), ('Gilgit-Baltistan', 'Gilgit Baltistan'), ('African-American Culture', 'African American Culture'), ('Commander-In-Chief', 'Commander In Chief'), ('Lend-Lease', 'Lend Lease'), ('Lèse-Majesté', 'Lèse Majesté'), ('Short-Track Speed Skating At The 1988 Winter Olympics', 'Short Track Speed Skating At The 1988 Winter Olympics'), ('Short-Track Speed Skating At The 2003 Asian Winter Games', 'Short Track Speed Skating At The 2003 Asian Winter Games'), ('Baden-Württemberg', 'Baden Württemberg'), ('Fehaid Al-Deehani', 'Fehaid Al Deehani'), ('Francisco Fernández-Ochoa', 'Francisco Fernández Ochoa'), ('Cesana-San Sicario', 'Cesana San Sicario'), ('Anglo-America', 'Anglo America'), ('Camp Response Element-Binding Protein', 'Camp Response Element Binding Protein'), ('Amsterdam-Zuidoost', 'Amsterdam Zuidoost'), ('Champs-Élysées', 'Champs Élysées'), ('Intercity-Express', 'Intercity Express'), ('Red-Light District', 'Red Light District'), ('One-Drop Rule', 'One Drop Rule'), ('Witch-Hunt', 'Witch Hunt'), ('Brussels-Capital Region', 'Brussels Capital Region'), ('Coloured-Vote Constitutional Crisis', 'Coloured Vote Constitutional Crisis'), ('Nation-State', 'Nation State'), ('South-West Africa', 'South West Africa'), ('Ten-Pin Bowling', 'Ten Pin Bowling'), ('Chen Szu-Yuan', 'Chen Szu Yuan'), ('Im Dong-Hyun', 'Im Dong Hyun'), ('Park Kyung-Mo', 'Park Kyung Mo'), ('Afro-Cuban', 'Afro Cuban'), ('All-Weather Track', 'All Weather Track'), ('Half-Marathon', 'Half Marathon'), ('Cross-Country Skiing', 'Cross Country Skiing'), ('The Courier-Mail', 'The Courier Mail'), ('German-American Bund', 'German American Bund'), ('Pan-American Games', 'Pan American Games'), ('Parc De Mon-Repos', 'Parc De Mon Repos'), ('Ultra-High-Definition Television', 'Ultra High Definition Television'), ('Cheng Wen-Hsing', 'Cheng Wen Hsing'), ('Al-Ahram', 'Al Ahram'), ('Munzir Ibn-Sawa Al-Tamimi', 'Munzir Ibn Sawa Al Tamimi'), ('Umm An-Nasan', 'Umm An Nasan'), ('Bokbunja-Ju', 'Bokbunja Ju'), ('Tee-Ball', 'Tee Ball'), ('Atya-Patya', 'Atya Patya'), ('Bat-And-Trap', 'Bat And Trap'), ('Kho-Kho', 'Kho Kho'), ('Limited-Overs Cricket', 'Limited Overs Cricket'), ('List-A Cricket', 'List A Cricket'), ('Single-Elimination', 'Single Elimination'), ('Bicycle-Sharing System', 'Bicycle Sharing System'), ('Île-De-France', 'Île De France'), ('Ann-Elen Skjelbreid', 'Ann Elen Skjelbreid'), ('Brazilian Jiu-Jitsu', 'Brazilian Jiu Jitsu'), ('Life-Saving', 'Life Saving'), ('Société Radio-Canada', 'Société Radio Canada'), ('Cross-Country Skiing At The Olympics', 'Cross Country Skiing At The Olympics'), ('Drop-Kick', 'Drop Kick'), ('Paddle-To-The-Sea', 'Paddle To The Sea'), ('Laurence Vincent-Lapointe', 'Laurence Vincent Lapointe'), ('San Diego Union-Tribune', 'San Diego Union Tribune'), ('Stow-On-The-Wold', 'Stow On The Wold'), ('Eight-Ball', 'Eight Ball'), ('Lee Wai-Sze', 'Lee Wai Sze'), ('Chess-Boxing', 'Chess Boxing'), ('Para-Athletics', 'Para Athletics'), ('Centre Pierre-Charbonneau', 'Centre Pierre Charbonneau'), ('Goal-Line Technology', 'Goal Line Technology'), ('Gestoras Pro-Amnistía', 'Gestoras Pro Amnistía'), ('Sharm El-Sheikh', 'Sharm El Sheikh'), ('Leslie Burr-Howard', 'Leslie Burr Howard'), ('Khaled Al-Eid', 'Khaled Al Eid'), ('Show-Jumping', 'Show Jumping'), ('Peer-Review', 'Peer Review'), ('Free-Market', 'Free Market'), ('Student-Athlete', 'Student Athlete'), ('Giancarlo Cornaggia-Medici', 'Giancarlo Cornaggia Medici'), ('Jean-Claude Magnan', 'Jean Claude Magnan'), ('Francesca Bortolozzi-Borella', 'Francesca Bortolozzi Borella'), ('Cheung Ka-Long', 'Cheung Ka Long'), ('Barbara Fusar-Poli', 'Barbara Fusar Poli'), ('Anne Hardy-Thomas', 'Anne Hardy Thomas'), ('Robert Brough-Smyth', 'Robert Brough Smyth'), ('Sparta-Stadion Het Kasteel', 'Sparta Stadion Het Kasteel'), ('Mok Chun-Wah', 'Mok Chun Wah'), ('The Hunchback Of Notre-Dame', 'The Hunchback Of Notre Dame'), ('Jean-Sylvain Bailly', 'Jean Sylvain Bailly'), ('Pierre-Joseph Cambon', 'Pierre Joseph Cambon'), ('Anja Fichtel-Mauritz', 'Anja Fichtel Mauritz'), ('Gian-Franco Kasper', 'Gian Franco Kasper'), ('Estates-General Of 1789', 'Estates General Of 1789'), ('Puy-De-Dôme', 'Puy De Dôme'), ('Pyrénées-Atlantiques', 'Pyrénées Atlantiques'), ('Université Grenoble-Alpes', 'Université Grenoble Alpes'), (\"Val-D'Oise\", \"Val D'Oise\"), ('Ilta-Sanomat', 'Ilta Sanomat'), ('One-Party Rule In Seychelles', 'One Party Rule In Seychelles'), ('Ping-Pong Diplomacy', 'Ping Pong Diplomacy'), ('Long-Track Speed Skating', 'Long Track Speed Skating'), ('Short-Track Speed Skating', 'Short Track Speed Skating'), ('Short-Handed', 'Short Handed'), ('Gilli-Danda', 'Gilli Danda'), ('Ski-Jumping', 'Ski Jumping'), ('Bandar-Abbas', 'Bandar Abbas'), ('Foreign-Exchange Reserves', 'Foreign Exchange Reserves'), ('Irish-Language', 'Irish Language'), ('Keepie-Uppie', 'Keepie Uppie'), ('Mcgraw-Hill', 'Mcgraw Hill'), ('African-American', 'African American'), ('Eye-Gouging', 'Eye Gouging'), ('Courier-News', 'Courier News'), ('Charles-Ferdinand Ramuz', 'Charles Ferdinand Ramuz'), ('Francie Larrieu-Smith', 'Francie Larrieu Smith'), ('Kingston-Upon-Hull', 'Kingston Upon Hull'), ('Short-Track Speed Skating At The 1992 Winter Olympics', 'Short Track Speed Skating At The 1992 Winter Olympics'), ('Short-Track Speed Skating At The 1994 Winter Olympics', 'Short Track Speed Skating At The 1994 Winter Olympics'), ('Short-Track Speed Skating At The 1998 Winter Olympics', 'Short Track Speed Skating At The 1998 Winter Olympics'), ('Ping-Pong', 'Ping Pong'), ('Tug-Of-War International Federation', 'Tug Of War International Federation'), ('Tug-Of-War', 'Tug Of War'), ('50-Yard Dash', '50 Yard Dash'), ('60-Yard Dash', '60 Yard Dash'), ('Jearl Miles-Clark', 'Jearl Miles Clark'), ('Meeting Hauts-De-France Pas-De-Calais', 'Meeting Hauts De France Pas De Calais'), ('Stade Louis-Ii', 'Stade Louis Ii'), ('Middle-East', 'Middle East'), ('Cross-Country Running', 'Cross Country Running'), ('Korean-Language', 'Korean Language'), ('Mexican-American War', 'Mexican American War'), ('Los Angeles Herald-Examiner', 'Los Angeles Herald Examiner'), ('Middle-Distance Runner', 'Middle Distance Runner'), ('List Of Heritage-Listed Buildings In Melbourne', 'List Of Heritage Listed Buildings In Melbourne'), ('Free-Trade Agreement', 'Free Trade Agreement'), ('Publicly-Funded Health Care', 'Publicly Funded Health Care'), ('Mont-Royal', 'Mont Royal'), ('List Of Nhl Players With 50-Goal Seasons', 'List Of Nhl Players With 50 Goal Seasons'), ('Track-And-Field', 'Track And Field'), ('Free-Trade', 'Free Trade'), ('High-Income Economy', 'High Income Economy'), ('Half-Mast', 'Half Mast'), ('Jason Lamy-Chappuis', 'Jason Lamy Chappuis'), ('Deep-Sea', 'Deep Sea'), ('Flor Isava-Fonseca', 'Flor Isava Fonseca'), ('Prime-Time', 'Prime Time'), ('Réseau Info-Sports', 'Réseau Info Sports'), ('Two-State Solution', 'Two State Solution'), ('Comédie-Française', 'Comédie Française'), ('Notre-Dame De Paris', 'Notre Dame De Paris'), ('Parc André-Citroën', 'Parc André Citroën'), ('Parc Des Buttes-Chaumont', 'Parc Des Buttes Chaumont'), ('Scottish-Canadian', 'Scottish Canadian'), ('Value-Added Tax', 'Value Added Tax'), ('List Of Countries By Foreign-Exchange Reserves', 'List Of Countries By Foreign Exchange Reserves'), ('Touch-Line', 'Touch Line'), ('Manly-Warringah Sea Eagles', 'Manly Warringah Sea Eagles'), ('Play-The-Ball', 'Play The Ball'), ('Lunokhod-1', 'Lunokhod 1'), ('Saint-Petersburg', 'Saint Petersburg'), ('North-Ossetia', 'North Ossetia'), ('Ice-Hockey', 'Ice Hockey'), ('Lee Lai-Shan', 'Lee Lai Shan'), ('Ksl-Tv', 'Ksl Tv'), ('Hokkaido Nippon-Ham Fighters', 'Hokkaido Nippon Ham Fighters'), ('Mid-Wales', 'Mid Wales'), ('Major-General', 'Major General'), ('Abu-Dhabi', 'Abu Dhabi'), ('Narrow-Gauge Railway', 'Narrow Gauge Railway'), ('Stockholm-Arlanda Airport', 'Stockholm Arlanda Airport'), ('Stockholm-Västerås Airport', 'Stockholm Västerås Airport'), ('Scorched-Earth', 'Scorched Earth'), ('South-Western Sydney', 'South Western Sydney'), ('Figure-Skater', 'Figure Skater'), ('Dang Ye-Seo', 'Dang Ye Seo'), ('Kim Kyung-Ah', 'Kim Kyung Ah'), ('Park Mi-Young', 'Park Mi Young'), ('Follow-On', 'Follow On'), ('Izu-Ōshima', 'Izu Ōshima'), ('Pierre-And-Marie-Curie University', 'Pierre And Marie Curie University'), ('Sciences-Po Paris', 'Sciences Po Paris'), ('Hong Un-Jong', 'Hong Un Jong'), ('Closed-Circuit Television', 'Closed Circuit Television'), ('Per-Arne Andersson', 'Per Arne Andersson'), ('Ho Bong-Chol', 'Ho Bong Chol'), ('French-Language', 'French Language'), ('Pan-American Masters Games', 'Pan American Masters Games'), ('Nation-States', 'Nation States')]\n"
          ]
        }
      ]
    },
    {
      "cell_type": "code",
      "source": [
        "print(\"{} nodes, {} edges\".format(len(og), nx.number_of_edges(og)))"
      ],
      "metadata": {
        "colab": {
          "base_uri": "https://localhost:8080/"
        },
        "id": "rJhWE43902_I",
        "outputId": "d9d2e10b-554b-4410-c03a-307337228196"
      },
      "execution_count": 32,
      "outputs": [
        {
          "output_type": "stream",
          "name": "stdout",
          "text": [
            "243388 nodes, 822086 edges\n"
          ]
        }
      ]
    },
    {
      "cell_type": "markdown",
      "source": [
        "#### 1.2.2 Truncando a rede"
      ],
      "metadata": {
        "id": "SubYZ1I5ua5V"
      }
    },
    {
      "cell_type": "code",
      "source": [
        "plt.style.use(\"default\")\n",
        "# degree sequence\n",
        "degree_sequence = sorted([d for n, d in og.degree()], reverse=True)\n",
        "\n",
        "fig, ax = plt.subplots(1,2,figsize=(8,4))\n",
        "\n",
        "# all_data has information about degree_sequence and the width of each bin\n",
        "ax[0].hist(degree_sequence)\n",
        "ax[1].hist(degree_sequence,bins=[1,2,3,4,5,6,7,8,9,10])\n",
        "\n",
        "ax[0].set_title(\"Degree Histogram\")\n",
        "ax[0].set_ylabel(\"Count\")\n",
        "ax[0].set_xlabel(\"Degree\")\n",
        "ax[0].set_ylim(0,15000)\n",
        "\n",
        "ax[1].set_title(\"Degree Histogram - Zoom\")\n",
        "ax[1].set_ylabel(\"Count\")\n",
        "ax[1].set_xlabel(\"Degree\")\n",
        "ax[1].set_xlim(0,10)\n",
        "ax[1].set_ylim(0,15000)\n",
        "\n",
        "plt.tight_layout()\n",
        "plt.show()"
      ],
      "metadata": {
        "colab": {
          "base_uri": "https://localhost:8080/",
          "height": 407
        },
        "id": "Drp_5swF2_yZ",
        "outputId": "84748bd2-bb4d-464a-99b8-5e3498da6f91"
      },
      "execution_count": 33,
      "outputs": [
        {
          "output_type": "display_data",
          "data": {
            "text/plain": [
              "<Figure size 800x400 with 2 Axes>"
            ],
            "image/png": "[encoded data removed]"
          },
          "metadata": {}
        }
      ]
    },
    {
      "cell_type": "code",
      "source": [
        "# filter nodes with degree greater than to 300\n",
        "core = [node for node, deg in dict(og.degree()).items() if deg > 300]\n",
        "\n",
        "# select a subgraph with 'core' nodes\n",
        "ogsub = nx.subgraph(og, core)\n",
        "\n",
        "print(\"{} nodes, {} edges\".format(len(ogsub), nx.number_of_edges(ogsub)))\n",
        "\n",
        "nx.write_graphml(ogsub, \"og.graphml\")"
      ],
      "metadata": {
        "colab": {
          "base_uri": "https://localhost:8080/"
        },
        "id": "yQbtYYXw1KTv",
        "outputId": "a5124ac4-c2d2-4e4f-caa7-2d8cbde64932"
      },
      "execution_count": 41,
      "outputs": [
        {
          "output_type": "stream",
          "name": "stdout",
          "text": [
            "1412 nodes, 214313 edges\n"
          ]
        }
      ]
    },
    {
      "cell_type": "markdown",
      "source": [
        "### 1.3 Nike, Inc."
      ],
      "metadata": {
        "id": "adUvSTI01X9f"
      }
    },
    {
      "cell_type": "code",
      "source": [
        "#https://en.wikipedia.org/wiki/Nike,_Inc.\n",
        "SEED = \"Nike, Inc\".title()"
      ],
      "metadata": {
        "id": "FDApMaX01fjl"
      },
      "execution_count": 4,
      "outputs": []
    },
    {
      "cell_type": "code",
      "source": [
        "todo_lst = [(0, SEED)] # The SEED is in the layer 0\n",
        "todo_set = set(SEED) # The SEED itself\n",
        "done_set = set() # Nothing is done yet"
      ],
      "metadata": {
        "id": "GkN16br01kxj"
      },
      "execution_count": 5,
      "outputs": []
    },
    {
      "cell_type": "code",
      "source": [
        "nike = nx.DiGraph()\n",
        "layer, page = todo_lst[0]"
      ],
      "metadata": {
        "id": "tzYdQew62LwO"
      },
      "execution_count": 6,
      "outputs": []
    },
    {
      "cell_type": "code",
      "source": [
        "%%time\n",
        "while layer < 2:\n",
        "  # Remove the name page of the current page from the todo_lst,\n",
        "  # and add it to the set of processed pages.\n",
        "  # If the script encounters this page again, it will skip over it.\n",
        "  del todo_lst[0]\n",
        "  done_set.add(page)\n",
        "\n",
        "  # Show progress\n",
        "  print(layer, page)\n",
        "\n",
        "  # Attempt to download the selected page.\n",
        "  try:\n",
        "    wiki = wikipedia.page(page)\n",
        "  except:\n",
        "    print(\"Could not load\", page)\n",
        "    layer, page = todo_lst[0]\n",
        "    continue\n",
        "\n",
        "  for link in wiki.links:\n",
        "    link = link.title()\n",
        "    if link is not link.startswith(\"List Of\"):\n",
        "      if link not in todo_set and link not in done_set:\n",
        "        todo_lst.append((layer + 1, link))\n",
        "        todo_set.add(link)\n",
        "      nike.add_edge(page, link)\n",
        "  layer, page = todo_lst[0]"
      ],
      "metadata": {
        "id": "9w0ET40R2PF0"
      },
      "execution_count": null,
      "outputs": []
    },
    {
      "cell_type": "code",
      "source": [
        "print(\"{} nodes, {} edges\".format(len(nike), nx.number_of_edges(nike)))"
      ],
      "metadata": {
        "colab": {
          "base_uri": "https://localhost:8080/"
        },
        "id": "dROoqVQT2U7G",
        "outputId": "186e99d1-311e-482b-9436-03eac4c20d73"
      },
      "execution_count": 8,
      "outputs": [
        {
          "output_type": "stream",
          "name": "stdout",
          "text": [
            "123507 nodes, 264161 edges\n"
          ]
        }
      ]
    },
    {
      "cell_type": "markdown",
      "source": [
        "#### 1.3.1 Pré-processamento dos dados"
      ],
      "metadata": {
        "id": "r4SHbNOL2ZoY"
      }
    },
    {
      "cell_type": "code",
      "source": [
        "# Fazendo uma cópia do grafo bruto\n",
        "original = nike.copy()"
      ],
      "metadata": {
        "id": "GI9LABop2Yvw"
      },
      "execution_count": 9,
      "outputs": []
    },
    {
      "cell_type": "code",
      "source": [
        "# remove self loops\n",
        "nike.remove_edges_from(nx.selfloop_edges(nike))\n",
        "\n",
        "# identify duplicates like that: 'network' and 'networks'\n",
        "duplicates = [(node, node + \"s\")\n",
        "              for node in nike if node + \"s\" in nike\n",
        "             ]\n",
        "\n",
        "for dup in duplicates:\n",
        "  # *dup is a technique named 'unpacking'\n",
        "  g = nx.contracted_nodes(nike, *dup, self_loops=False)\n",
        "\n",
        "print(duplicates)\n",
        "\n",
        "duplicates = [(x, y) for x, y in\n",
        "              [(node, node.replace(\"-\", \" \")) for node in nike]\n",
        "                if x != y and y in nike]\n",
        "print(duplicates)\n",
        "\n",
        "for dup in duplicates:\n",
        "  nike = nx.contracted_nodes(nike, *dup, self_loops=False)"
      ],
      "metadata": {
        "id": "Aiu5UR0I2k0W"
      },
      "execution_count": null,
      "outputs": []
    },
    {
      "cell_type": "code",
      "source": [
        "# nx.contracted creates a new node/edge attribute called contraction\n",
        "# the value of the attribute is a dictionary, but GraphML\n",
        "# does not support dictionary attributes\n",
        "nx.set_node_attributes(nike, 0,\"contraction\")\n",
        "nx.set_edge_attributes(nike, 0,\"contraction\")"
      ],
      "metadata": {
        "id": "iLGYfLByKKEI"
      },
      "execution_count": 17,
      "outputs": []
    },
    {
      "cell_type": "code",
      "source": [
        "print(\"{} nodes, {} edges\".format(len(nike), nx.number_of_edges(nike)))"
      ],
      "metadata": {
        "colab": {
          "base_uri": "https://localhost:8080/"
        },
        "id": "QHwoDXUm2rxT",
        "outputId": "4bdab1f4-efff-450f-e08f-33026e024974"
      },
      "execution_count": 11,
      "outputs": [
        {
          "output_type": "stream",
          "name": "stdout",
          "text": [
            "123409 nodes, 264059 edges\n"
          ]
        }
      ]
    },
    {
      "cell_type": "markdown",
      "source": [
        "#### 1.3.2 Truncando a rede"
      ],
      "metadata": {
        "id": "wi-pGCLQ20Nz"
      }
    },
    {
      "cell_type": "code",
      "source": [
        "plt.style.use(\"default\")\n",
        "# degree sequence\n",
        "degree_sequence = sorted([d for n, d in nike.degree()], reverse=True)\n",
        "\n",
        "fig, ax = plt.subplots(1,2,figsize=(8,4))\n",
        "\n",
        "# all_data has information about degree_sequence and the width of each bin\n",
        "ax[0].hist(degree_sequence)\n",
        "ax[1].hist(degree_sequence,bins=[1,2,3,4,5,6,7,8,9,10])\n",
        "\n",
        "ax[0].set_title(\"Degree Histogram\")\n",
        "ax[0].set_ylabel(\"Count\")\n",
        "ax[0].set_xlabel(\"Degree\")\n",
        "ax[0].set_ylim(0,15000)\n",
        "\n",
        "ax[1].set_title(\"Degree Histogram - Zoom\")\n",
        "ax[1].set_ylabel(\"Count\")\n",
        "ax[1].set_xlabel(\"Degree\")\n",
        "ax[1].set_xlim(0,10)\n",
        "ax[1].set_ylim(0,15000)\n",
        "\n",
        "plt.tight_layout()\n",
        "plt.show()"
      ],
      "metadata": {
        "colab": {
          "base_uri": "https://localhost:8080/",
          "height": 407
        },
        "id": "7rzo6M_322IQ",
        "outputId": "60c11c30-99cd-4b5b-f306-8d2c49039b1e"
      },
      "execution_count": 12,
      "outputs": [
        {
          "output_type": "display_data",
          "data": {
            "text/plain": [
              "<Figure size 800x400 with 2 Axes>"
            ],
            "image/png": "[encoded data removed]"
          },
          "metadata": {}
        }
      ]
    },
    {
      "cell_type": "code",
      "source": [
        "# filter nodes with degree greater than to 20\n",
        "core = [node for node, deg in dict(nike.degree()).items() if deg > 20]\n",
        "\n",
        "# select a subgraph with 'core' nodes\n",
        "nikesub = nx.subgraph(nike, core)\n",
        "\n",
        "print(\"{} nodes, {} edges\".format(len(nikesub), nx.number_of_edges(nikesub)))\n",
        "\n",
        "nx.write_graphml(nikesub, \"nike.graphml\")"
      ],
      "metadata": {
        "colab": {
          "base_uri": "https://localhost:8080/"
        },
        "id": "xow44xUb3LfD",
        "outputId": "4b7070f5-2ff8-41ca-d23a-a2bf91ea0f99"
      },
      "execution_count": 18,
      "outputs": [
        {
          "output_type": "stream",
          "name": "stdout",
          "text": [
            "971 nodes, 75637 edges\n"
          ]
        }
      ]
    },
    {
      "cell_type": "markdown",
      "source": [
        "### 1.4 Tissot"
      ],
      "metadata": {
        "id": "EoM2gypM3P3e"
      }
    },
    {
      "cell_type": "code",
      "source": [
        "#https://en.wikipedia.org/wiki/Tissot\n",
        "SEED = \"Tissot\".title()"
      ],
      "metadata": {
        "id": "MoBzyIV74Ont"
      },
      "execution_count": 19,
      "outputs": []
    },
    {
      "cell_type": "code",
      "source": [
        "todo_lst = [(0, SEED)] # The SEED is in the layer 0\n",
        "todo_set = set(SEED) # The SEED itself\n",
        "done_set = set() # Nothing is done yet"
      ],
      "metadata": {
        "id": "IxIOyv5W4T3z"
      },
      "execution_count": 20,
      "outputs": []
    },
    {
      "cell_type": "code",
      "source": [
        "tissot = nx.DiGraph()\n",
        "layer, page = todo_lst[0]"
      ],
      "metadata": {
        "id": "HWvt99764iYD"
      },
      "execution_count": 21,
      "outputs": []
    },
    {
      "cell_type": "code",
      "source": [
        "%%time\n",
        "while layer < 2:\n",
        "  # Remove the name page of the current page from the todo_lst,\n",
        "  # and add it to the set of processed pages.\n",
        "  # If the script encounters this page again, it will skip over it.\n",
        "  del todo_lst[0]\n",
        "  done_set.add(page)\n",
        "\n",
        "  # Show progress\n",
        "  print(layer, page)\n",
        "\n",
        "  # Attempt to download the selected page.\n",
        "  try:\n",
        "    wiki = wikipedia.page(page)\n",
        "  except:\n",
        "    print(\"Could not load\", page)\n",
        "    layer, page = todo_lst[0]\n",
        "    continue\n",
        "\n",
        "  for link in wiki.links:\n",
        "    link = link.title()\n",
        "    if link is not link.startswith(\"List Of\"):\n",
        "      if link not in todo_set and link not in done_set:\n",
        "        todo_lst.append((layer + 1, link))\n",
        "        todo_set.add(link)\n",
        "      tissot.add_edge(page, link)\n",
        "  layer, page = todo_lst[0]"
      ],
      "metadata": {
        "id": "pOh0aLHA4mVe"
      },
      "execution_count": null,
      "outputs": []
    },
    {
      "cell_type": "code",
      "source": [
        "print(\"{} nodes, {} edges\".format(len(tissot), nx.number_of_edges(tissot)))"
      ],
      "metadata": {
        "colab": {
          "base_uri": "https://localhost:8080/"
        },
        "id": "V-BjZDgF4pG8",
        "outputId": "4af16b45-7c99-42d9-a0c9-438079edcdc2"
      },
      "execution_count": 23,
      "outputs": [
        {
          "output_type": "stream",
          "name": "stdout",
          "text": [
            "19612 nodes, 23856 edges\n"
          ]
        }
      ]
    },
    {
      "cell_type": "markdown",
      "source": [
        "#### 1.4.1 Pré-processamento dos dados"
      ],
      "metadata": {
        "id": "VwbBy8kG4u4k"
      }
    },
    {
      "cell_type": "code",
      "source": [
        "# Fazendo uma cópia do grafo bruto\n",
        "original = tissot.copy()"
      ],
      "metadata": {
        "id": "otboymXN4uQp"
      },
      "execution_count": 26,
      "outputs": []
    },
    {
      "cell_type": "code",
      "source": [
        "# remove self loops\n",
        "tissot.remove_edges_from(nx.selfloop_edges(tissot))\n",
        "\n",
        "# identify duplicates like that: 'network' and 'networks'\n",
        "duplicates = [(node, node + \"s\")\n",
        "              for node in tissot if node + \"s\" in tissot\n",
        "             ]\n",
        "\n",
        "for dup in duplicates:\n",
        "  # *dup is a technique named 'unpacking'\n",
        "  g = nx.contracted_nodes(tissot, *dup, self_loops=False)\n",
        "\n",
        "print(duplicates)\n",
        "\n",
        "duplicates = [(x, y) for x, y in\n",
        "              [(node, node.replace(\"-\", \" \")) for node in tissot]\n",
        "                if x != y and y in tissot]\n",
        "print(duplicates)\n",
        "\n",
        "for dup in duplicates:\n",
        "  tissot = nx.contracted_nodes(tissot, *dup, self_loops=False)\n",
        "\n",
        "# nx.contracted creates a new node/edge attribute called contraction\n",
        "# the value of the attribute is a dictionary, but GraphML\n",
        "# does not support dictionary attributes\n",
        "nx.set_node_attributes(tissot, 0,\"contraction\")\n",
        "nx.set_edge_attributes(tissot, 0,\"contraction\")"
      ],
      "metadata": {
        "colab": {
          "base_uri": "https://localhost:8080/"
        },
        "id": "_vuYub7h44cM",
        "outputId": "14c10466-b5e9-49fd-f89e-30d2322788a0"
      },
      "execution_count": 25,
      "outputs": [
        {
          "output_type": "stream",
          "name": "stdout",
          "text": [
            "[('Academy Award', 'Academy Awards'), ('Golden Globe Award', 'Golden Globe Awards'), ('Rolling Stone', 'Rolling Stones'), ('Screen Actors Guild Award', 'Screen Actors Guild Awards'), ('Jiangsu Monkey King', 'Jiangsu Monkey Kings'), ('Nanjing Monkey King', 'Nanjing Monkey Kings'), ('Amphetamine', 'Amphetamines'), ('Grammy Award', 'Grammy Awards'), ('Hundred Flowers Award', 'Hundred Flowers Awards'), ('Bbc Sport', 'Bbc Sports'), ('Pocket Bike', 'Pocket Bikes'), ('Bivalve', 'Bivalves'), ('Cephalopod', 'Cephalopods'), ('Gastropod', 'Gastropods'), ('Owned-And-Operated Station', 'Owned-And-Operated Stations'), ('Primetime Emmy Award', 'Primetime Emmy Awards'), ('African American', 'African Americans'), ('Nelson Mandela Bridge', 'Nelson Mandela Bridges'), ('Merovingian', 'Merovingians'), ('Nuremberg Egg', 'Nuremberg Eggs'), ('Nandi Award', 'Nandi Awards'), ('Asset', 'Assets'), ('Velodrome', 'Velodromes')]\n",
            "[('Louis-Alexandre Berthier', 'Louis Alexandre Berthier'), ('Abraham-Louis Breguet', 'Abraham Louis Breguet'), ('English-Language', 'English Language'), ('Wicket-Keeper', 'Wicket Keeper')]\n"
          ]
        }
      ]
    },
    {
      "cell_type": "code",
      "source": [
        "print(\"{} nodes, {} edges\".format(len(tissot), nx.number_of_edges(tissot)))"
      ],
      "metadata": {
        "colab": {
          "base_uri": "https://localhost:8080/"
        },
        "id": "Ez3OhpJv4_V0",
        "outputId": "6cbcc76b-7fb4-4714-fe62-22d8921fa820"
      },
      "execution_count": 27,
      "outputs": [
        {
          "output_type": "stream",
          "name": "stdout",
          "text": [
            "19608 nodes, 23849 edges\n"
          ]
        }
      ]
    },
    {
      "cell_type": "markdown",
      "source": [
        "#### 1.4.2 Truncando a rede"
      ],
      "metadata": {
        "id": "RX4ZevJU5NyZ"
      }
    },
    {
      "cell_type": "code",
      "source": [
        "plt.style.use(\"default\")\n",
        "# degree sequence\n",
        "degree_sequence = sorted([d for n, d in tissot.degree()], reverse=True)\n",
        "\n",
        "fig, ax = plt.subplots(1,2,figsize=(8,4))\n",
        "\n",
        "# all_data has information about degree_sequence and the width of each bin\n",
        "ax[0].hist(degree_sequence)\n",
        "ax[1].hist(degree_sequence,bins=[1,2,3,4,5,6,7,8,9,10])\n",
        "\n",
        "ax[0].set_title(\"Degree Histogram\")\n",
        "ax[0].set_ylabel(\"Count\")\n",
        "ax[0].set_xlabel(\"Degree\")\n",
        "ax[0].set_ylim(0,15000)\n",
        "\n",
        "ax[1].set_title(\"Degree Histogram - Zoom\")\n",
        "ax[1].set_ylabel(\"Count\")\n",
        "ax[1].set_xlabel(\"Degree\")\n",
        "ax[1].set_xlim(0,10)\n",
        "ax[1].set_ylim(0,15000)\n",
        "\n",
        "plt.tight_layout()\n",
        "plt.show()"
      ],
      "metadata": {
        "colab": {
          "base_uri": "https://localhost:8080/",
          "height": 407
        },
        "id": "mPA6Bn6Q5Hf0",
        "outputId": "e3b49bea-3e93-442f-f44f-a66e83eed6bc"
      },
      "execution_count": 28,
      "outputs": [
        {
          "output_type": "display_data",
          "data": {
            "text/plain": [
              "<Figure size 800x400 with 2 Axes>"
            ],
            "image/png": "[encoded data removed]"
          },
          "metadata": {}
        }
      ]
    },
    {
      "cell_type": "code",
      "source": [
        "# filter nodes with degree greater than or equal to 2\n",
        "core = [node for node, deg in dict(tissot.degree()).items() if deg >= 2]\n",
        "\n",
        "# select a subgraph with 'core' nodes\n",
        "tissotsub = nx.subgraph(tissot, core)\n",
        "\n",
        "print(\"{} nodes, {} edges\".format(len(tissotsub), nx.number_of_edges(tissotsub)))\n",
        "\n",
        "nx.write_graphml(tissotsub, \"tissot.graphml\")"
      ],
      "metadata": {
        "colab": {
          "base_uri": "https://localhost:8080/"
        },
        "id": "GorZ6idB5b2u",
        "outputId": "aea8defc-8f92-4292-a4fa-1be748fa0772"
      },
      "execution_count": 30,
      "outputs": [
        {
          "output_type": "stream",
          "name": "stdout",
          "text": [
            "2600 nodes, 6841 edges\n"
          ]
        }
      ]
    }
  ]
}