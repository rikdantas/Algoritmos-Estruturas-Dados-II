{
  "nbformat": 4,
  "nbformat_minor": 0,
  "metadata": {
    "colab": {
      "provenance": [],
      "toc_visible": true,
      "authorship_tag": "ABX9TyOqnwrnO73PZ8caStIKw0Zp",
      "include_colab_link": true
    },
    "kernelspec": {
      "name": "python3",
      "display_name": "Python 3"
    },
    "language_info": {
      "name": "python"
    }
  },
  "cells": [
    {
      "cell_type": "markdown",
      "metadata": {
        "id": "view-in-github",
        "colab_type": "text"
      },
      "source": [
        "<a href=\"https://colab.research.google.com/github/rikdantas/Algoritmos-Estruturas-Dados-II/blob/main/week06/week06_T1U2.ipynb\" target=\"_parent\"><img src=\"https://colab.research.google.com/assets/colab-badge.svg\" alt=\"Open In Colab\"/></a>"
      ]
    },
    {
      "cell_type": "markdown",
      "source": [
        "# Unidade 2 Trabalho 1"
      ],
      "metadata": {
        "id": "r0sbTpJvacKk"
      }
    },
    {
      "cell_type": "code",
      "source": [
        "# Importando bibliotecas\n",
        "\n",
        "import networkx as nx\n",
        "%matplotlib inline"
      ],
      "metadata": {
        "id": "tzexkW6cci9x"
      },
      "execution_count": 1,
      "outputs": []
    },
    {
      "cell_type": "code",
      "execution_count": 11,
      "metadata": {
        "id": "2GxYt1q5aYvq"
      },
      "outputs": [],
      "source": [
        "Parts = nx.DiGraph()\n",
        "Parts.add_node('Breaks')\n",
        "Parts.add_node('Wildcore', Speed = 36, Cornering = 23, Power_Limit = 33, reliability = 22, avg_pit_stop = 0.59)\n",
        "Parts.add_edges_from([('Wildcore','Breaks')])"
      ]
    },
    {
      "cell_type": "code",
      "source": [
        "nx.draw(Parts, with_labels=True)"
      ],
      "metadata": {
        "colab": {
          "base_uri": "https://localhost:8080/",
          "height": 516
        },
        "id": "Erpl7RdXfM7G",
        "outputId": "d04a4e43-7c0b-446f-ff13-73bb0491997d"
      },
      "execution_count": 12,
      "outputs": [
        {
          "output_type": "display_data",
          "data": {
            "text/plain": [
              "<Figure size 640x480 with 1 Axes>"
            ],
            "image/png": "[encoded data removed]"
          },
          "metadata": {}
        }
      ]
    },
    {
      "cell_type": "code",
      "source": [
        "Parts.nodes.data()"
      ],
      "metadata": {
        "colab": {
          "base_uri": "https://localhost:8080/"
        },
        "id": "kD5L_1Vogwcq",
        "outputId": "9742834c-7523-4bec-a29d-1a56054c1287"
      },
      "execution_count": 13,
      "outputs": [
        {
          "output_type": "execute_result",
          "data": {
            "text/plain": [
              "NodeDataView({'Breaks': {}, 'Wildcore': {'Speed': 36, 'Cornering': 23, 'Power_Limit': 33, 'reliability': 22, 'avg_pit_stop': 0.59}})"
            ]
          },
          "metadata": {},
          "execution_count": 13
        }
      ]
    }
  ]
}