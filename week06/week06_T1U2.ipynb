{
  "nbformat": 4,
  "nbformat_minor": 0,
  "metadata": {
    "colab": {
      "provenance": [],
      "toc_visible": true,
      "include_colab_link": true
    },
    "kernelspec": {
      "name": "python3",
      "display_name": "Python 3"
    },
    "language_info": {
      "name": "python"
    }
  },
  "cells": [
    {
      "cell_type": "markdown",
      "metadata": {
        "id": "view-in-github",
        "colab_type": "text"
      },
      "source": [
        "<a href=\"https://colab.research.google.com/github/rikdantas/Algoritmos-Estruturas-Dados-II/blob/main/week06/week06_T1U2.ipynb\" target=\"_parent\"><img src=\"https://colab.research.google.com/assets/colab-badge.svg\" alt=\"Open In Colab\"/></a>"
      ]
    },
    {
      "cell_type": "markdown",
      "source": [
        "# Unidade 2 Trabalho 1\n",
        "### Aluno: Paulo Ricardo Dantas\n",
        "### Matrícula: 20230000789\n",
        "\n",
        "### Aluno: Ivamar Dantas Roque\n",
        "### Matrícula: 20230000608\n",
        "### Objetivo:\n",
        "**Aplicar o conhecimento adquirido sobre grafos/redes na Semana 05.**"
      ],
      "metadata": {
        "id": "r0sbTpJvacKk"
      }
    },
    {
      "cell_type": "markdown",
      "source": [
        "## Preparação inicial"
      ],
      "metadata": {
        "id": "uRpg9CzsmIlq"
      }
    },
    {
      "cell_type": "code",
      "source": [
        "# Importando bibliotecas\n",
        "\n",
        "import matplotlib.pyplot as plt\n",
        "import networkx as nx\n",
        "import numpy as np\n",
        "%matplotlib inline"
      ],
      "metadata": {
        "id": "tzexkW6cci9x"
      },
      "execution_count": 35,
      "outputs": []
    },
    {
      "cell_type": "code",
      "execution_count": 36,
      "metadata": {
        "id": "2GxYt1q5aYvq"
      },
      "outputs": [],
      "source": [
        "# O grafo maior vai ser o de Parts, nele vão estar incluido os setups, cada item do setup e seus respectivos atributos\n",
        "Parts = nx.DiGraph()\n",
        "\n",
        "# Adicionando os freios\n",
        "Parts.add_node('Breaks')\n",
        "Parts.add_node('Wildcore', Speed = 36, Cornering = 23, Power_Limit = 33, reliability = 22, avg_pit_stop = 0.59)\n",
        "Parts.add_node('Suspense', Speed = 20, Cornering = 32, Power_Limit = 23, reliability = 21, avg_pit_stop = 0.37)\n",
        "Parts.add_node('The Warden', Speed = 26, Cornering = 28, Power_Limit = 27, reliability = 25, avg_pit_stop = 0.43)\n",
        "Parts.add_node('Onyx', Speed = 26, Cornering = 23, Power_Limit = 25, reliability = 50, avg_pit_stop = 0.49)\n",
        "Parts.add_node('Axiom', Speed = 14, Cornering = 34, Power_Limit = 18, reliability = 15, avg_pit_stop = 0.67)\n",
        "Parts.add_node('Crisis SL', Speed = 27, Cornering = 16, Power_Limit = 18, reliability = 19, avg_pit_stop = 0.51)\n",
        "Parts.add_node('Essence', Speed = 14, Cornering = 13, Power_Limit = 12, reliability = 25, avg_pit_stop = 0.76)\n",
        "Parts.add_node('Starter Breaks', Speed = 1, Cornering = 1, Power_Limit = 1, reliability = 1, avg_pit_stop = 1.0)\n",
        "Parts.add_edges_from([('Wildcore','Breaks'),('Suspense','Breaks'),('The Warden','Breaks'),('Onyx','Breaks'),('Axiom','Breaks'),('Crisis SL','Breaks'),('Essence','Breaks'),('Starter Breaks','Breaks')])\n",
        "\n",
        "# Adicionando os câmbios\n",
        "Parts.add_node('Gearbox')\n",
        "Parts.add_node('Voyage', Speed = 23, Cornering = 28, Power_Limit = 22, reliability = 27, avg_pit_stop = 0)\n",
        "Parts.add_node('Vector', Speed = 24, Cornering = 38, Power_Limit = 22, reliability = 36, avg_pit_stop = 0.55)\n",
        "Parts.add_node('Kick Shift', Speed = 18, Cornering = 19, Power_Limit = 29, reliability = 19, avg_pit_stop = 0.45)\n",
        "Parts.add_node('Verdict', Speed = 33, Cornering = 18, Power_Limit = 20, reliability = 30, avg_pit_stop = 0.63)\n",
        "Parts.add_node('Spectrum', Speed = 20, Cornering = 25, Power_Limit = 21, reliability = 23, avg_pit_stop = 0.53)\n",
        "Parts.add_node('Swiftcharge', Speed = 14, Cornering = 23, Power_Limit = 22, reliability = 16, avg_pit_stop = 0.71)\n",
        "Parts.add_node('Switch-R-00', Speed = 12, Cornering = 13, Power_Limit = 11, reliability = 14, avg_pit_stop = 0.47)\n",
        "Parts.add_node('Starter Gearbox', Speed = 1, Cornering = 1, Power_Limit = 1, reliability = 1, avg_pit_stop = 1.0)\n",
        "Parts.add_edges_from([('Voyage','Gearbox'),('Vector','Gearbox'),('Kick Shift','Gearbox'),('Verdict','Gearbox'),('Spectrum','Gearbox'),('Swiftcharge','Gearbox'),('Switch-R-00','Gearbox'),('Starter Gearbox','Gearbox')])\n",
        "\n",
        "# Adicionando Asa Traseira\n",
        "Parts.add_node('Rear Wing')\n",
        "Parts.add_node('Typhoon', Speed = 50, Cornering = 27, Power_Limit = 26, reliability = 23, avg_pit_stop = 0.53)\n",
        "Parts.add_node('Transcendence', Speed = 24, Cornering = 22, Power_Limit = 36, reliability = 37, avg_pit_stop = 0.53)\n",
        "Parts.add_node('Free Flare', Speed = 21, Cornering = 33, Power_Limit = 20, reliability = 22, avg_pit_stop = 0.37)\n",
        "Parts.add_node('The Patron', Speed = 23, Cornering = 21, Power_Limit = 19, reliability = 37, avg_pit_stop = 0.61)\n",
        "Parts.add_node('The Wasp', Speed = 16, Cornering = 24, Power_Limit = 23, reliability = 14, avg_pit_stop = 0.69)\n",
        "Parts.add_node('The Matador', Speed = 19, Cornering = 16, Power_Limit = 18, reliability = 17, avg_pit_stop = 0.72)\n",
        "Parts.add_node('Phantom-X', Speed = 26, Cornering = 15, Power_Limit = 12, reliability = 11, avg_pit_stop = 0.76)\n",
        "Parts.add_node('Starter Rear Wing', Speed = 1, Cornering = 1, Power_Limit = 1, reliability = 1, avg_pit_stop = 1.0)\n",
        "Parts.add_edges_from([('Typhoon','Rear Wing'),('Transcendence','Rear Wing'),('Free Flare','Rear Wing'),('The Patron','Rear Wing'),('The Wasp','Rear Wing'),('The Matador','Rear Wing'),('Phantom-X','Rear Wing'),('Starter Rear Wing','Rear Wing')])\n",
        "\n",
        "#Adicionando Asa Dianteira\n",
        "Parts.add_node('Front Wing')\n",
        "Parts.add_node('Virtue', Speed = 23, Cornering = 50, Power_Limit = 27, reliability = 24, avg_pit_stop = 0.49)\n",
        "Parts.add_node('Thunderclap', Speed = 35, Cornering = 23, Power_Limit = 21, reliability = 33, avg_pit_stop = 0.55)\n",
        "Parts.add_node('Trailblazer', Speed = 21, Cornering = 23, Power_Limit = 42, reliability = 20, avg_pit_stop = 0.57)\n",
        "Parts.add_node('Zeno', Speed = 25, Cornering = 23, Power_Limit = 22, reliability = 26, avg_pit_stop = 0.53)\n",
        "Parts.add_node('The Vagabond', Speed = 31, Cornering = 20, Power_Limit = 23, reliability = 21, avg_pit_stop = 0.35)\n",
        "Parts.add_node('Feral Punch', Speed = 13, Cornering = 15, Power_Limit = 22, reliability = 21, avg_pit_stop = 0.73)\n",
        "Parts.add_node('The Scout', Speed = 13, Cornering = 27, Power_Limit = 15, reliability = 14, avg_pit_stop = 0.73)\n",
        "Parts.add_node('Starter Front Wing', Speed = 1, Cornering = 1, Power_Limit = 1, reliability = 1, avg_pit_stop = 1.0)\n",
        "Parts.add_edges_from([('Virtue','Front Wing'),('Thunderclap','Front Wing'),('Trailblazer','Front Wing'),('Zeno','Front Wing'),('The Vagabond','Front Wing'),('Feral Punch','Front Wing'),('The Scout','Front Wing'),('Starter Front Wing','Front Wing')])\n",
        "\n",
        "#Adicionando Suspensão\n",
        "Parts.add_node('Suspension')\n",
        "Parts.add_node('Sigma', Speed = 32, Cornering = 28, Power_Limit = 30, reliability = 29, avg_pit_stop = 0.39)\n",
        "Parts.add_node('Presence', Speed = 23, Cornering = 26, Power_Limit = 24, reliability = 22, avg_pit_stop = 0.20)\n",
        "Parts.add_node('Horizon', Speed = 22, Cornering = 36, Power_Limit = 24, reliability = 37, avg_pit_stop = 0.53)\n",
        "Parts.add_node('Radiance', Speed = 25, Cornering = 17, Power_Limit = 26, reliability = 19, avg_pit_stop = 0.65)\n",
        "Parts.add_node('Icon V3', Speed = 17, Cornering = 13, Power_Limit = 16, reliability = 23, avg_pit_stop = 0.54)\n",
        "Parts.add_node('Rodeo', Speed = 23, Cornering = 22, Power_Limit = 15, reliability = 14, avg_pit_stop = 0.69)\n",
        "Parts.add_node('The Equator', Speed = 20, Cornering = 19, Power_Limit = 18, reliability = 21, avg_pit_stop = 0.61)\n",
        "Parts.add_node('Starter Suspension', Speed = 1, Cornering = 1, Power_Limit = 1, reliability = 1, avg_pit_stop = 1.0)\n",
        "Parts.add_edges_from([('Sigma','Suspension'),('Presence','Suspension'),('Horizon','Suspension'),('Radiance','Suspension'),('Icon V3','Suspension'),('Rodeo','Suspension'),('The Equator','Suspension'),('Starter Suspension','Suspension')])\n",
        "\n",
        "#Adicionando Motor\n",
        "Parts.add_node('Engine')\n",
        "Parts.add_node('Cloudroar', Speed = 26, Cornering = 24, Power_Limit = 50, reliability = 27, avg_pit_stop = 0.55)\n",
        "Parts.add_node('Avalanche', Speed = 34, Cornering = 22, Power_Limit = 25, reliability = 21, avg_pit_stop = 0.35)\n",
        "Parts.add_node('The Rover', Speed = 27, Cornering = 25, Power_Limit = 28, reliability = 24, avg_pit_stop = 0.53)\n",
        "Parts.add_node('Twinburst', Speed = 16, Cornering = 29, Power_Limit = 18, reliability = 17, avg_pit_stop = 0.51)\n",
        "Parts.add_node('Enigma', Speed = 16, Cornering = 13, Power_Limit = 23, reliability = 25, avg_pit_stop = 0.69)\n",
        "Parts.add_node('Nova', Speed = 31, Cornering = 13, Power_Limit = 15, reliability = 16, avg_pit_stop = 0.71)\n",
        "Parts.add_node('Brute Force', Speed = 21, Cornering = 19, Power_Limit = 36, reliability = 18, avg_pit_stop = 0.63)\n",
        "Parts.add_node('Starter Engine', Speed = 1, Cornering = 1, Power_Limit = 1, reliability = 1, avg_pit_stop = 1.0)\n",
        "Parts.add_edges_from([('Cloudroar','Engine'),('Avalanche','Engine'),('The Rover','Engine'),('Twinburst','Engine'),('Enigma','Engine'),('Nova','Engine'),('Brute Force','Engine'),('Starter Engine','Engine')])"
      ]
    },
    {
      "cell_type": "markdown",
      "source": [
        "## Tarefa 1"
      ],
      "metadata": {
        "id": "O6P71st7e7yZ"
      }
    },
    {
      "cell_type": "code",
      "source": [
        "breaks_parts = {\n",
        "    'Wildcore': {'Speed': 36, 'Cornering': 23, 'Power_Unit': 33, 'reliability': 22, 'avg_pit_stop': 0.59},\n",
        "    'Suspense': {'Speed': 20, 'Cornering': 32, 'Power_Unit': 23, 'reliability': 21, 'avg_pit_stop': 0.37},\n",
        "    'The Warden': {'Speed': 26, 'Cornering': 28, 'Power_Unit': 27, 'reliability': 25, 'avg_pit_stop': 0.43},\n",
        "    'Onyx': {'Speed': 26, 'Cornering': 23, 'Power_Unit': 25, 'reliability': 50, 'avg_pit_stop': 0.49},\n",
        "    'Axiom': {'Speed': 14, 'Cornering': 34, 'Power_Unit': 18, 'reliability': 15, 'avg_pit_stop': 0.67},\n",
        "    'Crisis SL': {'Speed': 27, 'Cornering': 16, 'Power_Unit': 18, 'reliability': 19, 'avg_pit_stop': 0.51},\n",
        "    'Essence': {'Speed': 14, 'Cornering': 13, 'Power_Unit': 12, 'reliability': 25, 'avg_pit_stop': 0.76},\n",
        "    'Starter Breaks': {'Speed': 1, 'Cornering': 1, 'Power_Unit': 1, 'reliability': 1, 'avg_pit_stop': 1.0},\n",
        "}\n",
        "\n",
        "gearbox_parts = {\n",
        "    'Voyage': {'Speed': 23, 'Cornering': 28, 'Power_Unit': 22, 'reliability': 27, 'avg_pit_stop': 0},\n",
        "    'Vector': {'Speed': 24, 'Cornering': 38, 'Power_Unit': 22, 'reliability': 36, 'avg_pit_stop': 0.55},\n",
        "    'Kick Shift': {'Speed': 18, 'Cornering': 19, 'Power_Unit': 29, 'reliability': 19, 'avg_pit_stop': 0.45},\n",
        "    'Verdict': {'Speed': 33, 'Cornering': 18, 'Power_Unit': 20, 'reliability': 30, 'avg_pit_stop': 0.63},\n",
        "    'Spectrum': {'Speed': 20, 'Cornering': 25, 'Power_Unit': 21, 'reliability': 23, 'avg_pit_stop': 0.53},\n",
        "    'Swiftcharge': {'Speed': 14, 'Cornering': 23, 'Power_Unit': 22, 'reliability': 16, 'avg_pit_stop': 0.71},\n",
        "    'Switch-R-00': {'Speed': 12, 'Cornering': 13, 'Power_Unit': 11, 'reliability': 14, 'avg_pit_stop': 0.47},\n",
        "    'Starter Gearbox': {'Speed': 1, 'Cornering': 1, 'Power_Unit': 1, 'reliability': 1, 'avg_pit_stop': 1.0},\n",
        "}\n",
        "rear_wing_parts = {\n",
        "    'Typhoon': {'Speed': 50, 'Cornering': 27, 'Power_Unit': 26, 'reliability': 23, 'avg_pit_stop': 0.53},\n",
        "    'Transcendence': {'Speed': 24, 'Cornering': 22, 'Power_Unit': 36, 'reliability': 37, 'avg_pit_stop': 0.53},\n",
        "    'Free Flare': {'Speed': 21, 'Cornering': 33, 'Power_Unit': 20, 'reliability': 22, 'avg_pit_stop': 0.37},\n",
        "    'The Patron': {'Speed': 23, 'Cornering': 21, 'Power_Unit': 19, 'reliability': 37, 'avg_pit_stop': 0.61},\n",
        "    'The Wasp': {'Speed': 16, 'Cornering': 24, 'Power_Unit': 23, 'reliability': 14, 'avg_pit_stop': 0.69},\n",
        "    'The Matador': {'Speed': 19, 'Cornering': 16, 'Power_Unit': 18, 'reliability': 17, 'avg_pit_stop': 0.72},\n",
        "    'Phantom-X': {'Speed': 26, 'Cornering': 15, 'Power_Unit': 12, 'reliability': 11, 'avg_pit_stop': 0.76},\n",
        "    'Starter Rear Wing': {'Speed': 1, 'Cornering': 1, 'Power_Unit': 1, 'reliability': 1, 'avg_pit_stop': 1.0},\n",
        "}\n",
        "\n",
        "front_wing_parts = {\n",
        "    'Virtue': {'Speed': 23, 'Cornering': 50, 'Power_Unit': 27, 'reliability': 24, 'avg_pit_stop': 0.49},\n",
        "    'Thunderclap': {'Speed': 35, 'Cornering': 23, 'Power_Unit': 21, 'reliability': 33, 'avg_pit_stop': 0.55},\n",
        "    'Trailblazer': {'Speed': 21, 'Cornering': 23, 'Power_Unit': 42, 'reliability': 20, 'avg_pit_stop': 0.57},\n",
        "    'Zeno': {'Speed': 25, 'Cornering': 23, 'Power_Unit': 22, 'reliability': 26, 'avg_pit_stop': 0.53},\n",
        "    'The Vagabond': {'Speed': 31, 'Cornering': 20, 'Power_Unit': 23, 'reliability': 21, 'avg_pit_stop': 0.35},\n",
        "    'Feral Punch': {'Speed': 13, 'Cornering': 15, 'Power_Unit': 22, 'reliability': 21, 'avg_pit_stop': 0.73},\n",
        "    'The Scout': {'Speed': 13, 'Cornering': 27, 'Power_Unit': 15, 'reliability': 14, 'avg_pit_stop': 0.73},\n",
        "    'Starter Front Wing': {'Speed': 1, 'Cornering': 1, 'Power_Unit': 1, 'reliability': 1, 'avg_pit_stop': 1.0},\n",
        "}\n",
        "\n",
        "suspension_parts = {\n",
        "    'Sigma': {'Speed': 32, 'Cornering': 28, 'Power_Unit': 30, 'reliability': 29, 'avg_pit_stop': 0.39},\n",
        "    'Presence': {'Speed': 23, 'Cornering': 26, 'Power_Unit': 24, 'reliability': 22, 'avg_pit_stop': 0.20},\n",
        "    'Horizon': {'Speed': 22, 'Cornering': 36, 'Power_Unit': 24, 'reliability': 37, 'avg_pit_stop': 0.53},\n",
        "    'Radiance': {'Speed': 25, 'Cornering': 17, 'Power_Unit': 26, 'reliability': 19, 'avg_pit_stop': 0.65},\n",
        "    'Icon V3': {'Speed': 17, 'Cornering': 13, 'Power_Unit': 16, 'reliability': 23, 'avg_pit_stop': 0.54},\n",
        "    'Rodeo': {'Speed': 23, 'Cornering': 22, 'Power_Unit': 15, 'reliability': 14, 'avg_pit_stop': 0.69},\n",
        "    'The Equator': {'Speed': 20, 'Cornering': 19, 'Power_Unit': 18, 'reliability': 21, 'avg_pit_stop': 0.61},\n",
        "    'Starter Suspension': {'Speed': 1, 'Cornering': 1, 'Power_Unit': 1, 'reliability': 1, 'avg_pit_stop': 1.0},\n",
        "}\n",
        "\n",
        "engine_parts = {\n",
        "    'Cloudroar': {'Speed': 26, 'Cornering': 24, 'Power_Unit': 50, 'reliability': 27, 'avg_pit_stop': 0.55},\n",
        "    'Avalanche': {'Speed': 34, 'Cornering': 22, 'Power_Unit': 25, 'reliability': 21, 'avg_pit_stop': 0.35},\n",
        "    'The Rover': {'Speed': 27, 'Cornering': 25, 'Power_Unit': 28, 'reliability': 24, 'avg_pit_stop': 0.53},\n",
        "    'Twinburst': {'Speed': 16, 'Cornering': 29, 'Power_Unit': 18, 'reliability': 17, 'avg_pit_stop': 0.51},\n",
        "    'Enigma': {'Speed': 16, 'Cornering': 13, 'Power_Unit': 23, 'reliability': 25, 'avg_pit_stop': 0.69},\n",
        "    'Nova': {'Speed': 31, 'Cornering': 13, 'Power_Unit': 15, 'reliability': 16, 'avg_pit_stop': 0.71},\n",
        "    'Brute Force': {'Speed': 21, 'Cornering': 19, 'Power_Unit': 36, 'reliability': 18, 'avg_pit_stop': 0.63},\n",
        "    'Starter Engine': {'Speed': 1, 'Cornering': 1, 'Power_Unit': 1, 'reliability': 1, 'avg_pit_stop': 1.0},\n",
        "}\n",
        "\n",
        "# Dicionário para armazenar os Team Scores para cada combinação\n",
        "team_scores = {}\n",
        "\n",
        "# Itere sobre todas as combinações possíveis entre as partes\n",
        "for breaks_part, breaks_metrics in breaks_parts.items():\n",
        "    for gearbox_part, gearbox_metrics in gearbox_parts.items():\n",
        "        for rear_wing_part, rear_wing_metrics in rear_wing_parts.items():\n",
        "            for front_wing_part, front_wing_metrics in front_wing_parts.items():\n",
        "                for suspension_part, suspension_metrics in suspension_parts.items():\n",
        "                    for engine_part, engine_metrics in engine_parts.items():\n",
        "                        team_name = f\"Team Score ({breaks_part} - {gearbox_part} - {rear_wing_part} - {front_wing_part} - {suspension_part} - {engine_part})\"\n",
        "                        team_score = {}\n",
        "\n",
        "                        # Calcule o Team Score somando as métricas de todas as partes\n",
        "                        for metric in breaks_metrics.keys():\n",
        "                            total_metric_value = (\n",
        "                                breaks_metrics[metric] + gearbox_metrics[metric] +\n",
        "                                rear_wing_metrics[metric] + front_wing_metrics[metric] +\n",
        "                                suspension_metrics[metric] + engine_metrics[metric]\n",
        "                            )\n",
        "                            team_score[metric] = total_metric_value\n",
        "\n",
        "                        # Adicione o Team Score calculado ao dicionário de pontuações da equipe\n",
        "                        team_scores[team_name] = team_score\n",
        "\n",
        "# Agora temos cada possível combinação\n",
        "print(len(team_scores))"
      ],
      "metadata": {
        "id": "-3o3BG3ue2hB",
        "outputId": "2b3b6828-2904-4709-f9ba-0f27f6d6a673",
        "colab": {
          "base_uri": "https://localhost:8080/"
        }
      },
      "execution_count": 37,
      "outputs": [
        {
          "output_type": "stream",
          "name": "stdout",
          "text": [
            "262144\n"
          ]
        }
      ]
    },
    {
      "cell_type": "code",
      "source": [
        "# Crie uma nova lista para armazenar as pontuações calculadas\n",
        "team_scores_pontuacao = {}\n",
        "\n",
        "# Itere sobre os Team Scores existentes e calcule a pontuação desejada\n",
        "for team_name, metrics in team_scores.items():\n",
        "    speed = metrics['Speed']\n",
        "    cornering = metrics['Cornering']\n",
        "    power_unit = metrics['Power_Unit']\n",
        "    reliability = metrics['reliability']\n",
        "    avg_pit_stop = metrics['avg_pit_stop']\n",
        "\n",
        "    # Calcule a pontuação desejada\n",
        "    pontuacao = speed + cornering + power_unit + reliability + (avg_pit_stop / 0.02)\n",
        "\n",
        "    # Adicione a pontuação ao dicionário team_scores_pontuacao\n",
        "    team_scores_pontuacao[team_name] = pontuacao\n",
        "\n",
        "# Depois desse passo, as pontuações estão calculadas de acordo com o slide"
      ],
      "metadata": {
        "id": "GhyQsxfAfPgQ"
      },
      "execution_count": 38,
      "outputs": []
    },
    {
      "cell_type": "markdown",
      "source": [
        "### Histograma"
      ],
      "metadata": {
        "id": "IyBWPAjofzbr"
      }
    },
    {
      "cell_type": "code",
      "source": [
        "pontuacoes = list(team_scores_pontuacao.values())\n",
        "\n",
        "# Crie um histograma\n",
        "plt.hist(pontuacoes, bins=50, edgecolor='k')\n",
        "plt.xlabel('Pontuação')\n",
        "plt.ylabel('Frequência')\n",
        "plt.title('Histograma das Pontuações')\n",
        "\n",
        "# Calcule os quartis\n",
        "quartis = np.percentile(pontuacoes, [25, 50, 75])\n",
        "\n",
        "# Calcule o limite para reduzir as configurações possíveis (por exemplo, usando o primeiro quartil)\n",
        "limite_reducao = quartis[2]\n",
        "\n",
        "plt.axvline(x=limite_reducao, color='r', linestyle='--', label=f'Limite de Redução: {limite_reducao:.2f}')\n",
        "plt.legend()\n",
        "\n",
        "plt.show()"
      ],
      "metadata": {
        "id": "KooPPM9Efy0b",
        "outputId": "1d8c8c18-f1b1-421a-a7d1-4b0642045e9e",
        "colab": {
          "base_uri": "https://localhost:8080/",
          "height": 472
        }
      },
      "execution_count": 39,
      "outputs": [
        {
          "output_type": "display_data",
          "data": {
            "text/plain": [
              "<Figure size 640x480 with 1 Axes>"
            ],
            "image/png": "[encoded data removed]"
          },
          "metadata": {}
        }
      ]
    },
    {
      "cell_type": "markdown",
      "source": [
        "Foi usado o terceiro quartil, pois como nossa motivação é ver quais são as melhores combinações de equipamentos, as combinações que estão mais a esquerda do gráfico são as de menor valor de pontuação, assim podendo ser desconsideradas."
      ],
      "metadata": {
        "id": "KwGibFBqgInU"
      }
    },
    {
      "cell_type": "markdown",
      "source": [
        "## Tarefa 2\n",
        "A primeira etapa vai ser aplicar o filtro implementado la no histograma, que basicamente vai consistir em remover os setups que tiverem um team score menor que 721"
      ],
      "metadata": {
        "id": "7TREwQtkJVcU"
      }
    },
    {
      "cell_type": "code",
      "source": [
        "# Criando uma cópia do dicionário original\n",
        "team_scores_pontuacao_filtrado = team_scores_pontuacao.copy()\n",
        "\n",
        "# Percorra o dicionário e remova os itens que estejam abaixo do terceiro quartil\n",
        "for chave, valor in team_scores_pontuacao.items():\n",
        "    if valor < 721:\n",
        "        del team_scores_pontuacao_filtrado[chave]\n",
        "\n",
        "len(team_scores_pontuacao_filtrado)"
      ],
      "metadata": {
        "id": "px1T44zxJcHg",
        "outputId": "15370b51-cf33-4e06-e6c9-28e7925336a9",
        "colab": {
          "base_uri": "https://localhost:8080/"
        }
      },
      "execution_count": 41,
      "outputs": [
        {
          "output_type": "execute_result",
          "data": {
            "text/plain": [
              "64820"
            ]
          },
          "metadata": {},
          "execution_count": 41
        }
      ]
    },
    {
      "cell_type": "markdown",
      "source": [
        "Como pode ser visto acima, o número de cobinações foi reduzido drasticamente."
      ],
      "metadata": {
        "id": "xjGa9t4RXRbz"
      }
    }
  ]
}